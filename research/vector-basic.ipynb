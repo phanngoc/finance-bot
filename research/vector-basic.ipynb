{
 "cells": [
  {
   "cell_type": "markdown",
   "metadata": {},
   "source": [
    "# Extract thông tin tài chính từ tin tức dùng VectorStoreIndex base\n",
    "\n",
    "Để đánh giá tình hình tài chính của một công ty, một trong những nguồn thông tin quan trọng là các bài báo, tin tức về công ty đó. Tuy nhiên, việc đọc và tổng hợp thông tin từ các bài báo là một công việc tốn thời gian và công sức. Trong bài toán này, chúng ta sẽ xây dựng một mô hình để tự động trích xuất thông tin tài chính từ các bài báo về công ty.\n",
    "\n",
    "```\n",
    "{công ty A} => {có_lợi_nhuận, không_có_lợi_nhuận, lợi_nhuận_tăng, lợi_nhuận_giảm, v.v.} => {tiền_tệ, số_tiền, v.v.}\n",
    "```"
   ]
  },
  {
   "cell_type": "markdown",
   "metadata": {},
   "source": [
    "https://neo4j.com/labs/genai-ecosystem/llamaindex/\n"
   ]
  },
  {
   "cell_type": "code",
   "execution_count": 1,
   "metadata": {},
   "outputs": [
    {
     "name": "stdout",
     "output_type": "stream",
     "text": [
      "Requirement already satisfied: python-dotenv in /Users/ngocp/Documents/projects/finance-bot/.venv/lib/python3.10/site-packages (1.0.1)\n",
      "Note: you may need to restart the kernel to use updated packages.\n"
     ]
    }
   ],
   "source": [
    "from dotenv import load_dotenv\n",
    "import os\n",
    "from llama_index.llms.openai import OpenAI\n",
    "from llama_index.embeddings.openai import OpenAIEmbedding\n",
    "from llama_index.core import Settings\n",
    "\n",
    "import nest_asyncio\n",
    "nest_asyncio.apply()\n",
    "# Install the python-dotenv package if not already installed\n",
    "%pip install python-dotenv\n",
    "\n",
    "# Load the .env file\n",
    "\n",
    "load_dotenv('../.env')\n",
    "\n",
    "# Access the OpenAI key\n",
    "openai_key = os.getenv(\"OPENAI_API_KEY\")\n",
    "\n",
    "llm = OpenAI(model=\"gpt-4o-mini\", api_key=openai_key)\n",
    "embed_model = OpenAIEmbedding(model=\"text-embedding-3-small\")\n",
    "\n",
    "Settings.llm = llm\n",
    "Settings.embed_model = embed_model\n",
    "\n",
    "FOLDER_DATA = \"../data/bao-chi\""
   ]
  },
  {
   "cell_type": "code",
   "execution_count": 2,
   "metadata": {},
   "outputs": [
    {
     "name": "stdout",
     "output_type": "stream",
     "text": [
      "length of documents: 24\n",
      "documents: Doc ID: 420af5a2-8901-49ad-b40a-4a9b26fd2db4\n",
      "Text: Khối ngoại bất ngờ có tuần bán ròng hơn 2.000 tỷ, cổ phiếu “đại\n",
      "gia” công nghệ số 1 Việt Nam dẫn đầu danh sách xả hàng\n"
     ]
    }
   ],
   "source": [
    "from llama_index.core import SimpleDirectoryReader\n",
    "from llama_index.core import PropertyGraphIndex\n",
    "from llama_index.embeddings.openai import OpenAIEmbedding\n",
    "from llama_index.llms.openai import OpenAI\n",
    "\n",
    "from llama_index.graph_stores.neo4j import Neo4jPropertyGraphStore\n",
    "\n",
    "documents = SimpleDirectoryReader(FOLDER_DATA).load_data()\n",
    "print(\"length of documents:\", len(documents))\n",
    "print('documents:', documents[1])\n",
    "\n"
   ]
  },
  {
   "cell_type": "code",
   "execution_count": 4,
   "metadata": {},
   "outputs": [],
   "source": [
    "from llama_index.core import VectorStoreIndex\n",
    "\n",
    "vector_index = VectorStoreIndex(documents, embed_model)\n",
    "query_engine = vector_index.as_query_engine()"
   ]
  },
  {
   "cell_type": "code",
   "execution_count": 5,
   "metadata": {},
   "outputs": [
    {
     "name": "stdout",
     "output_type": "stream",
     "text": [
      "Question: lãi sau thuế của Chứng khoán LPBank ?\n",
      "Expected Answer: Tăng 275% so với cùng kỳ năm trước\n",
      "Actual Answer: Lãi sau thuế của Chứng khoán LPBank đạt 33 tỷ đồng trong quý 3/2024, tăng 275% so với cùng kỳ năm trước.\n",
      "\n",
      "Question: thu gom cố phiếu MSN?\n",
      "Expected Answer: Khối ngoại cũng giải ngân mua ròng 179 tỷ tại cổ phiếu MSN\n",
      "Actual Answer: Cổ phiếu MSN đã thu hút dòng vốn khối ngoại với mức mua ròng 179 tỷ đồng trong tuần qua.\n",
      "\n",
      "Question: Doanh thu Bia Sài Gòn - Quảng Ngãi (BSQ) trong BCTC quý 3/2024 ?\n",
      "Expected Answer: Bia Sài Gòn - Quảng Ngãi (BSQ) ghi nhận doanh thu 418 tỷ đồng\n",
      "Actual Answer: Doanh thu của Bia Sài Gòn - Quảng Ngãi (BSQ) trong BCTC quý 3/2024 ghi nhận là 418 tỷ đồng, giảm hơn 1% so với năm trước.\n",
      "\n",
      "Question: Lực mua ròng các cổ phiếu nào ?\n",
      "Expected Answer: ACV', 'YEG', 'TCB', 'TPB', 'MWG'\n",
      "Actual Answer: Lực mua ròng ghi nhận tại các cổ phiếu STB, MSN, NTL, ACV, YEG, TCB, TPB, và MWG trong tuần qua.\n",
      "\n",
      "Question: VEFAC là công ty con của ?\n",
      "Expected Answer: VIC\n",
      "Actual Answer: VEFAC là công ty con do Vingroup sở hữu đến hơn 83% vốn.\n",
      "\n"
     ]
    }
   ],
   "source": [
    "test_pairs = [\n",
    "    (\"lãi sau thuế của Chứng khoán LPBank ?\", \"Tăng 275% so với cùng kỳ năm trước\"),\n",
    "    (\"thu gom cố phiếu MSN?\", \"Khối ngoại cũng giải ngân mua ròng 179 tỷ tại cổ phiếu MSN\"),\n",
    "    (\"Doanh thu Bia Sài Gòn - Quảng Ngãi (BSQ) trong BCTC quý 3/2024 ?\", \"Bia Sài Gòn - Quảng Ngãi (BSQ) ghi nhận doanh thu 418 tỷ đồng\"),\n",
    "    (\"Lực mua ròng các cổ phiếu nào ?\", \"ACV', 'YEG', 'TCB', 'TPB', 'MWG'\"),\n",
    "    (\"VEFAC là công ty con của ?\", \"VIC\")\n",
    "]\n",
    "\n",
    "for question, expected_answer in test_pairs:\n",
    "    response = query_engine.query(question)\n",
    "    print(f\"Question: {question}\")\n",
    "    print(f\"Expected Answer: {expected_answer}\")\n",
    "    print(f\"Actual Answer: {response.response}\")\n",
    "    print()"
   ]
  },
  {
   "cell_type": "markdown",
   "metadata": {},
   "source": [
    "## Kết luận.\n",
    "\n",
    "Hóa ra loại cơ bản nhất lại chính xác nhất :v"
   ]
  }
 ],
 "metadata": {
  "kernelspec": {
   "display_name": ".venv",
   "language": "python",
   "name": "python3"
  },
  "language_info": {
   "codemirror_mode": {
    "name": "ipython",
    "version": 3
   },
   "file_extension": ".py",
   "mimetype": "text/x-python",
   "name": "python",
   "nbconvert_exporter": "python",
   "pygments_lexer": "ipython3",
   "version": "3.10.3"
  }
 },
 "nbformat": 4,
 "nbformat_minor": 2
}
