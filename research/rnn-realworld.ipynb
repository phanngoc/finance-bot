{
 "cells": [
  {
   "cell_type": "code",
   "execution_count": 1,
   "metadata": {},
   "outputs": [],
   "source": [
    "import torch\n",
    "import torch.nn as nn\n",
    "import torch.nn.functional as F\n",
    "\n",
    "class SentimentRNN(nn.Module):\n",
    "    def __init__(self, vocab_size, embedding_dim, hidden_size, num_layers):\n",
    "        super(SentimentRNN, self).__init__()\n",
    "        \n",
    "        self.embedding = nn.Embedding(vocab_size, embedding_dim)\n",
    "        self.lstm = nn.LSTM(embedding_dim, hidden_size, num_layers, \n",
    "                           batch_first=True, dropout=0.2)\n",
    "        self.fc = nn.Linear(hidden_size, 1)\n",
    "        \n",
    "    def forward(self, x, hidden):\n",
    "        # x shape: (batch_size, sequence_length)\n",
    "        embeds = self.embedding(x)\n",
    "        lstm_out, hidden = self.lstm(embeds, hidden)\n",
    "        lstm_out = lstm_out[:, -1, :]  # Get last time step output\n",
    "        out = self.fc(lstm_out)\n",
    "        return out, hidden\n",
    "    \n",
    "    def init_hidden(self, batch_size):\n",
    "        h0 = torch.zeros(self.lstm.num_layers, batch_size, self.lstm.hidden_size)\n",
    "        c0 = torch.zeros(self.lstm.num_layers, batch_size, self.lstm.hidden_size)\n",
    "        return (h0, c0)\n",
    "\n",
    "# Example usage\n",
    "vocab_size = 10000\n",
    "embedding_dim = 100\n",
    "hidden_size = 256\n",
    "num_layers = 2\n",
    "\n",
    "model = SentimentRNN(vocab_size, embedding_dim, hidden_size, num_layers)\n"
   ]
  },
  {
   "cell_type": "code",
   "execution_count": 8,
   "metadata": {},
   "outputs": [
    {
     "name": "stdout",
     "output_type": "stream",
     "text": [
      "sample shape: torch.Size([16, 50])\n",
      "hidden shape: torch.Size([2, 16, 256])\n",
      "output shape: torch.Size([16, 1])\n"
     ]
    }
   ],
   "source": [
    "\n",
    "# Sample input (batch of sequences of word indices)\n",
    "batch_size = 16\n",
    "sequence_length = 50\n",
    "sample_input = torch.randint(0, vocab_size, (batch_size, sequence_length))\n",
    "print('sample shape:', sample_input.shape)\n",
    "hidden = model.init_hidden(batch_size)\n",
    "print('hidden shape:', hidden[0].shape)\n",
    "# Get predictions\n",
    "output, hidden = model(sample_input, hidden)\n",
    "print('output shape:', output.shape)\n",
    "predictions = torch.sigmoid(output)  # Convert to probabilities"
   ]
  },
  {
   "cell_type": "code",
   "execution_count": 5,
   "metadata": {},
   "outputs": [
    {
     "name": "stdout",
     "output_type": "stream",
     "text": [
      "torch.Size([16, 1]) <built-in method size of Tensor object at 0x105981260>\n",
      "tensor([[0.4921],\n",
      "        [0.5000],\n",
      "        [0.4931],\n",
      "        [0.4984],\n",
      "        [0.4969],\n",
      "        [0.4916],\n",
      "        [0.4978],\n",
      "        [0.4926],\n",
      "        [0.4984],\n",
      "        [0.4938],\n",
      "        [0.4961],\n",
      "        [0.4941],\n",
      "        [0.4907],\n",
      "        [0.4921],\n",
      "        [0.4991],\n",
      "        [0.4981]], grad_fn=<SigmoidBackward0>)\n"
     ]
    }
   ],
   "source": [
    "print(predictions.shape, output.size)\n",
    "print(predictions)"
   ]
  },
  {
   "cell_type": "code",
   "execution_count": null,
   "metadata": {},
   "outputs": [],
   "source": []
  }
 ],
 "metadata": {
  "kernelspec": {
   "display_name": ".venv",
   "language": "python",
   "name": "python3"
  },
  "language_info": {
   "codemirror_mode": {
    "name": "ipython",
    "version": 3
   },
   "file_extension": ".py",
   "mimetype": "text/x-python",
   "name": "python",
   "nbconvert_exporter": "python",
   "pygments_lexer": "ipython3",
   "version": "3.10.3"
  }
 },
 "nbformat": 4,
 "nbformat_minor": 2
}
