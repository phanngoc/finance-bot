{
 "cells": [
  {
   "cell_type": "markdown",
   "metadata": {},
   "source": [
    "# Spacy text to sql"
   ]
  },
  {
   "cell_type": "code",
   "execution_count": null,
   "metadata": {},
   "outputs": [],
   "source": [
    "import spacy\n",
    "from openai import OpenAI\n",
    "\n",
    "\n",
    "\n",
    "# Load spaCy model\n",
    "nlp = spacy.load(\"en_core_web_md\")  # 'md' model provides vectors for similarity\n",
    "\n",
    "# Define schema terms\n",
    "schema = {\n",
    "    \"customers\": [\"customer_id\", \"name\", \"email\", \"location\"],\n",
    "    \"orders\": [\"order_id\", \"customer_id\", \"product_id\", \"quantity\", \"order_date\"],\n",
    "    \"products\": [\"product_id\", \"name\", \"price\"]\n",
    "}\n",
    "\n",
    "# Flatten the schema for matching\n",
    "schema_terms = []\n",
    "for table, columns in schema.items():\n",
    "    schema_terms.append(table)\n",
    "    schema_terms.extend([f\"{table}.{col}\" for col in columns])\n"
   ]
  },
  {
   "cell_type": "code",
   "execution_count": 12,
   "metadata": {},
   "outputs": [],
   "source": [
    "import os\n",
    "from dotenv import load_dotenv\n",
    "\n",
    "load_dotenv('../.env')\n",
    "\n",
    "# Access the OpenAI key\n",
    "openai_key = os.getenv(\"OPENAI_API_KEY\")\n",
    "client = OpenAI()\n"
   ]
  },
  {
   "cell_type": "code",
   "execution_count": 13,
   "metadata": {},
   "outputs": [],
   "source": [
    "def get_relevant_items_spacy(query, top_k=3):\n",
    "    # Parse query with spaCy\n",
    "    query_doc = nlp(query)\n",
    "\n",
    "    # Calculate similarity between query and schema terms\n",
    "    relevance_scores = []\n",
    "    for term in schema_terms:\n",
    "        schema_doc = nlp(term)\n",
    "        score = query_doc.similarity(schema_doc)\n",
    "        relevance_scores.append((term, score))\n",
    "    \n",
    "    # Sort terms by relevance score\n",
    "    relevance_scores = sorted(relevance_scores, key=lambda x: x[1], reverse=True)\n",
    "    \n",
    "    # Get top-k relevant terms\n",
    "    relevant_items = relevance_scores[:top_k]\n",
    "    return relevant_items"
   ]
  },
  {
   "cell_type": "code",
   "execution_count": 16,
   "metadata": {},
   "outputs": [],
   "source": [
    "def generate_sql_query_spacy(query):\n",
    "    # Get top relevant schema items\n",
    "    relevant_items = get_relevant_items_spacy(query)\n",
    "    \n",
    "    # Construct prompt with relevant schema items\n",
    "    relevant_schema_text = \"\\n\".join([f\"- {item[0]}\" for item in relevant_items])\n",
    "    prompt = (\n",
    "        f\"Given the following SQL database schema and the query request, generate an SQL query.\\n\\n\"\n",
    "        f\"Schema:\\n{relevant_schema_text}\\n\\n\"\n",
    "        f\"Query request: {query}\\n\\n\"\n",
    "        \"SQL Query:\"\n",
    "    )\n",
    "\n",
    "    completion = client.chat.completions.create(\n",
    "        model=\"gpt-4o-mini\",\n",
    "        messages=[\n",
    "            {\"role\": \"system\", \"content\": prompt},\n",
    "            {\n",
    "                \"role\": \"user\",\n",
    "                \"content\": \"Write sql for developer\"\n",
    "            }\n",
    "        ]\n",
    "    )\n",
    "\n",
    "    # Extract and return SQL query from response\n",
    "    sql_query = completion.choices[0].message\n",
    "    return sql_query\n"
   ]
  },
  {
   "cell_type": "code",
   "execution_count": 17,
   "metadata": {},
   "outputs": [
    {
     "name": "stderr",
     "output_type": "stream",
     "text": [
      "/var/folders/g6/37kt02914kx36yzcbbqfyck00000gn/T/ipykernel_5520/139854315.py:9: UserWarning: [W008] Evaluating Doc.similarity based on empty vectors.\n",
      "  score = query_doc.similarity(schema_doc)\n"
     ]
    },
    {
     "name": "stdout",
     "output_type": "stream",
     "text": [
      "Generated SQL Query: ChatCompletionMessage(content=\"Here’s an SQL query to show all orders placed by customers in New York:\\n\\n```sql\\nSELECT\\n    o.* \\nFROM\\n    orders o\\nJOIN\\n    customers c ON o.customer_id = c.customer_id\\nWHERE\\n    c.city = 'New York';\\n```\\n\\nIn this query:\\n- We're selecting all columns from the `orders` table (`o.*`).\\n- We're joining the `orders` table with the `customers` table on the `customer_id` field.\\n- We're filtering the results to only include customers whose city is 'New York'.\", refusal=None, role='assistant', audio=None, function_call=None, tool_calls=None)\n"
     ]
    }
   ],
   "source": [
    "# Example query\n",
    "query = \"Show me all orders placed by customers in New York\"\n",
    "sql_query = generate_sql_query_spacy(query)\n",
    "print(\"Generated SQL Query:\", sql_query)"
   ]
  }
 ],
 "metadata": {
  "kernelspec": {
   "display_name": ".venv",
   "language": "python",
   "name": "python3"
  },
  "language_info": {
   "codemirror_mode": {
    "name": "ipython",
    "version": 3
   },
   "file_extension": ".py",
   "mimetype": "text/x-python",
   "name": "python",
   "nbconvert_exporter": "python",
   "pygments_lexer": "ipython3",
   "version": "3.10.3"
  }
 },
 "nbformat": 4,
 "nbformat_minor": 2
}
