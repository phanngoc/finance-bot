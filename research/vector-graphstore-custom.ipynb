{
 "cells": [
  {
   "cell_type": "markdown",
   "metadata": {},
   "source": [
    "# Extract thông tin tài chính từ tin tức.\n",
    "\n",
    "Để đánh giá tình hình tài chính của một công ty, một trong những nguồn thông tin quan trọng là các bài báo, tin tức về công ty đó. Tuy nhiên, việc đọc và tổng hợp thông tin từ các bài báo là một công việc tốn thời gian và công sức. Trong bài toán này, chúng ta sẽ xây dựng một mô hình để tự động trích xuất thông tin tài chính từ các bài báo về công ty.\n",
    "\n",
    "```\n",
    "{công ty A} => {có_lợi_nhuận, không_có_lợi_nhuận, lợi_nhuận_tăng, lợi_nhuận_giảm, v.v.} => {tiền_tệ, số_tiền, v.v.}\n",
    "```"
   ]
  },
  {
   "cell_type": "markdown",
   "metadata": {},
   "source": [
    "https://neo4j.com/labs/genai-ecosystem/llamaindex/\n"
   ]
  },
  {
   "cell_type": "code",
   "execution_count": 1,
   "metadata": {},
   "outputs": [
    {
     "name": "stdout",
     "output_type": "stream",
     "text": [
      "Requirement already satisfied: python-dotenv in /Users/ngocp/Documents/projects/finance-bot/.venv/lib/python3.10/site-packages (1.0.1)\n",
      "Note: you may need to restart the kernel to use updated packages.\n"
     ]
    }
   ],
   "source": [
    "from dotenv import load_dotenv\n",
    "import os\n",
    "from llama_index.llms.openai import OpenAI\n",
    "from llama_index.embeddings.openai import OpenAIEmbedding\n",
    "from llama_index.core import Settings\n",
    "\n",
    "import nest_asyncio\n",
    "nest_asyncio.apply()\n",
    "# Install the python-dotenv package if not already installed\n",
    "%pip install python-dotenv\n",
    "\n",
    "# Load the .env file\n",
    "\n",
    "load_dotenv('../.env')\n",
    "\n",
    "# Access the OpenAI key\n",
    "openai_key = os.getenv(\"OPENAI_API_KEY\")\n",
    "\n",
    "llm = OpenAI(model=\"gpt-4o-mini\", api_key=openai_key)\n",
    "embed_model = OpenAIEmbedding(model=\"text-embedding-3-small\")\n",
    "\n",
    "Settings.llm = llm\n",
    "Settings.embed_model = embed_model\n",
    "\n",
    "FOLDER_DATA = \"../data/bao-chi\""
   ]
  },
  {
   "cell_type": "code",
   "execution_count": 2,
   "metadata": {},
   "outputs": [
    {
     "name": "stdout",
     "output_type": "stream",
     "text": [
      "length of documents: 24\n",
      "documents: Doc ID: dba4f0a5-fe01-47e5-a0d4-3b71470e0401\n",
      "Text: Khối ngoại bất ngờ có tuần bán ròng hơn 2.000 tỷ, cổ phiếu “đại\n",
      "gia” công nghệ số 1 Việt Nam dẫn đầu danh sách xả hàng\n"
     ]
    }
   ],
   "source": [
    "from llama_index.core import SimpleDirectoryReader\n",
    "from llama_index.core import PropertyGraphIndex\n",
    "from llama_index.embeddings.openai import OpenAIEmbedding\n",
    "from llama_index.llms.openai import OpenAI\n",
    "\n",
    "from llama_index.graph_stores.neo4j import Neo4jPropertyGraphStore\n",
    "\n",
    "documents = SimpleDirectoryReader(FOLDER_DATA).load_data()\n",
    "print(\"length of documents:\", len(documents))\n",
    "print('documents:', documents[1])\n",
    "\n"
   ]
  },
  {
   "cell_type": "code",
   "execution_count": 17,
   "metadata": {},
   "outputs": [
    {
     "name": "stderr",
     "output_type": "stream",
     "text": [
      "Received notification from DBMS server: {severity: WARNING} {code: Neo.ClientNotification.Statement.FeatureDeprecationWarning} {category: DEPRECATION} {title: This feature is deprecated and will be removed in future versions.} {description: The procedure has a deprecated field. ('config' used by 'apoc.meta.graphSample' is deprecated.)} {position: line: 1, column: 1, offset: 0} for query: \"CALL apoc.meta.graphSample() YIELD nodes, relationships RETURN nodes, [rel in relationships | {name:apoc.any.property(rel, 'type'), count: apoc.any.property(rel, 'count')}] AS relationships\"\n"
     ]
    }
   ],
   "source": [
    "graph_store = Neo4jPropertyGraphStore(\n",
    "    username=\"neo4j\",\n",
    "    password=\"ttt@123ASD\",\n",
    "    url=\"bolt://localhost:7687\",\n",
    ")"
   ]
  },
  {
   "cell_type": "code",
   "execution_count": 4,
   "metadata": {},
   "outputs": [],
   "source": [
    "from llama_index.core import StorageContext, load_index_from_storage\n",
    "\n",
    "index = load_index_from_storage(\n",
    "    StorageContext.from_defaults(persist_dir=\"./storage\")\n",
    ")"
   ]
  },
  {
   "cell_type": "code",
   "execution_count": 5,
   "metadata": {},
   "outputs": [
    {
     "name": "stdout",
     "output_type": "stream",
     "text": [
      "Retrieved nodes:\n",
      "Ask:\n",
      "Empty Response\n"
     ]
    }
   ],
   "source": [
    "\n",
    "# Define retriever\n",
    "retriever = index.as_retriever(\n",
    "    include_text=False,  # include source text in returned nodes, default True\n",
    ")\n",
    "\n",
    "question = \"CTCP Trung tâm Hội chợ Triển lãm Việt Nam (VEFAC – mã VEF) có lợi nhuận gộp bao nhiêu ?\"\n",
    "results = retriever.retrieve(question)\n",
    "print(\"Retrieved nodes:\")\n",
    "for record in results:\n",
    "    print(\"record:\", record.text)\n",
    "\n",
    "print(\"Ask:\")\n",
    "# Question answering\n",
    "query_engine = index.as_query_engine(include_text=True)\n",
    "response = query_engine.query(question)\n",
    "print(str(response))"
   ]
  },
  {
   "cell_type": "code",
   "execution_count": 41,
   "metadata": {},
   "outputs": [],
   "source": [
    "# Define custom retriever-\n",
    "from pydantic import BaseModel\n",
    "from typing import Optional, List\n",
    "\n",
    "\n",
    "class Entities(BaseModel):\n",
    "    \"\"\"Liệt kê tất cả [công ty, mã chứng khoán, tổ chức tài chính, Khối ngoại, Tự doanh] và các thực thể khác trong văn bản sau\"\"\"\n",
    "    names: Optional[List[str]]\n",
    "\n",
    "\n",
    "prompt_template_entities = \"\"\"\n",
    "Liệt kê tất cả tên [công ty, mã chứng khoán, tổ chức tài chính, Khối ngoại, Tự doanh] và các thực thể khác trong văn bản sau:\n",
    "{text}\n",
    "\"\"\"\n",
    "\n",
    "from typing import Any, Optional\n",
    "\n",
    "from llama_index.core.embeddings import BaseEmbedding\n",
    "from llama_index.core.retrievers import CustomPGRetriever, VectorContextRetriever\n",
    "from llama_index.core.vector_stores.types import VectorStore\n",
    "from llama_index.program.openai import OpenAIPydanticProgram\n",
    "\n",
    "\n",
    "class MyCustomRetriever(CustomPGRetriever):\n",
    "    \"\"\"Custom retriever with cohere reranking.\"\"\"\n",
    "\n",
    "    def init(\n",
    "        self,\n",
    "        ## vector context retriever params\n",
    "        embed_model: Optional[BaseEmbedding] = None,\n",
    "        vector_store: Optional[VectorStore] = None,\n",
    "        similarity_top_k: int = 4,\n",
    "        path_depth: int = 3,\n",
    "        include_text: bool = True,\n",
    "        **kwargs: Any,\n",
    "\n",
    "    ) -> None:\n",
    "        \"\"\"Uses any kwargs passed in from class constructor.\"\"\"\n",
    "        self.entity_extraction = OpenAIPydanticProgram.from_defaults(\n",
    "            output_cls=Entities, prompt_template_str=prompt_template_entities\n",
    "        )\n",
    "        self.vector_retriever = VectorContextRetriever(\n",
    "            graph_store,\n",
    "            include_text=self.include_text,\n",
    "            embed_model=embed_model,\n",
    "            similarity_top_k=similarity_top_k,\n",
    "            path_depth=path_depth,\n",
    "        )\n",
    "    def custom_retrieve(self, query_str: str) -> str:\n",
    "        \"\"\"Define custom retriever with reranking.\n",
    "\n",
    "        Could return `str`, `TextNode`, `NodeWithScore`, or a list of those.\n",
    "        \"\"\"\n",
    "        entities = self.entity_extraction(text=query_str).names\n",
    "        result_nodes = []\n",
    "        if entities:\n",
    "            print(f\"Detected entities: {entities}\")\n",
    "            for entity in entities:\n",
    "                result_nodes.extend(self.vector_retriever.retrieve(entity))\n",
    "        else:\n",
    "            result_nodes.extend(self.vector_retriever.retrieve(query_str))\n",
    "        ## TMP: please change\n",
    "        final_text = \"\\n\\n\".join(\n",
    "            [n.get_content(metadata_mode=\"llm\") for n in result_nodes]\n",
    "        )\n",
    "        return final_text\n"
   ]
  },
  {
   "cell_type": "code",
   "execution_count": 42,
   "metadata": {},
   "outputs": [],
   "source": [
    "from llama_index.core.query_engine import RetrieverQueryEngine\n",
    "\n",
    "custom_sub_retriever = MyCustomRetriever(\n",
    "    graph_store,\n",
    "    include_text=True,\n",
    "    vector_store=index.vector_store,\n",
    "    embed_model=embed_model,\n",
    ")\n",
    "\n",
    "\n",
    "query_engine = RetrieverQueryEngine.from_args(\n",
    "    index.as_retriever(sub_retrievers=[custom_sub_retriever]), llm=llm\n",
    ")"
   ]
  },
  {
   "cell_type": "code",
   "execution_count": 43,
   "metadata": {},
   "outputs": [
    {
     "name": "stdout",
     "output_type": "stream",
     "text": [
      "Detected entities: ['Chứng khoán LPBank']\n",
      "Retrieved nodes:\n",
      "Question: lãi sau thuế của Chứng khoán LPBank ?\n",
      "Expected Answer: Tăng 275% so với cùng kỳ năm trước\n",
      "Actual Answer: Lãi sau thuế của Chứng khoán LPBank đạt 33 tỷ đồng, tăng 275% so với cùng kỳ năm trước.\n",
      "\n",
      "Detected entities: ['MSN']\n",
      "Retrieved nodes:\n",
      "Question: thu gom cố phiếu MSN?\n",
      "Expected Answer: Khối ngoại cũng giải ngân mua ròng 179 tỷ tại cổ phiếu MSN\n",
      "Actual Answer: Thông tin về việc thu gom cổ phiếu MSN không được đề cập trong nội dung đã cung cấp. Nếu bạn cần thông tin cụ thể về cổ phiếu này, có thể tham khảo các nguồn tài chính hoặc báo cáo thị trường chứng khoán.\n",
      "\n",
      "Detected entities: ['Bia Sài Gòn - Quảng Ngãi', 'BSQ']\n",
      "Retrieved nodes:\n",
      "Question: Doanh thu Bia Sài Gòn - Quảng Ngãi (BSQ) trong BCTC quý 3/2024 ?\n",
      "Expected Answer: Bia Sài Gòn - Quảng Ngãi (BSQ) ghi nhận doanh thu 418 tỷ đồng\n",
      "Actual Answer: Doanh thu của Bia Sài Gòn - Quảng Ngãi (BSQ) trong BCTC quý 3/2024 là 418 tỷ đồng.\n",
      "\n",
      "Detected entities: ['Lực mua ròng', 'cổ phiếu']\n",
      "Retrieved nodes:\n",
      "Question: Lực mua ròng các cổ phiếu nào ?\n",
      "Expected Answer: ACV', 'YEG', 'TCB', 'TPB', 'MWG'\n",
      "Actual Answer: Lực mua ròng ghi nhận trên sàn UPCoM với giá trị 55 tỷ đồng.\n",
      "\n",
      "Detected entities: ['VEFAC']\n",
      "Retrieved nodes:\n",
      "Question: VEFAC là công ty con của ?\n",
      "Expected Answer: VIC\n",
      "Actual Answer: VEFAC là một phần của Vingroup.\n",
      "\n"
     ]
    }
   ],
   "source": [
    "test_pairs = [\n",
    "    (\"lãi sau thuế của Chứng khoán LPBank ?\", \"Tăng 275% so với cùng kỳ năm trước\"),\n",
    "    (\"thu gom cố phiếu MSN?\", \"Khối ngoại cũng giải ngân mua ròng 179 tỷ tại cổ phiếu MSN\"),\n",
    "    (\"Doanh thu Bia Sài Gòn - Quảng Ngãi (BSQ) trong BCTC quý 3/2024 ?\", \"Bia Sài Gòn - Quảng Ngãi (BSQ) ghi nhận doanh thu 418 tỷ đồng\"),\n",
    "    (\"Lực mua ròng các cổ phiếu nào ?\", \"ACV', 'YEG', 'TCB', 'TPB', 'MWG'\"),\n",
    "    (\"VEFAC là công ty con của ?\", \"VIC\")\n",
    "]\n",
    "\n",
    "for question, expected_answer in test_pairs:\n",
    "    response = query_engine.query(question)\n",
    "    nodes = retriever.retrieve(question)\n",
    "    print(\"Retrieved nodes:\")\n",
    "    for node in nodes:\n",
    "        print(f\"Node: {node.text}\")\n",
    "    print(f\"Question: {question}\")\n",
    "    print(f\"Expected Answer: {expected_answer}\")\n",
    "    print(f\"Actual Answer: {response.response}\")\n",
    "    print()"
   ]
  },
  {
   "cell_type": "markdown",
   "metadata": {},
   "source": [
    "## Kết luận.\n",
    "\n",
    "Nhiều sai sót và thật nhiều ảo giác, số 1000 tỷ đồng ở mô ra rứa trời =))\n",
    "\"VEFAC là công ty con của ?\" : câu này dễ mà cũng không trả lời được. "
   ]
  }
 ],
 "metadata": {
  "kernelspec": {
   "display_name": ".venv",
   "language": "python",
   "name": "python3"
  },
  "language_info": {
   "codemirror_mode": {
    "name": "ipython",
    "version": 3
   },
   "file_extension": ".py",
   "mimetype": "text/x-python",
   "name": "python",
   "nbconvert_exporter": "python",
   "pygments_lexer": "ipython3",
   "version": "3.10.3"
  }
 },
 "nbformat": 4,
 "nbformat_minor": 2
}
