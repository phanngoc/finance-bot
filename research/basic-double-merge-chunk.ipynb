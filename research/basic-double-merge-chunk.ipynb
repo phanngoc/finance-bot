{
 "cells": [
  {
   "cell_type": "markdown",
   "metadata": {},
   "source": [
    "# Extract thông tin tài chính từ tin tức dùng VectorStoreIndex base\n",
    "\n",
    "Dùng double merge  để lấy thông tin tài chính từ tin tức."
   ]
  },
  {
   "cell_type": "markdown",
   "metadata": {},
   "source": [
    "https://neo4j.com/labs/genai-ecosystem/llamaindex/\n"
   ]
  },
  {
   "cell_type": "code",
   "execution_count": 1,
   "metadata": {},
   "outputs": [],
   "source": [
    "# %pip install python-dotenv\n",
    "# %pip install llama_index neo4j\n",
    "# %pip install llama-index-llms-openai\n",
    "# %pip install llama-index-vector-stores-neo4jvector\n",
    "# %pip install llama-index-graph-stores-neo4j\n",
    "# %pip install llama-index-embeddings-openai\n",
    "# %pip install neo4j\n",
    "# !pip install numpy\n",
    "# !pip install spacy\n",
    "# !python3 -m spacy download en_core_web_md"
   ]
  },
  {
   "cell_type": "code",
   "execution_count": 2,
   "metadata": {},
   "outputs": [],
   "source": [
    "from dotenv import load_dotenv\n",
    "import os\n",
    "from llama_index.llms.openai import OpenAI\n",
    "from llama_index.embeddings.openai import OpenAIEmbedding\n",
    "from llama_index.core import Settings\n",
    "\n",
    "import nest_asyncio\n",
    "nest_asyncio.apply()\n",
    "\n",
    "# Load the .env file\n",
    "\n",
    "load_dotenv('../.env')\n",
    "\n",
    "# Access the OpenAI key\n",
    "openai_key = os.getenv(\"OPENAI_API_KEY\")\n",
    "\n",
    "llm = OpenAI(model=\"gpt-4o-mini\", api_key=openai_key)\n",
    "embed_model = OpenAIEmbedding(model=\"text-embedding-3-small\")\n",
    "\n",
    "Settings.llm = llm\n",
    "Settings.embed_model = embed_model\n"
   ]
  },
  {
   "cell_type": "code",
   "execution_count": 4,
   "metadata": {},
   "outputs": [
    {
     "name": "stdout",
     "output_type": "stream",
     "text": [
      "length of documents: 1\n",
      "documents: Doc ID: 6f2f4fc2-30e6-4bb0-b9c0-b2f19f4b2df7\n",
      "Text: Nvidia to take Intel's spot on Dow Jones Industrial Average  By\n",
      "Arsheeya Bajwa  (Reuters) -Intel will be replaced by Nvidia\n",
      "(NASDAQ:NVDA) on the blue-chip Dow Jones Industrial Average index\n",
      "after a 25-year run, underscoring the shift in the chipmaking market\n",
      "and marking another setback for the struggling semiconductor firm.\n",
      "Nvidia will join the...\n"
     ]
    }
   ],
   "source": [
    "from llama_index.core import SimpleDirectoryReader\n",
    "from llama_index.core import PropertyGraphIndex\n",
    "from llama_index.embeddings.openai import OpenAIEmbedding\n",
    "from llama_index.llms.openai import OpenAI\n",
    "\n",
    "from llama_index.graph_stores.neo4j import Neo4jPropertyGraphStore\n",
    "\n",
    "documents = SimpleDirectoryReader(input_files=['../data/bao-chi/nvidia.md']).load_data()\n",
    "print(\"length of documents:\", len(documents))\n",
    "print('documents:', documents[0])\n",
    "\n"
   ]
  },
  {
   "cell_type": "markdown",
   "metadata": {},
   "source": [
    "\n",
    "# We are extracting financial information from news articles using the VectorStoreIndex base. The process involves several steps:\n",
    "\n",
    "1. **Installation of Required Packages**: We install necessary Python packages such as `llama_index`, `neo4j`, `numpy`, and `spacy`.\n",
    "\n",
    "2. **Environment Setup**: We load environment variables and set up the OpenAI API key for accessing language models and embeddings.\n",
    "\n",
    "3. **Document Loading**: We load the news articles from a specified directory using `SimpleDirectoryReader`.\n",
    "\n",
    "4. **Node Parsing and Splitting**: We use `SemanticDoubleMergingSplitterNodeParser` to split the documents into nodes based on different merging and appending thresholds.\n",
    "\n",
    "5. **Node Display**: Finally, we display the content of the nodes to verify the extracted information.\n",
    "\n",
    "This workflow allows us to efficiently extract and analyze financial information from news articles using advanced language models and embeddings.\n",
    "```"
   ]
  },
  {
   "cell_type": "code",
   "execution_count": 15,
   "metadata": {},
   "outputs": [
    {
     "name": "stdout",
     "output_type": "stream",
     "text": [
      "Merging threshold: 0.3, Appending threshold: 0.3, Number of nodes: 1\n",
      "Merging threshold: 0.3, Appending threshold: 0.4, Number of nodes: 1\n",
      "Merging threshold: 0.3, Appending threshold: 0.5, Number of nodes: 1\n",
      "Merging threshold: 0.3, Appending threshold: 0.6, Number of nodes: 1\n",
      "Merging threshold: 0.3, Appending threshold: 0.7, Number of nodes: 1\n",
      "Merging threshold: 0.3, Appending threshold: 0.8, Number of nodes: 1\n",
      "Merging threshold: 0.3, Appending threshold: 0.9, Number of nodes: 1\n",
      "Merging threshold: 0.4, Appending threshold: 0.3, Number of nodes: 2\n",
      "Merging threshold: 0.4, Appending threshold: 0.4, Number of nodes: 2\n",
      "Merging threshold: 0.4, Appending threshold: 0.5, Number of nodes: 2\n",
      "Merging threshold: 0.4, Appending threshold: 0.6, Number of nodes: 2\n",
      "Merging threshold: 0.4, Appending threshold: 0.7, Number of nodes: 2\n",
      "Merging threshold: 0.4, Appending threshold: 0.8, Number of nodes: 2\n",
      "Merging threshold: 0.4, Appending threshold: 0.9, Number of nodes: 2\n",
      "Merging threshold: 0.5, Appending threshold: 0.3, Number of nodes: 2\n",
      "Merging threshold: 0.5, Appending threshold: 0.4, Number of nodes: 2\n",
      "Merging threshold: 0.5, Appending threshold: 0.5, Number of nodes: 2\n",
      "Merging threshold: 0.5, Appending threshold: 0.6, Number of nodes: 2\n",
      "Merging threshold: 0.5, Appending threshold: 0.7, Number of nodes: 2\n",
      "Merging threshold: 0.5, Appending threshold: 0.8, Number of nodes: 2\n",
      "Merging threshold: 0.5, Appending threshold: 0.9, Number of nodes: 2\n",
      "Merging threshold: 0.6, Appending threshold: 0.3, Number of nodes: 2\n",
      "Merging threshold: 0.6, Appending threshold: 0.4, Number of nodes: 2\n",
      "Merging threshold: 0.6, Appending threshold: 0.5, Number of nodes: 2\n",
      "Merging threshold: 0.6, Appending threshold: 0.6, Number of nodes: 2\n",
      "Merging threshold: 0.6, Appending threshold: 0.7, Number of nodes: 2\n",
      "Merging threshold: 0.6, Appending threshold: 0.8, Number of nodes: 2\n",
      "Merging threshold: 0.6, Appending threshold: 0.9, Number of nodes: 2\n",
      "Merging threshold: 0.7, Appending threshold: 0.3, Number of nodes: 2\n",
      "Merging threshold: 0.7, Appending threshold: 0.4, Number of nodes: 2\n",
      "Merging threshold: 0.7, Appending threshold: 0.5, Number of nodes: 2\n",
      "Merging threshold: 0.7, Appending threshold: 0.6, Number of nodes: 2\n",
      "Merging threshold: 0.7, Appending threshold: 0.7, Number of nodes: 2\n",
      "Merging threshold: 0.7, Appending threshold: 0.8, Number of nodes: 2\n",
      "Merging threshold: 0.7, Appending threshold: 0.9, Number of nodes: 2\n",
      "Merging threshold: 0.8, Appending threshold: 0.3, Number of nodes: 2\n",
      "Merging threshold: 0.8, Appending threshold: 0.4, Number of nodes: 2\n",
      "Merging threshold: 0.8, Appending threshold: 0.5, Number of nodes: 2\n",
      "Merging threshold: 0.8, Appending threshold: 0.6, Number of nodes: 2\n",
      "Merging threshold: 0.8, Appending threshold: 0.7, Number of nodes: 2\n",
      "Merging threshold: 0.8, Appending threshold: 0.8, Number of nodes: 5\n",
      "Merging threshold: 0.8, Appending threshold: 0.9, Number of nodes: 6\n",
      "Merging threshold: 0.9, Appending threshold: 0.3, Number of nodes: 2\n",
      "Merging threshold: 0.9, Appending threshold: 0.4, Number of nodes: 2\n",
      "Merging threshold: 0.9, Appending threshold: 0.5, Number of nodes: 2\n",
      "Merging threshold: 0.9, Appending threshold: 0.6, Number of nodes: 2\n",
      "Merging threshold: 0.9, Appending threshold: 0.7, Number of nodes: 5\n",
      "Merging threshold: 0.9, Appending threshold: 0.8, Number of nodes: 12\n",
      "Merging threshold: 0.9, Appending threshold: 0.9, Number of nodes: 17\n"
     ]
    }
   ],
   "source": [
    "from llama_index.core.node_parser import (\n",
    "    SemanticDoubleMergingSplitterNodeParser,\n",
    "    LanguageConfig,\n",
    ")\n",
    "from llama_index.core import SimpleDirectoryReader\n",
    "\n",
    "\n",
    "config = LanguageConfig(language=\"english\", spacy_model=\"en_core_web_md\")\n",
    "splitter = SemanticDoubleMergingSplitterNodeParser(\n",
    "    language_config=config,\n",
    "    initial_threshold=0.4,\n",
    "    appending_threshold=0.5,\n",
    "    merging_threshold=0.5,\n",
    "    max_chunk_size=5000,\n",
    ")\n",
    "# Create an array of different merging_threshold and appending_threshold values for testing\n",
    "merging_thresholds = [0.3, 0.4, 0.5, 0.6, 0.7, 0.8, 0.9]\n",
    "appending_thresholds = [0.3, 0.4, 0.5, 0.6, 0.7, 0.8, 0.9]\n",
    "\n",
    "# Test the splitter with different merging_threshold and appending_threshold values\n",
    "for merging_threshold in merging_thresholds:\n",
    "    for appending_threshold in appending_thresholds:\n",
    "        splitter.merging_threshold = merging_threshold\n",
    "        splitter.appending_threshold = appending_threshold\n",
    "        nodes = splitter.get_nodes_from_documents(documents)\n",
    "        print(f\"Merging threshold: {merging_threshold}, Appending threshold: {appending_threshold}, Number of nodes: {len(nodes)}\")"
   ]
  },
  {
   "cell_type": "code",
   "execution_count": 17,
   "metadata": {},
   "outputs": [
    {
     "name": "stdout",
     "output_type": "stream",
     "text": [
      "Number of nodes: 12\n"
     ]
    }
   ],
   "source": [
    "splitter.merging_threshold = 0.9\n",
    "splitter.appending_threshold = 0.8\n",
    "nodes = splitter.get_nodes_from_documents(documents)\n",
    "print(f\"Number of nodes: {len(nodes)}\")"
   ]
  },
  {
   "cell_type": "code",
   "execution_count": 22,
   "metadata": {},
   "outputs": [
    {
     "name": "stdout",
     "output_type": "stream",
     "text": [
      "-------------------------\n",
      "Nvidia to take Intel's spot on Dow Jones Industrial Average\n",
      "\n",
      "By Arsheeya Bajwa\n",
      "\n",
      "(Reuters) -Intel will be replaced by Nvidia (NASDAQ:NVDA) on the blue-chip Dow Jones Industrial Average index after a 25-year run, underscoring the shift in the chipmaking market and marking another setback for the struggling semiconductor firm. Nvidia will join the index next week along with paint-maker Sherwin-Williams (NYSE:SHW) , which will replace Dow, S&P Dow Jones Indices said on Friday.\n",
      "-------------------------\n",
      "Once the dominant force in chipmaking, Intel (NASDAQ:INTC) has in recent years ceded its manufacturing edge to rival TSMC and missed out on the generative artificial intelligence boom after missteps including passing on an investment in ChatGPT-owner OpenAI. Intel's shares have declined 54% this year, making the company the worst performer on the index and leaving it with the lowest stock price on the price-weighted Dow.\n",
      "-------------------------\n",
      "Shares of Intel fell 1.6% in extended trading on Friday, while those of Nvidia were up 2.2%. This development comes a day after Intel expressed optimism about the future of its PC and server businesses, projecting current-quarter revenue above estimates but warning that it had \"a lot of work to do.\"\n",
      "-------------------------\n",
      "\"Losing the status of Dow Jones inclusion would be another reputational blow for Intel, as it grapples with a painful transformation and loss of confidence,\" said Susannah Streeter, head of money and markets at Hargreaves Lansdown. \"It would also mean that Intel is not included in exchange-traded funds (ETFs) which track the index, which could impact the share price further.\"\n",
      "-------------------------\n",
      "Launched in 1968, the Silicon Valley pioneer sold memory chips before switching to processors that helped launch the personal computer industry. 3rd party Ad.\n",
      "-------------------------\n",
      "Not an offer or recommendation by Investing.com. See disclosure here or remove ads.\n",
      "-------------------------\n",
      "In the 1990s, \"Intel Inside\" stickers turned commodity electronic components into premium products, and eventually became ubiquitous on laptops.\n",
      "-------------------------\n",
      "Intel's revenue was $54 billion in 2023, down nearly one-third from 2021, when Pat Gelsinger took over as CEO. Analysts expect Intel to report its first annual net loss this year since 1986. The company is worth less than $100 billion for the first time in 30 years. That pales in comparison to Nvidia, which is sitting at a $3.32 trillion valuation, making it the world's second-most valuable company.\n",
      "-------------------------\n",
      "NVIDIA'S AI LEAD\n",
      "\n",
      "Nvidia has emerged as a cornerstone of the global semiconductor industry, thanks to the essential role its chips play in powering generative AI technologies which has driven a seven-fold surge in its shares over the past two years. The company's shares have risen more than two-fold this year alone. Once popular only among gamers who hunted for PCs with Nvidia's graphics processors, it is now seen as a barometer for the AI market. The company's 10-for-one stock split that took effect in June also helped pave the way for its addition to the index, making its soaring shares more accessible to retail traders. Intel, on the other hand, has struggled to gain share in the AI chip market dominated by Nvidia, with the front-runner's chips hard to get and even harder to replace in AI datacenters, owing to the processors' technological edge and the high costs of replacing them.\n",
      "-------------------------\n",
      "INTC: is this perennial leader facing new challenges? With valuations skyrocketing in 2024, many investors are uneasy putting more money into stocks.\n",
      "-------------------------\n",
      "Sure, there are always opportunities in the stock market – but finding them feels more difficult now than a year ago. Unsure where to invest next? One of the best ways to discover new high-potential opportunities is to look at the top performing portfolios this year. Investing.com’s ProPicks are 6 model portfolios that identify the best stocks for investors to buy right now. For example, ProPicks found 9 overlooked stocks that jumped over 25% this year alone. The new stocks that made the monthly cut could yield enormous returns in the coming years.\n",
      "-------------------------\n",
      "Is INTC one of them?\n"
     ]
    }
   ],
   "source": [
    "from llama_index.core.response.notebook_utils import display_source_node\n",
    "\n",
    "for node in nodes:\n",
    "    print('-------------------------')\n",
    "    print(node.get_content())"
   ]
  },
  {
   "cell_type": "code",
   "execution_count": 10,
   "metadata": {},
   "outputs": [],
   "source": []
  }
 ],
 "metadata": {
  "kernelspec": {
   "display_name": ".venv",
   "language": "python",
   "name": "python3"
  },
  "language_info": {
   "codemirror_mode": {
    "name": "ipython",
    "version": 3
   },
   "file_extension": ".py",
   "mimetype": "text/x-python",
   "name": "python",
   "nbconvert_exporter": "python",
   "pygments_lexer": "ipython3",
   "version": "3.10.3"
  }
 },
 "nbformat": 4,
 "nbformat_minor": 2
}
