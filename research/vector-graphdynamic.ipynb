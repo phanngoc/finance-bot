{
 "cells": [
  {
   "cell_type": "markdown",
   "metadata": {},
   "source": [
    "# Test các tool cho việc extract entity, relation từ text\n",
    "\n",
    "Ở đây mình thử dùng model [gpt-4o-mini] và framework llama_index để extract entity và relation từ text.\n",
    "\n",
    "The choice between these extractors depends on the specific use case:\n",
    "\n",
    "- Use SimpleLLMPathExtractor for exploratory analysis where you want to capture a wide range of potential relationships for RAG applications, without caring about the entity types.\n",
    "- Use SchemaLLMPathExtractor when you have a well-defined domain and want to ensure consistency in the extracted knowledge.\n",
    "- Use DynamicLLMPathExtractor when you want a balance between structure and flexibility, allowing the model to discover new entity and relation types while still providing some initial guidance. This one is especially useful if you want a KG with labeled (typed) entities but don't have an input Schema (or you've partially defined the schema as a starting base).\n"
   ]
  },
  {
   "cell_type": "markdown",
   "metadata": {},
   "source": [
    "https://docs.llamaindex.ai/en/stable/examples/property_graph/Dynamic_KG_Extraction/"
   ]
  },
  {
   "cell_type": "code",
   "execution_count": 1,
   "metadata": {},
   "outputs": [
    {
     "name": "stdout",
     "output_type": "stream",
     "text": [
      "Requirement already satisfied: python-dotenv in /Users/ngocp/Documents/projects/finance-bot/.venv/lib/python3.10/site-packages (1.0.1)\n",
      "Note: you may need to restart the kernel to use updated packages.\n"
     ]
    }
   ],
   "source": [
    "from dotenv import load_dotenv\n",
    "import os\n",
    "from llama_index.llms.openai import OpenAI\n",
    "from llama_index.embeddings.openai import OpenAIEmbedding\n",
    "from llama_index.core import Settings\n",
    "\n",
    "# Install the python-dotenv package if not already installed\n",
    "%pip install python-dotenv\n",
    "\n",
    "# Load the .env file\n",
    "\n",
    "load_dotenv('../.env')\n",
    "\n",
    "# Access the OpenAI key\n",
    "openai_key = os.getenv(\"OPENAI_API_KEY\")\n",
    "\n",
    "llm = OpenAI(model=\"gpt-4o-mini\", api_key=openai_key)\n",
    "embed_model = OpenAIEmbedding(model=\"text-embedding-3-small\")\n",
    "\n",
    "Settings.llm = llm\n",
    "Settings.embed_model = embed_model\n",
    "\n",
    "FOLDER_DATA = \"../data/bao-chi\""
   ]
  },
  {
   "cell_type": "code",
   "execution_count": 7,
   "metadata": {},
   "outputs": [],
   "source": [
    "import nest_asyncio\n",
    "\n",
    "nest_asyncio.apply()"
   ]
  },
  {
   "cell_type": "markdown",
   "metadata": {},
   "source": [
    "## Load tài liệu"
   ]
  },
  {
   "cell_type": "code",
   "execution_count": 35,
   "metadata": {},
   "outputs": [
    {
     "name": "stdout",
     "output_type": "stream",
     "text": [
      "length of documents: 24\n",
      "documents: Doc ID: 51cd37fa-0710-42b3-939e-cc29307b7941\n",
      "Text: Kết Quả Kinh Doanh  **CTCP Trung tâm Hội chợ Triển lãm Việt Nam\n",
      "(VEFAC – mã VEF)** vừa công bố báo cáo tài chính quý 3/2024 với các\n",
      "chỉ số chính như sau:  - **Doanh thu thuần:** Chưa đến 4 tỷ đồng -\n",
      "**Lợi nhuận gộp:** Gần 800 triệu đồng, khả quan hơn so với cùng kỳ năm\n",
      "ngoái  Hoạt động tài chính tiếp tục là trụ cột gánh lợi nhuận của\n",
      "doanh nghiệ...\n"
     ]
    }
   ],
   "source": [
    "from llama_index.core import SimpleDirectoryReader\n",
    "from llama_index.core import PropertyGraphIndex\n",
    "from llama_index.embeddings.openai import OpenAIEmbedding\n",
    "from llama_index.llms.openai import OpenAI\n",
    "\n",
    "from llama_index.graph_stores.neo4j import Neo4jPropertyGraphStore\n",
    "\n",
    "documents = SimpleDirectoryReader(FOLDER_DATA).load_data()\n",
    "print(\"length of documents:\", len(documents))\n",
    "print('documents:', documents[21])\n",
    "\n"
   ]
  },
  {
   "cell_type": "code",
   "execution_count": 22,
   "metadata": {},
   "outputs": [
    {
     "name": "stdout",
     "output_type": "stream",
     "text": [
      "Collecting pyvis\n",
      "  Downloading pyvis-0.3.2-py3-none-any.whl.metadata (1.7 kB)\n",
      "Requirement already satisfied: ipython>=5.3.0 in /Users/ngocp/Documents/projects/finance-bot/.venv/lib/python3.10/site-packages (from pyvis) (8.28.0)\n",
      "Requirement already satisfied: jinja2>=2.9.6 in /Users/ngocp/Documents/projects/finance-bot/.venv/lib/python3.10/site-packages (from pyvis) (3.1.4)\n",
      "Collecting jsonpickle>=1.4.1 (from pyvis)\n",
      "  Downloading jsonpickle-3.3.0-py3-none-any.whl.metadata (8.3 kB)\n",
      "Requirement already satisfied: networkx>=1.11 in /Users/ngocp/Documents/projects/finance-bot/.venv/lib/python3.10/site-packages (from pyvis) (3.4.1)\n",
      "Requirement already satisfied: decorator in /Users/ngocp/Documents/projects/finance-bot/.venv/lib/python3.10/site-packages (from ipython>=5.3.0->pyvis) (5.1.1)\n",
      "Requirement already satisfied: jedi>=0.16 in /Users/ngocp/Documents/projects/finance-bot/.venv/lib/python3.10/site-packages (from ipython>=5.3.0->pyvis) (0.19.1)\n",
      "Requirement already satisfied: matplotlib-inline in /Users/ngocp/Documents/projects/finance-bot/.venv/lib/python3.10/site-packages (from ipython>=5.3.0->pyvis) (0.1.7)\n",
      "Requirement already satisfied: prompt-toolkit<3.1.0,>=3.0.41 in /Users/ngocp/Documents/projects/finance-bot/.venv/lib/python3.10/site-packages (from ipython>=5.3.0->pyvis) (3.0.48)\n",
      "Requirement already satisfied: pygments>=2.4.0 in /Users/ngocp/Documents/projects/finance-bot/.venv/lib/python3.10/site-packages (from ipython>=5.3.0->pyvis) (2.18.0)\n",
      "Requirement already satisfied: stack-data in /Users/ngocp/Documents/projects/finance-bot/.venv/lib/python3.10/site-packages (from ipython>=5.3.0->pyvis) (0.6.3)\n",
      "Requirement already satisfied: traitlets>=5.13.0 in /Users/ngocp/Documents/projects/finance-bot/.venv/lib/python3.10/site-packages (from ipython>=5.3.0->pyvis) (5.14.3)\n",
      "Requirement already satisfied: exceptiongroup in /Users/ngocp/Documents/projects/finance-bot/.venv/lib/python3.10/site-packages (from ipython>=5.3.0->pyvis) (1.2.2)\n",
      "Requirement already satisfied: typing-extensions>=4.6 in /Users/ngocp/Documents/projects/finance-bot/.venv/lib/python3.10/site-packages (from ipython>=5.3.0->pyvis) (4.12.2)\n",
      "Requirement already satisfied: pexpect>4.3 in /Users/ngocp/Documents/projects/finance-bot/.venv/lib/python3.10/site-packages (from ipython>=5.3.0->pyvis) (4.9.0)\n",
      "Requirement already satisfied: MarkupSafe>=2.0 in /Users/ngocp/Documents/projects/finance-bot/.venv/lib/python3.10/site-packages (from jinja2>=2.9.6->pyvis) (3.0.1)\n",
      "Requirement already satisfied: parso<0.9.0,>=0.8.3 in /Users/ngocp/Documents/projects/finance-bot/.venv/lib/python3.10/site-packages (from jedi>=0.16->ipython>=5.3.0->pyvis) (0.8.4)\n",
      "Requirement already satisfied: ptyprocess>=0.5 in /Users/ngocp/Documents/projects/finance-bot/.venv/lib/python3.10/site-packages (from pexpect>4.3->ipython>=5.3.0->pyvis) (0.7.0)\n",
      "Requirement already satisfied: wcwidth in /Users/ngocp/Documents/projects/finance-bot/.venv/lib/python3.10/site-packages (from prompt-toolkit<3.1.0,>=3.0.41->ipython>=5.3.0->pyvis) (0.2.13)\n",
      "Requirement already satisfied: executing>=1.2.0 in /Users/ngocp/Documents/projects/finance-bot/.venv/lib/python3.10/site-packages (from stack-data->ipython>=5.3.0->pyvis) (2.1.0)\n",
      "Requirement already satisfied: asttokens>=2.1.0 in /Users/ngocp/Documents/projects/finance-bot/.venv/lib/python3.10/site-packages (from stack-data->ipython>=5.3.0->pyvis) (2.4.1)\n",
      "Requirement already satisfied: pure-eval in /Users/ngocp/Documents/projects/finance-bot/.venv/lib/python3.10/site-packages (from stack-data->ipython>=5.3.0->pyvis) (0.2.3)\n",
      "Requirement already satisfied: six>=1.12.0 in /Users/ngocp/Documents/projects/finance-bot/.venv/lib/python3.10/site-packages (from asttokens>=2.1.0->stack-data->ipython>=5.3.0->pyvis) (1.16.0)\n",
      "Downloading pyvis-0.3.2-py3-none-any.whl (756 kB)\n",
      "\u001b[2K   \u001b[38;2;114;156;31m━━━━━━━━━━━━━━━━━━━━━━━━━━━━━━━━━━━━━━━━\u001b[0m \u001b[32m756.0/756.0 kB\u001b[0m \u001b[31m5.8 MB/s\u001b[0m eta \u001b[36m0:00:00\u001b[0m\n",
      "\u001b[?25hDownloading jsonpickle-3.3.0-py3-none-any.whl (42 kB)\n",
      "Installing collected packages: jsonpickle, pyvis\n",
      "Successfully installed jsonpickle-3.3.0 pyvis-0.3.2\n"
     ]
    }
   ],
   "source": [
    "!pip install pyvis"
   ]
  },
  {
   "cell_type": "code",
   "execution_count": 38,
   "metadata": {},
   "outputs": [
    {
     "name": "stderr",
     "output_type": "stream",
     "text": [
      "Parsing nodes: 100%|██████████| 24/24 [00:00<00:00, 727.01it/s]\n",
      "Extracting and inferring knowledge graph from text: 100%|██████████| 24/24 [00:34<00:00,  1.46s/it]\n"
     ]
    }
   ],
   "source": [
    "from llama_index.core import Document, PropertyGraphIndex\n",
    "from llama_index.core.indices.property_graph import DynamicLLMPathExtractor\n",
    "# from config import entities, relations\n",
    "\n",
    "entities = [\n",
    "    \"mã_cổ_phiếu\", \"công_ty\", \"lợi_nhuận\", \"giá_cổ_phiếu\", \"khối_lượng_giao_dịch\", \"ngày_giao_dịch\",\n",
    "    \"tài_sản\", \"khoản_phải_thu\", \"dự_án\", \"doanh_thu\", \"lợi_nhuận_gộp\", \"lãi_ròng\",\n",
    "    \"lợi_nhuận_sau_thuế\", \"tồn_kho\", \"khoản_phải_thu_ngắn_hạn\", \"bên_liên_quan\", \"ngành_công_nghiệp\"\n",
    "]\n",
    "\n",
    "relations = [\n",
    "    \"sở_hữu\", \"thuộc_về\", \"là\", \"là_một_phần_của\", \"tăng\", \"giảm\", \"giao_dịch_vào_ngày\",\n",
    "    \"công_bố\", \"triển_khai\", \"đạt\", \"phát_sinh\", \"trừ\", \"lên_đến\", \"chiếm\", \"hợp_tác\", \"liên_quan_tới\"\n",
    "]\n",
    "\n",
    "allowed_entity_types = entities\n",
    "allowed_relation_types = relations\n",
    "\n",
    "kg_extractor = DynamicLLMPathExtractor(\n",
    "    llm=llm, num_workers=4,\n",
    "    max_triplets_per_chunk=20,\n",
    "    allowed_entity_types=allowed_entity_types,\n",
    "    allowed_relation_types=allowed_relation_types,\n",
    ")\n",
    "\n",
    "simple_index = PropertyGraphIndex.from_documents(\n",
    "    documents,\n",
    "    llm=llm,\n",
    "    embed_kg_nodes=False,\n",
    "    kg_extractors=[kg_extractor],\n",
    "    show_progress=True,\n",
    ")"
   ]
  },
  {
   "cell_type": "code",
   "execution_count": 39,
   "metadata": {},
   "outputs": [],
   "source": [
    "simple_index.property_graph_store.save_networkx_graph(\n",
    "    name=\"./output/dynamicGraph1.html\"\n",
    ")\n"
   ]
  },
  {
   "cell_type": "code",
   "execution_count": 40,
   "metadata": {},
   "outputs": [
    {
     "name": "stdout",
     "output_type": "stream",
     "text": [
      "[]\n"
     ]
    }
   ],
   "source": [
    "nodeSearch = simple_index.property_graph_store.get_triplets(\n",
    "    entity_names=[\"VIC\"]\n",
    ")\n",
    "\n",
    "print(nodeSearch)"
   ]
  },
  {
   "cell_type": "code",
   "execution_count": 30,
   "metadata": {},
   "outputs": [
    {
     "name": "stdout",
     "output_type": "stream",
     "text": [
      "node_ids: ['d11492ed-de3b-4ad8-a67b-8e4340f20932', '6031e1ca-a044-4db6-a672-68057ae9fe3e', '6050c6fa-117d-4da5-9289-7cf3e28fe0e1', '90bec3d1-06d6-4057-a384-69cc2f3c6f69', '77051f4d-ecbe-488f-8d4b-c48d80c63259', '5fa566e8-f6e4-45b5-a3e3-93f52792bd0a', '907d3f7c-bc2c-4771-89a7-c1a749a53b63', 'a61588cb-262d-4406-89f2-bd287f6a137a', '99a5e9a2-a0ac-403d-9a5a-8837fc8bd686', '47b00575-8288-41c7-9e75-0debdd9fdc1e', 'e57e5d93-ac0e-4e0a-8611-a86ccc5c6efa', '31b55d8b-cb73-4b90-a776-63b885334b0c', 'd3e01af5-8a27-4200-b6e9-46cac3aa132a', 'e5acb282-647f-4415-a687-ccdc31b2d6a1', 'c4b9a433-d851-40e7-ad6c-61632e7d0114', 'a66e9526-2c6d-4837-bee0-c2974a831d75', '90ebb549-477b-4698-ad82-eeb7fb34a4de', '9645ceed-630a-4c98-b1a6-730d390ae33e', '2dd8a003-baf4-4dc3-b423-dc5e41ae6229', 'f86ea768-e9a0-476d-ab2d-50b2dc9bae1d', '2aaa8adb-beb0-4b40-86b2-bfe90f3bc111', '1681d8f8-89a2-44ca-9f91-ac702ce22507', 'e82dd024-4448-4568-b5d0-1f6f864f4678', '6f0cc92e-4953-49bd-b4ef-54d97401bc1f', 'Bệnh viện Triều An', 'lợi nhuận 45%', 'lợi nhuận gần 11 tỷ đồng', 'CTCP Âu Lạc', 'lỗ hơn 18 tỷ đồng', 'nguyên nhân lỗ', 'Chứng khoán Sài Gòn - Hà Nội', 'lợi nhuận trước thuế giảm 70%', 'Chứng khoán LPBank', 'lãi sau thuế đạt 33 tỷ đồng', '275% so với cùng kỳ năm trước', 'Bia Sài Gòn - Quảng Ngãi', 'doanh thu 418 tỷ đồng', 'lợi nhuận 65%', 'lợi nhuận gần 8 tỷ đồng', 'DAP - Vinachem', 'doanh thu 761 tỷ đồng', '10% so với cùng kỳ năm trước', 'lợi nhuận 183%', 'lợi nhuận của DDV', 'gần 25,5 tỷ đồng', 'Giá vốn hàng bán', 'lợi nhuận giảm', 'hơn doanh thu', 'lợi nhuận của công ty này', 'do giá vốn hàng bán tăng', 'Đại gia bí ẩn', 'hàng trăm tỷ đồng cổ phiếu của Dịch vụ Hoàng Huy', 'Khối ngoại', 'hơn 2.000 tỷ', 'cổ phiếu “đại gia” công nghệ số 1 Việt Nam', 'danh sách xả hàng', 'Thị trường', 'diễn biến giằng co', 'tuần 14-18/10', 'Chỉ số', 'dưới vùng 1.290 điểm', 'Thanh khoản', 'đáng kể', 'Dấu hiệu hồi phục', 'dòng tiền bắt đáy', 'Nhóm blue-chips', 'thị trường', 'VN-Index', '2,93 điểm', '0,23%', '1.285,46 điểm', 'Dòng vốn', 'trên toàn thị trường', 'Giá trị mỗi phiên', 'hàng trăm tỷ', 'Nhà đầu tư nước ngoài', '2.125 tỷ đồng', '5 phiên', 'cường độ mạnh', 'bán ròng', 'dấu hiệu hồi phục', 'sau 5 phiên', '2.077 tỷ đồng', '104 tỷ đồng', '55 tỷ đồng', 'Cổ phiếu FPT', '364 tỷ đồng', 'Cổ phiếu HDB', '220 tỷ đồng', 'Cổ phiếu MSB', '169 tỷ đồng', 'Cổ phiếu KDC', '155 tỷ đồng', 'Cổ phiếu DBC', '150 tỷ đồng', 'Cổ phiếu VNM', 'Cổ phiếu FUESSVFL', 'Cổ phiếu NLG', 'Cổ phiếu HCM', 'mạnh', 'đà bán ra chốt lời', 'Cổ phiếu công nghệ', 'tích cực', 'Cổ phiếu ngân hàng', 'Cổ phiếu', 'Khối Ngoại', 'cổ phiếu STB', 'dòng vốn khối ngoại', '221 tỷ đồng', 'cổ phiếu MSN', '179 tỷ đồng', 'cổ phiếu NTL', '95 tỷ đồng', 'Lực mua ròng', 'ACV', 'YEG', 'TCB', 'TPB', 'MWG', '5 phiên tuần qua', 'Prasenjit Chakravarti', 'Techcombank', 'digital transformation', 'sustainable growth', 'ngân hàng top 10 Đông Nam Á', 'Việt Nam', 'dân số trẻ', 'nền kinh tế', 'nền kinh tế Việt Nam', 'quỹ đạo tăng trưởng rất tốt', 'nơi cởi mở', 'ý tưởng mới', 'tổ chức năng động', 'ngân hàng hoàn toàn mới', 'các tổ chức chuyên nghiệp hàng đầu', 'Accenture', 'tổ chức tư vấn chiến lược lớn', 'McKinsey', 'Ngân hàng Standard Chartered', 'sự phát triển thú vị', 'phương pháp tiến bộ', 'các nước khác đã phát triển', 'xây dựng tổ chức năng động', 'ngân hàng cũ', 'mới tốt hơn', 'bước phát triển mới vượt trội', 'công nghệ tốt nhất', 'nền tảng tốt nhất', 'tài năng giỏi nhất', 'bước đi mạnh mẽ', 'mảnh đất lành', 'tham gia', 'hành trình', 'Dữ liệu', 'Số hóa', 'Nhân tài', 'sản phẩm và dịch vụ mới', 'khách hàng giàu có', 'doanh nghiệp vừa và nhỏ', 'thách thức kinh tế', 'tăng cường số hóa vận hành', 'giải pháp điểm bán hàng kỹ thuật số', 'quản lý khách hàng', 'công việc kinh doanh', 'nguồn tài chính bền vững', 'phát triển hoạt động kinh doanh', 'cơ sở khách hàng rộng hơn', 'hệ sinh thái', 'nền tảng và dữ liệu kỹ thuật số', 'giải pháp của Techcombank', 'các hoạt động kinh doanh mới', 'giải pháp mang đến giá trị độc đáo', 'khách hàng', 'giải pháp dữ liệu số mới', 'các nhu cầu của khách hàng', 'cạnh tranh trên thị trường', 'nền tảng tương lai', 'ngân hàng tương lai', 'nền tảng dữ liệu và kỹ thuật số', 'sự am hiểu khách hàng', 'AI', 'khách hàng của Techcombank', 'các ngân hàng khác', 'hệ sinh thái đối tác', 'giá trị và trải nghiệm', 'nhu cầu theo cách toàn diện hơn', 'giải pháp tài chính', 'các đối thủ', 'các sản phẩm và chiến lược', 'các đối thủ khó sao chép', 'cạnh tranh gay gắt', 'lĩnh vực ngân hàng', 'các phân khúc chính', 'các giải pháp của Techcombank', 'chúng tôi', 'dịch vụ tài chính', 'nhà', 'xe', 'bảo hiểm', 'nhà phát triển', 'đối tác uy tín', 'sự khác biệt', 'sustainable development', 'Vietnam', '1 trillion USD', 'retail customers', 'carbon emission tracking product', 'carbon emissions from spending', 'electric taxi', 'regular taxi', 'Vietnamese businesses', 'green initiatives', 'green finance', 'green economy', 'international standards', 'private banking in Vietnam', 'Vietnamese enterprises', 'sustainable finance movement', 'significant investments', 'new solutions', 'serve customer needs', 'Diễn đàn kinh tế thế giới', 'C4IR', 'Cách mạng công nghiệp lần thứ 4', 'Chính phủ Việt Nam', 'TP. Hồ Chí Minh', 'giai đoạn vàng', 'Chính phủ', 'tăng trưởng xanh', 'giải pháp ESG', 'doanh nghiệp', 'xu hướng', 'lợi thế', 'dự án xanh', 'giải pháp số hóa', 'khuôn khổ', 'nền tảng', 'các cách phát triển', 'khát vọng tăng trưởng', 'Diễn đàn kinh tế Hồ Chí Minh', 'năm nay', 'doanh nghiệp tốt nhất', 'giải pháp tài chính ứng dụng số hóa', 'quá trình chuyển đổi công nghiệp', 'khách hàng Việt Nam', 'tổ chức tài chính', 'sự am hiểu và phục vụ', 'nhu cầu của khách hàng', 'ứng dụng số hóa', 'chuyển đổi công nghiệp', 'hành trình quan trọng', 'nhiều ý nghĩa', 'kinh nghiệm chuyển đối', 'Tp.HCM', 'ngành công nghiệp', 'chuẩn ESG', 'miền Nam', 'Thành phố Hồ Chí Minh', 'giải pháp phù hợp', 'lĩnh vực ngành nghề', 'từng khu vực', 'địa phương', 'Hồ Chí Minh', 'miền Nam Việt Nam', 'nền kinh tế Malaysia', 'định hướng chiến lược', 'các doanh nghiệp', 'doanh nghiệp sản xuất', 'dịch vụ CNTT', 'công ty kỹ thuật', 'phát triển mới', 'công ty mới', 'công nghiệp hóa lần thứ 4', 'công ty kỹ thuật số', 'công ty dữ liệu', 'công ty CNTT mới', 'TP.HCM', 'phát triển xanh', 'các nhà phát triển', 'các nhà đầu tư khác', 'các lĩnh vực', 'doanh nghiệp phát triển bền vững', 'thách thức tăng trưởng ESG', 'bộ kỹ năng', 'sự ưu tiên', 'kiến thức về ESG', 'kinh nghiệm thực hiện', 'làm việc với tập đoàn lớn', 'chuỗi cung ứng và phân phối', 'nhận thức về ESG', 'chuỗi giá trị', 'nhiều công ty FMCG', 'nhiều công ty hàng tiêu dùng', 'nhiều công ty sản xuất có vốn FDI', 'cách tiếp cận chuỗi giá trị', 'nâng cao nhận thức về ESG', 'giải pháp bền vững', 'Châu Âu', 'xuất khẩu', 'Mỹ', 'các công ty', 'yêu cầu mới về phát thải khí nhà kính', 'phát thải carbon', 'carbon', 'khó khăn', 'doanh nghiệp Việt Nam', 'một số đối tác', 'giải pháp đơn giản', 'ngân hàng chúng tôi', 'giải pháp toàn diện', 'doanh nghiệp của bạn', 'lợi thế cạnh tranh', 'xuất khẩu sang Châu Âu', 'xuất khẩu sang Mỹ', 'ông', 'lời chúc sức khỏe', 'sức khỏe', 'Vingroup', 'BCTC quý 3', '1 tỷ USD', 'khoản phải thu gần 11.400 tỷ đồng', 'Vinhomes', 'VEFAC', 'Báo Cáo Tài Chính Quý 3/2024', 'hơn 83% vốn', 'Vinhomes Global Gate', '35.000 tỷ đồng', 'Vinhomes Cổ Loa', 'CTCP Trung tâm Hội chợ Triển lãm Việt Nam', 'VEF', 'báo cáo tài chính quý 3/2024', 'doanh thu thuần', 'dưới 4 tỷ đồng', 'lợi nhuận gộp', 'gần 800 triệu đồng', 'hoạt động tài chính', 'lợi nhuận', 'doanh thu tài chính', '129 tỷ đồng', '14%', 'chi phí tài chính', 'hơn 11,5 tỷ đồng', '84,6 tỷ đồng', 'lãi ròng', '27%', 'lợi nhuận sau thuế lũy kế 9 tháng đầu năm', '264,4 tỷ đồng', '23%', 'Trung tâm Hội chợ Triển lãm Quốc gia', 'Trung tâm Triển lãm cũ tại Giảng Võ', '90ha', 'kỳ quan mới của Thủ Đô', 'hơn 83% vốn của VEFAC', 'Khu đô thị mới tại các xã Xuân Canh, Đông Hội, Mai Lâm', '35.600 tỷ đồng', '3.6', '24.600 tỷ đồng', '22.000 tỷ đồng', '62%', '20.000 tỷ đồng', '7.000 tỷ đồng', '11.600 tỷ đồng', '95%', '5%', 'đối với bên liên quan', 'Vinhomes (mã VHM)']\n",
      "node_labels: ['text_chunk', 'text_chunk', 'text_chunk', 'text_chunk', 'text_chunk', 'text_chunk', 'text_chunk', 'text_chunk', 'text_chunk', 'text_chunk', 'text_chunk', 'text_chunk', 'text_chunk', 'text_chunk', 'text_chunk', 'text_chunk', 'text_chunk', 'text_chunk', 'text_chunk', 'text_chunk', 'text_chunk', 'text_chunk', 'text_chunk', 'text_chunk', 'COMPANY', 'TĂNG TRƯỞNG', 'LỢI NHUẬN', 'COMPANY', 'LỢI NHUẬN', 'NGUYÊN NHÂN', 'COMPANY', 'LỢI NHUẬN', 'COMPANY', 'LỢI NHUẬN', 'TĂNG TRƯỞNG', 'COMPANY', 'DOANH THU', 'TĂNG TRƯỞNG', 'LỢI NHUẬN', 'COMPANY', 'DOANH THU', 'TĂNG TRƯỞNG', 'TĂNG TRƯỞNG', 'LỢI NHUẬN', 'LỢI NHUẬN', 'COST', 'LỢI NHUẬN', 'DOANH THU', 'LỢI NHUẬN', 'NGUYÊN NHÂN', 'PERSON', 'CỔ PHIẾU', 'NHÀ ĐẦU TƯ', 'LỢI NHUẬN', 'CỔ PHIẾU', 'THỊ TRƯỜNG', 'THỊ TRƯỜNG', 'DIỄN BIẾN', 'THỜI GIAN', 'CỔ PHIẾU', 'ĐIỂM SỐ', 'TĂNG TRƯỞNG', 'MỨC ĐỘ', 'TĂNG TRƯỞNG', 'DÒNG TIỀN', 'CÔNG TY', 'THỊ TRƯỜNG', 'CỔ PHIẾU', 'ĐIỂM SỐ', 'TỶ LỆ', 'ĐIỂM SỐ', 'TĂNG TRƯỞNG', 'THỊ TRƯỜNG', 'LỢI NHUẬN', 'LỢI NHUẬN', 'NHÀ ĐẦU TƯ', 'LỢI NHUẬN', 'THỜI GIAN', 'MỨC ĐỘ', 'LỢI NHUẬN', 'TĂNG TRƯỞNG', 'THỜI GIAN', 'LỢI NHUẬN', 'LỢI NHUẬN', 'LỢI NHUẬN', 'CỔ PHIẾU', 'LỢI NHUẬN', 'CỔ PHIẾU', 'LỢI NHUẬN', 'CỔ PHIẾU', 'LỢI NHUẬN', 'CỔ PHIẾU', 'LỢI NHUẬN', 'CỔ PHIẾU', 'LỢI NHUẬN', 'CỔ PHIẾU', 'CỔ PHIẾU', 'CỔ PHIẾU', 'CỔ PHIẾU', 'TĂNG TRƯỞNG', 'TĂNG TRƯỞNG', 'CỔ PHIẾU', 'TĂNG TRƯỞNG', 'CỔ PHIẾU', 'CỔ PHIẾU', 'NHÀ ĐẦU TƯ', 'CỔ PHIẾU', 'THỊ TRƯỜNG', 'LỢI NHUẬN', 'CỔ PHIẾU', 'LỢI NHUẬN', 'CỔ PHIẾU', 'LỢI NHUẬN', 'TĂNG TRƯỞNG', 'CỔ PHIẾU', 'CỔ PHIẾU', 'CỔ PHIẾU', 'CỔ PHIẾU', 'CỔ PHIẾU', 'THỜI GIAN', 'PERSON', 'CÔNG TY', 'INITIATIVE', 'INITIATIVE', 'THỊ TRƯỜNG', 'COUNTRY', 'DEMOGRAPHIC', 'ECONOMY', 'ECONOMY', 'GROWTH', 'ENVIRONMENT', 'INNOVATION', 'ORGANIZATION', 'BANK', 'ORGANIZATION', 'COMPANY', 'ORGANIZATION', 'COMPANY', 'COMPANY', 'DEVELOPMENT', 'METHOD', 'COUNTRY', 'ORGANIZATION', 'BANK', 'DEVELOPMENT', 'DEVELOPMENT', 'CÔNG NGHỆ', 'NỀN TẢNG', 'NHÂN LỰC', 'HOẠT ĐỘNG', 'ĐỊA ĐIỂM', 'HOẠT ĐỘNG', 'HOẠT ĐỘNG', 'STRATEGY', 'STRATEGY', 'STRATEGY', 'PRODUCT', 'CUSTOMER_SEGMENT', 'CUSTOMER_SEGMENT', 'CHALLENGE', 'GOAL', 'SOLUTION', 'TASK', 'TASK', 'FINANCIAL_RESOURCE', 'BUSINESS_ACTIVITY', 'CUSTOMER_BASE', 'STRATEGY', 'TECHNOLOGY', 'GIẢI PHÁP', 'HOẠT ĐỘNG', 'GIẢI PHÁP', 'NHÀ ĐẦU TƯ', 'GIẢI PHÁP', 'CUSTOMER_NEED', 'THỊ TRƯỜNG', 'CÔNG NGHỆ', 'CÔNG NGHỆ', 'CÔNG NGHỆ', 'KIẾN THỨC', 'CÔNG NGHỆ', 'NHÀ ĐẦU TƯ', 'CÔNG TY', 'CÔNG NGHỆ', 'GIÁ TRỊ', 'NHU CẦU', 'SOLUTION', 'COMPANY', 'SẢN PHẨM', 'COMPANY', 'TÌNH HUỐNG', 'LĨNH VỰC', 'PHÂN KHÚC', 'GIẢI PHÁP', 'CÔNG TY', 'DỊCH VỤ', 'TÀI SẢN', 'TÀI SẢN', 'SẢN PHẨM', 'CÔNG TY', 'CÔNG TY', 'KHÁI NIỆM', 'GROWTH_FIELD', 'COUNTRY', 'INVESTMENT_AMOUNT', 'CUSTOMER_TYPE', 'PRODUCT', 'HEALTH_METRIC', 'TRANSPORTATION', 'TRANSPORTATION', 'BUSINESS_TYPE', 'INITIATIVE', 'FINANCIAL_FIELD', 'ECONOMIC_TYPE', 'STANDARD', 'BANKING_TYPE', 'BUSINESS_TYPE', 'INITIATIVE', 'INVESTMENT_TYPE', 'SOLUTION_TYPE', 'OBJECTIVE', 'EVENT', 'ORGANIZATION', 'INITIATIVE', 'GOVERNMENT', 'CITY', 'ECONOMIC_PHASE', 'GOVERNMENT', 'INITIATIVE', 'SOLUTION', 'CÔNG TY', 'TREND', 'ADVANTAGE', 'PROJECT', 'SOLUTION', 'FRAMEWORK', 'PLATFORM', 'DEVELOPMENT_METHODS', 'GROWTH_VISION', 'EVENT', 'TIME', 'COMPANY', 'FINANCIAL_SOLUTION', 'INDUSTRY_PROCESS', 'CUSTOMER', 'ORGANIZATION', 'SERVICE', 'CUSTOMER_NEED', 'TECHNOLOGY', 'INDUSTRY_PROCESS', 'JOURNEY', 'SIGNIFICANCE', 'EXPERIENCE', 'CITY', 'INDUSTRY', 'STANDARD', 'VÙNG_LÃNH_THỔ', 'CITY', 'SOLUTION', 'SECTOR', 'REGION', 'LOCALITY', 'THỊ TRƯỜNG', 'THỊ TRƯỜNG', 'THỊ TRƯỜNG', 'KẾ HOẠCH', 'CÔNG TY', 'CÔNG TY', 'CÔNG TY', 'CÔNG TY', 'CÔNG TY', 'CÔNG TY', 'SỰ_KIỆN', 'CÔNG TY', 'CÔNG TY', 'CÔNG TY', 'THỊ TRƯỜNG', 'NGÀNH_CÔNG_NGHIỆP', 'NHÀ ĐẦU TƯ', 'NHÀ ĐẦU TƯ', 'LĨNH_VỰC', 'KẾ_HOẠCH', 'THÁCH_THỨC', 'TÀI_NGUYÊN', 'TÀI_NGUYÊN', 'KIẾN_THỨC', 'KINH_NGHIỆM', 'HOẠT_ĐỘNG', 'HOẠT_ĐỘNG', 'KHÁI_NIỆM', 'KHÁI_NIỆM', 'CÔNG TY', 'CÔNG TY', 'CÔNG TY', 'PHƯƠNG_PHÁP', 'MỤC_TIEU', 'GIẢI_PHÁP', 'THỊ TRƯỜNG', 'HOẠT ĐỘNG', 'THỊ TRƯỜNG', 'CÔNG TY', 'QUY ĐỊNH', 'QUY ĐỊNH', 'YẾU TỐ MÔI TRƯỜNG', 'THÁCH THỨC', 'CÔNG TY', 'CÔNG TY', 'DỊCH VỤ', 'CÔNG TY', 'DỊCH VỤ', 'CÔNG TY', 'KẾT QUẢ', 'HOẠT ĐỘNG', 'HOẠT ĐỘNG', 'PERSON', 'LỜI CHÚC', 'TÌNH TRẠNG', 'COMPANY', 'BÁO CÁO TÀI CHÍ', 'TÀI SẢN', 'TÀI SẢN', 'COMPANY', 'COMPANY', 'FINANCIAL_REPORT', 'OWNERSHIP', 'PROJECT', 'INVESTMENT_AMOUNT', 'PROJECT', 'CÔNG TY', 'CỔ PHIẾU', 'BÁO_CÁO', 'CHỈ_SỐ', 'TIỀN_TỆ', 'CHỈ_SỐ', 'TIỀN_TỆ', 'HOẠT_ĐỘNG', 'LỢI_NHUẬN', 'CHỈ_SỐ', 'TIỀN_TỆ', 'PHẦN_TRĂM', 'CHỈ_SỐ', 'TIỀN_TỆ', 'TIỀN_TỆ', 'LỢI_NHUẬN', 'PHẦN_TRĂM', 'LỢI_NHUẬN', 'TIỀN_TỆ', 'PHẦN_TRĂM', 'PROJECT', 'PROJECT', 'AREA', 'DESCRIPTION', 'OWNERSHIP', 'PROJECT', 'ASSET_VALUE', 'MULTIPLIER', 'ASSET_INCREASE', 'INVENTORY_VALUE', 'PERCENTAGE', 'INVENTORY_INCREASE', 'RECEIVABLES_INCREASE', 'RECEIVABLES_VALUE', 'PERCENTAGE', 'PERCENTAGE', 'RECEIVABLES_TYPE', 'RELATED_PARTY']\n"
     ]
    }
   ],
   "source": [
    "# Step 1: Extract node properties\n",
    "nodes = simple_index.property_graph_store.get()\n",
    "# print('nodes:', nodes)\n",
    "node_ids = [node.id for node in nodes]\n",
    "print('node_ids:', node_ids)\n",
    "\n",
    "# Step 2: Get the label from each node's properties\n",
    "node_labels = [node.label for node in nodes]\n",
    "print('node_labels:', node_labels)\n",
    "# node_properties = [\" \".join([str(v) for v in node.properties.values()]) for node in nodes]\n",
    "# print('node_properties:', node_properties)"
   ]
  },
  {
   "cell_type": "code",
   "execution_count": 41,
   "metadata": {},
   "outputs": [
    {
     "name": "stdout",
     "output_type": "stream",
     "text": [
      "Retrieved nodes:\n",
      "Query engine:\n",
      "response: Empty Response\n"
     ]
    }
   ],
   "source": [
    "# use\n",
    "retriever = simple_index.as_retriever(\n",
    "    include_text=True,  # include source chunk with matching paths\n",
    "    similarity_top_k=5,  # top k for vector kg node retrieval\n",
    ")\n",
    "\n",
    "question = \"lãi sau thuế của công ty chứng khoán lpbank ?\"\n",
    "nodes = retriever.retrieve(question)\n",
    "print(\"Retrieved nodes:\")\n",
    "for node in nodes:\n",
    "    print(node.text)\n",
    "\n",
    "print(\"Query engine:\")\n",
    "query_engine = simple_index.as_query_engine(\n",
    "    include_text=True,  # include source chunk with matching paths\n",
    "    similarity_top_k=5,  # top k for vector kg node retrieval\n",
    ")\n",
    "response = query_engine.query(question)\n",
    "print(\"response:\", response)\n"
   ]
  },
  {
   "cell_type": "code",
   "execution_count": 42,
   "metadata": {},
   "outputs": [
    {
     "name": "stdout",
     "output_type": "stream",
     "text": [
      "Retrieved nodes:\n",
      "Question: lãi sau thuế của Chứng khoán LPBank ?\n",
      "Expected Answer: Tăng 275% so với cùng kỳ năm trước\n",
      "Actual Answer: Empty Response\n",
      "\n",
      "Retrieved nodes:\n",
      "Question: thu gom cố phiếu MSN?\n",
      "Expected Answer: Khối ngoại cũng giải ngân mua ròng 179 tỷ tại cổ phiếu MSN\n",
      "Actual Answer: Empty Response\n",
      "\n",
      "Retrieved nodes:\n",
      "Question: Doanh thu Bia Sài Gòn - Quảng Ngãi (BSQ) ?\n",
      "Expected Answer: Bia Sài Gòn - Quảng Ngãi (BSQ) ghi nhận doanh thu 418 tỷ đồng\n",
      "Actual Answer: Empty Response\n",
      "\n",
      "Retrieved nodes:\n",
      "Node: Here are some facts extracted from the provided text:\n",
      "\n",
      "Lực mua ròng -> GHI_NHẬN_TẠI -> TCB\n",
      "Lực mua ròng -> GHI_NHẬN_TẠI -> TPB\n",
      "Lực mua ròng -> GHI_NHẬN_TẠI -> ACV\n",
      "Lực mua ròng -> TRONG -> 5 phiên tuần qua\n",
      "Lực mua ròng -> GHI_NHẬN_TẠI -> MWG\n",
      "Lực mua ròng -> GHI_NHẬN_TẠI -> YEG\n",
      "\n",
      "Khối Ngoại Mua Ròng Tại Một Số Cổ Phiếu\n",
      "\n",
      "Chiều ngược lại, cổ phiếu STB tuần này tiếp tục thu hút dòng vốn khối ngoại chảy vào, được mua ròng mạnh nhất với 221 tỷ đồng. Khối ngoại cũng giải ngân mua ròng 179 tỷ tại cổ phiếu MSN, đồng thời mua ròng tại NTL với 95 tỷ đồng. Lực mua ròng trong tuần qua còn ghi nhận tại ACV, YEG, TCB, TPB, MWG,... trong 5 phiên tuần qua.\n",
      "Question: Lực mua ròng các cổ phiếu nào ?\n",
      "Expected Answer: ACV', 'YEG', 'TCB', 'TPB', 'MWG'\n",
      "Actual Answer: Lực mua ròng ghi nhận tại các cổ phiếu TCB, TPB, ACV, MWG, và YEG.\n",
      "\n",
      "Retrieved nodes:\n",
      "Node: Here are some facts extracted from the provided text:\n",
      "\n",
      "Công ty con -> ĐANG_TRIỂN_KHAI -> dự án Vinhomes Global Gate\n",
      "Công ty con -> CHIẾM -> hơn 83% vốn\n",
      "Công ty con -> SỞ_HỮU -> Vingroup\n",
      "\n",
      "Báo Cáo Tài Chính Quý 3/2024 của VEFAC\n",
      "\n",
      "Công ty con do Vingroup sở hữu đến hơn 83% vốn, đang triển khai dự án **Vinhomes Global Gate (Vinhomes Cổ Loa)** với tổng vốn đầu tư khoảng 35.000 tỷ đồng.\n",
      "Question: VEFAC là công ty con của ?\n",
      "Expected Answer: VIC\n",
      "Actual Answer: VEFAC là công ty con của Vingroup.\n",
      "\n"
     ]
    }
   ],
   "source": [
    "test_pairs = [\n",
    "    (\"lãi sau thuế của Chứng khoán LPBank ?\", \"Tăng 275% so với cùng kỳ năm trước\"),\n",
    "    (\"thu gom cố phiếu MSN?\", \"Khối ngoại cũng giải ngân mua ròng 179 tỷ tại cổ phiếu MSN\"),\n",
    "    (\"Doanh thu Bia Sài Gòn - Quảng Ngãi (BSQ) ?\", \"Bia Sài Gòn - Quảng Ngãi (BSQ) ghi nhận doanh thu 418 tỷ đồng\"),\n",
    "    (\"Lực mua ròng các cổ phiếu nào ?\", \"ACV', 'YEG', 'TCB', 'TPB', 'MWG'\"),\n",
    "    (\"VEFAC là công ty con của ?\", \"VIC\")\n",
    "]\n",
    "\n",
    "for question, expected_answer in test_pairs:\n",
    "    response = query_engine.query(question)\n",
    "    nodes = retriever.retrieve(question)\n",
    "    print(\"Retrieved nodes:\")\n",
    "    for node in nodes:\n",
    "        print(f\"Node: {node.text}\")\n",
    "    print(f\"Question: {question}\")\n",
    "    print(f\"Expected Answer: {expected_answer}\")\n",
    "    print(f\"Actual Answer: {response.response}\")\n",
    "    print()"
   ]
  },
  {
   "cell_type": "markdown",
   "metadata": {},
   "source": [
    "## Kết luận\n",
    "\n",
    "Mặc dù liệt kê được nhiều entity và relation từ text, nhưng kết quả query thường trả về empty set. Có vẻ cách trích xuất này chưa hiệu quả lắm."
   ]
  }
 ],
 "metadata": {
  "kernelspec": {
   "display_name": ".venv",
   "language": "python",
   "name": "python3"
  },
  "language_info": {
   "codemirror_mode": {
    "name": "ipython",
    "version": 3
   },
   "file_extension": ".py",
   "mimetype": "text/x-python",
   "name": "python",
   "nbconvert_exporter": "python",
   "pygments_lexer": "ipython3",
   "version": "3.10.3"
  }
 },
 "nbformat": 4,
 "nbformat_minor": 2
}
