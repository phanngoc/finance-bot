{
 "cells": [
  {
   "cell_type": "markdown",
   "id": "6a728deb-28da-4064-8e66-bef416022207",
   "metadata": {},
   "source": [
    "# Knowledge Graph Agent with LlamaParse\n",
    "\n",
    "<a href=\"https://colab.research.google.com/github/run-llama/llama_parse/blob/main/examples/knowledge_graphs/kg_agent.ipynb\" target=\"_parent\"><img src=\"https://colab.research.google.com/assets/colab-badge.svg\" alt=\"Open In Colab\"/></a>\n",
    "\n",
    "Here we build a knowledge graph agent over the SF 2023 Budget Proposal. We use LlamaIndex abstractions to construct a knowledge graph, and we store the property graph in neo4j. We then build an agent that can interact with the knowledge graph as a tool."
   ]
  },
  {
   "cell_type": "markdown",
   "id": "e8db8ac2-5221-44de-a53e-cb5ab37ac8f5",
   "metadata": {},
   "source": [
    "## Setup (Installs, Data, Models)"
   ]
  },
  {
   "cell_type": "code",
   "execution_count": 2,
   "id": "28ccdbd4",
   "metadata": {},
   "outputs": [],
   "source": [
    "# !pip install llama-index\n",
    "# !pip install llama-index-core==0.10.42\n",
    "# !pip install llama-index-embeddings-openai\n",
    "# !pip install llama-index-postprocessor-flag-embedding-reranker\n",
    "# !pip install git+https://github.com/FlagOpen/FlagEmbedding.git\n",
    "# !pip install llama-index-graph-stores-neo4j\n",
    "# !pip install llama-parse"
   ]
  },
  {
   "cell_type": "code",
   "execution_count": 13,
   "id": "580ecfc2-b082-4c4e-910a-7f88e8137aad",
   "metadata": {},
   "outputs": [],
   "source": [
    "import nest_asyncio\n",
    "\n",
    "nest_asyncio.apply()"
   ]
  },
  {
   "cell_type": "code",
   "execution_count": 14,
   "id": "c86e95e2-0fdf-4bb1-bf2e-b33af13ac7ef",
   "metadata": {},
   "outputs": [],
   "source": [
    "import os\n",
    "from dotenv import load_dotenv\n",
    "\n",
    "# Load environment variables from a .env file\n",
    "load_dotenv()\n",
    "\n",
    "\n",
    "openai_api_key = os.getenv(\"OPENAI_API_KEY\")\n",
    "llama_api_key = os.getenv(\"LLAMA_CLOUD_API_KEY\")\n",
    "# API access to llama-cloud\n",
    "# os.environ[\"LLAMA_CLOUD_API_KEY\"] = \"llx-\""
   ]
  },
  {
   "cell_type": "markdown",
   "id": "d6f683f2-a41e-4975-843c-435407132f0e",
   "metadata": {},
   "source": [
    "#### Setup Model\n",
    "\n",
    "Here we use gpt-4o and default OpenAI embeddings."
   ]
  },
  {
   "cell_type": "code",
   "execution_count": 15,
   "id": "d91854ee-d57a-4d7b-bcc8-c6bd7214fe84",
   "metadata": {},
   "outputs": [],
   "source": [
    "from llama_index.llms.openai import OpenAI\n",
    "from llama_index.embeddings.openai import OpenAIEmbedding\n",
    "from llama_index.core import Settings\n",
    "\n",
    "llm = OpenAI(model=\"gpt-4o\", api_key=openai_api_key)\n",
    "embed_model = OpenAIEmbedding(model=\"text-embedding-3-small\")\n",
    "\n",
    "Settings.llm = llm\n",
    "Settings.embed_model = embed_model"
   ]
  },
  {
   "cell_type": "markdown",
   "id": "5bcf33f7-b195-444d-9355-ab47c91be6ad",
   "metadata": {},
   "source": [
    "#### Load Data\n",
    "\n",
    "Here we load the 2023 Budget PDF and parse it with LlamaParse."
   ]
  },
  {
   "cell_type": "code",
   "execution_count": 4,
   "id": "96d13f0b-1749-4c06-a4f7-b6f885db04d3",
   "metadata": {},
   "outputs": [],
   "source": [
    "file_path = './data/1722336031_VNM_-_Thuyết_trình_KQKD_Q2.2024_.pdf'\n",
    "\n",
    "from llama_index.readers.file import PyMuPDFReader\n",
    "\n",
    "loader = PyMuPDFReader()\n",
    "documents = loader.load(file_path=file_path)"
   ]
  },
  {
   "cell_type": "code",
   "execution_count": 5,
   "id": "830becd4",
   "metadata": {},
   "outputs": [],
   "source": [
    "from llama_index.core.node_parser import SentenceSplitter\n",
    "\n",
    "text_parser = SentenceSplitter(\n",
    "    chunk_size=1024,\n",
    "    # separator=\" \",\n",
    ")\n",
    "\n",
    "text_chunks = []\n",
    "# maintain relationship with source doc index, to help inject doc metadata in (3)\n",
    "doc_idxs = []\n",
    "for doc_idx, doc in enumerate(documents):\n",
    "    cur_text_chunks = text_parser.split_text(doc.text)\n",
    "    text_chunks.extend(cur_text_chunks)\n",
    "    doc_idxs.extend([doc_idx] * len(cur_text_chunks))"
   ]
  },
  {
   "cell_type": "code",
   "execution_count": 10,
   "id": "aee105dc",
   "metadata": {},
   "outputs": [
    {
     "name": "stdout",
     "output_type": "stream",
     "text": [
      "['THUYẾT TRÌNH LỢI NHUẬN\\nGiai đoạn 6 tháng kết thúc ngày 30/06/2024 (“năm 2024”)', 'Giai đoạn 6T kết thúc ngày 30/06/2024\\nTóm Tắt Kết Quả Kinh Doanh \\n3\\nKết quả hợp nhất – Q2/2024\\nĐơn vị: Tỷ đồng\\n16.665\\n9,5% YoY\\nTỔNG DOANH THU\\n7.068\\n+14,9% YoY\\nLỢI NHUẬN GỘP\\n42,4%\\n+200 đcb YoY\\nBIÊN LÃI GỘP\\n 2.695\\n+20,9% YoY\\nLỢI NHUẬN RÒNG\\n16,2%\\n+151 đcb YoY\\nBIÊN LÃI RÒNG\\n 934\\n+21,7% YoY\\nEPS (VNĐ)\\n48,7%\\n52,3%\\nKH2024\\nKH2024\\n 30.790\\n+5,6% YoY\\nTỔNG DOANH THU\\n 4.903\\n+18,6% YoY\\nLN SAU THUẾ\\n6T/2024', 'Giai đoạn 6T kết thúc ngày 30/06/2024\\n4\\nThông Điệp Tổng Giám Đốc\\nNhững con số này là minh chứng cho những nỗ lực không ngừng trong \\ncải tiến sản phẩm, nâng cao chất lượng dịch vụ, mở rộng thị trường và tối ưu \\nhiệu quả hoạt động. Dù còn nhiều điều cần làm, nhưng với kết quả đáng khích \\nlệ trong nửa đầu năm 2024, chúng tôi tự tin hướng đến mục tiệu hoàn thành \\nkế hoạch cả năm và tin tưởng rằng Vinamilk sẽ tiếp tục là điểm sáng trên thị \\ntrường, mang lại giá trị bền vững cho các nhà đầu tư.”\\nBà MAI KIỀU LIÊN\\nTổng Giám Đốc\\nVinamilk đã có một quý 2 vượt trội khi tổng doanh thu hợp \\nnhất lập kỷ lục mới, đánh dấu một cột mốc quan trọng trong hành \\ntrình chăm sóc sức khỏe cho cộng đồng của chúng tôi. Quan trọng \\nhơn, chúng tôi đã đạt tăng trưởng ở tất cả các bộ phận từ trong nước, \\nxuất khẩu đến các đơn vị thành viên trong và ngoài nước.']\n"
     ]
    }
   ],
   "source": [
    "print(text_chunks[:3])"
   ]
  },
  {
   "cell_type": "code",
   "execution_count": 42,
   "id": "29af8b4e",
   "metadata": {},
   "outputs": [
    {
     "name": "stderr",
     "output_type": "stream",
     "text": [
      "Received notification from DBMS server: {severity: WARNING} {code: Neo.ClientNotification.Statement.FeatureDeprecationWarning} {category: DEPRECATION} {title: This feature is deprecated and will be removed in future versions.} {description: The procedure has a deprecated field. ('config' used by 'apoc.meta.graphSample' is deprecated.)} {position: line: 1, column: 1, offset: 0} for query: \"CALL apoc.meta.graphSample() YIELD nodes, relationships RETURN nodes, [rel in relationships | {name:apoc.any.property(rel, 'type'), count: apoc.any.property(rel, 'count')}] AS relationships\"\n"
     ]
    }
   ],
   "source": [
    "from llama_index.graph_stores.neo4j import Neo4jPropertyGraphStore\n",
    "\n",
    "# Note: used to be `Neo4jPGStore`\n",
    "graph_store = Neo4jPropertyGraphStore(\n",
    "    username=\"neo4j\",\n",
    "    password=\"ttt@123ASD\",\n",
    "    url=\"bolt://localhost:7687\",\n",
    ")"
   ]
  },
  {
   "cell_type": "code",
   "execution_count": 50,
   "id": "a4c94266",
   "metadata": {},
   "outputs": [
    {
     "ename": "AttributeError",
     "evalue": "'Neo4jPropertyGraphStore' object has no attribute 'clear'",
     "output_type": "error",
     "traceback": [
      "\u001b[0;31m---------------------------------------------------------------------------\u001b[0m",
      "\u001b[0;31mAttributeError\u001b[0m                            Traceback (most recent call last)",
      "Cell \u001b[0;32mIn[50], line 1\u001b[0m\n\u001b[0;32m----> 1\u001b[0m \u001b[43mgraph_store\u001b[49m\u001b[38;5;241;43m.\u001b[39;49m\u001b[43mclear\u001b[49m()\n",
      "\u001b[0;31mAttributeError\u001b[0m: 'Neo4jPropertyGraphStore' object has no attribute 'clear'"
     ]
    }
   ],
   "source": [
    "graph_store.clear()"
   ]
  },
  {
   "cell_type": "code",
   "execution_count": 43,
   "id": "9afcf38e-3c7e-4b48-ae23-61b33f1a448a",
   "metadata": {},
   "outputs": [
    {
     "name": "stderr",
     "output_type": "stream",
     "text": [
      "Parsing nodes:   0%|          | 0/22 [00:00<?, ?it/s]"
     ]
    },
    {
     "name": "stderr",
     "output_type": "stream",
     "text": [
      "Parsing nodes: 100%|██████████| 22/22 [00:00<00:00, 439.33it/s]\n",
      "Extracting paths from text with schema:  17%|█▋        | 4/23 [00:08<00:26,  1.40s/it]/Users/ngocp/Documents/projects/finance-bot/.venv/lib/python3.10/site-packages/pydantic/json_schema.py:1503: RuntimeWarning: coroutine 'arun_transformations' was never awaited\n",
      "  named_required_fields: list[tuple[str, bool, CoreSchemaField]] = [\n",
      "RuntimeWarning: Enable tracemalloc to get the object allocation traceback\n",
      "Extracting paths from text with schema: 100%|██████████| 23/23 [00:39<00:00,  1.71s/it]\n",
      "Generating embeddings: 100%|██████████| 1/1 [00:01<00:00,  1.64s/it]\n",
      "Generating embeddings: 100%|██████████| 1/1 [00:01<00:00,  1.85s/it]\n",
      "Received notification from DBMS server: {severity: WARNING} {code: Neo.ClientNotification.Statement.FeatureDeprecationWarning} {category: DEPRECATION} {title: This feature is deprecated and will be removed in future versions.} {description: CALL subquery without a variable scope clause is now deprecated. Use CALL (e, row) { ... }} {position: line: 10, column: 21, offset: 397} for query: \"\\n                    UNWIND $data AS row\\n                    MERGE (e:__Node__ {id: row.id})\\n                    SET e += apoc.map.clean(row.properties, [], [])\\n                    SET e.name = row.name, e:`__Entity__`\\n                    WITH e, row\\n                    CALL apoc.create.addLabels(e, [row.label])\\n                    YIELD node\\n                    WITH e, row\\n                    CALL {\\n                        WITH e, row\\n                        WITH e, row\\n                        WHERE row.embedding IS NOT NULL\\n                        CALL db.create.setNodeVectorProperty(e, 'embedding', row.embedding)\\n                        RETURN count(*) AS count\\n                    }\\n                    WITH e, row WHERE row.properties.triplet_source_id IS NOT NULL\\n                    MERGE (c:__Node__ {id: row.properties.triplet_source_id})\\n                    MERGE (e)<-[:MENTIONS]-(c)\\n                    \"\n",
      "Received notification from DBMS server: {severity: WARNING} {code: Neo.ClientNotification.Statement.FeatureDeprecationWarning} {category: DEPRECATION} {title: This feature is deprecated and will be removed in future versions.} {description: The procedure has a deprecated field. ('config' used by 'apoc.meta.graphSample' is deprecated.)} {position: line: 1, column: 1, offset: 0} for query: \"CALL apoc.meta.graphSample() YIELD nodes, relationships RETURN nodes, [rel in relationships | {name:apoc.any.property(rel, 'type'), count: apoc.any.property(rel, 'count')}] AS relationships\"\n"
     ]
    }
   ],
   "source": [
    "from llama_index.core import PropertyGraphIndex\n",
    "from llama_index.embeddings.openai import OpenAIEmbedding\n",
    "from llama_index.llms.openai import OpenAI\n",
    "from llama_index.core.indices.property_graph import SchemaLLMPathExtractor\n",
    "\n",
    "\n",
    "index = PropertyGraphIndex.from_documents(\n",
    "    documents,\n",
    "    embed_model=OpenAIEmbedding(model_name=\"text-embedding-3-small\"),\n",
    "    kg_extractors=[\n",
    "        SchemaLLMPathExtractor(\n",
    "            llm=OpenAI(model=\"gpt-4o-mini\", temperature=0.3)\n",
    "        )\n",
    "    ],\n",
    "    property_graph_store=graph_store,\n",
    "    show_progress=True,\n",
    ")\n"
   ]
  },
  {
   "cell_type": "code",
   "execution_count": 38,
   "id": "43d7b31f",
   "metadata": {},
   "outputs": [
    {
     "name": "stdout",
     "output_type": "stream",
     "text": [
      "Requirement already satisfied: py2neo in ./.venv/lib/python3.10/site-packages (2021.2.4)\n",
      "Collecting matplotlib\n",
      "  Using cached matplotlib-3.9.2-cp310-cp310-macosx_11_0_arm64.whl.metadata (11 kB)\n",
      "Requirement already satisfied: certifi in ./.venv/lib/python3.10/site-packages (from py2neo) (2024.8.30)\n",
      "Requirement already satisfied: interchange~=2021.0.4 in ./.venv/lib/python3.10/site-packages (from py2neo) (2021.0.4)\n",
      "Requirement already satisfied: monotonic in ./.venv/lib/python3.10/site-packages (from py2neo) (1.6)\n",
      "Requirement already satisfied: packaging in ./.venv/lib/python3.10/site-packages (from py2neo) (24.1)\n",
      "Requirement already satisfied: pansi>=2020.7.3 in ./.venv/lib/python3.10/site-packages (from py2neo) (2020.7.3)\n",
      "Requirement already satisfied: pygments>=2.0.0 in ./.venv/lib/python3.10/site-packages (from py2neo) (2.18.0)\n",
      "Requirement already satisfied: six>=1.15.0 in ./.venv/lib/python3.10/site-packages (from py2neo) (1.16.0)\n",
      "Requirement already satisfied: urllib3 in ./.venv/lib/python3.10/site-packages (from py2neo) (2.2.3)\n",
      "Collecting contourpy>=1.0.1 (from matplotlib)\n",
      "  Using cached contourpy-1.3.0-cp310-cp310-macosx_11_0_arm64.whl.metadata (5.4 kB)\n",
      "Collecting cycler>=0.10 (from matplotlib)\n",
      "  Using cached cycler-0.12.1-py3-none-any.whl.metadata (3.8 kB)\n",
      "Collecting fonttools>=4.22.0 (from matplotlib)\n",
      "  Using cached fonttools-4.54.1-cp310-cp310-macosx_11_0_arm64.whl.metadata (163 kB)\n",
      "Collecting kiwisolver>=1.3.1 (from matplotlib)\n",
      "  Using cached kiwisolver-1.4.7-cp310-cp310-macosx_11_0_arm64.whl.metadata (6.3 kB)\n",
      "Requirement already satisfied: numpy>=1.23 in ./.venv/lib/python3.10/site-packages (from matplotlib) (1.26.4)\n",
      "Requirement already satisfied: pillow>=8 in ./.venv/lib/python3.10/site-packages (from matplotlib) (11.0.0)\n",
      "Collecting pyparsing>=2.3.1 (from matplotlib)\n",
      "  Downloading pyparsing-3.2.0-py3-none-any.whl.metadata (5.0 kB)\n",
      "Requirement already satisfied: python-dateutil>=2.7 in ./.venv/lib/python3.10/site-packages (from matplotlib) (2.9.0.post0)\n",
      "Requirement already satisfied: pytz in ./.venv/lib/python3.10/site-packages (from interchange~=2021.0.4->py2neo) (2024.2)\n",
      "Using cached matplotlib-3.9.2-cp310-cp310-macosx_11_0_arm64.whl (7.8 MB)\n",
      "Using cached contourpy-1.3.0-cp310-cp310-macosx_11_0_arm64.whl (249 kB)\n",
      "Using cached cycler-0.12.1-py3-none-any.whl (8.3 kB)\n",
      "Using cached fonttools-4.54.1-cp310-cp310-macosx_11_0_arm64.whl (2.3 MB)\n",
      "Using cached kiwisolver-1.4.7-cp310-cp310-macosx_11_0_arm64.whl (64 kB)\n",
      "Downloading pyparsing-3.2.0-py3-none-any.whl (106 kB)\n",
      "Installing collected packages: pyparsing, kiwisolver, fonttools, cycler, contourpy, matplotlib\n",
      "Successfully installed contourpy-1.3.0 cycler-0.12.1 fonttools-4.54.1 kiwisolver-1.4.7 matplotlib-3.9.2 pyparsing-3.2.0\n"
     ]
    }
   ],
   "source": [
    "!pip install py2neo matplotlib"
   ]
  },
  {
   "cell_type": "code",
   "execution_count": 1,
   "id": "e56e0acd",
   "metadata": {},
   "outputs": [
    {
     "data": {
      "image/png": "[encoded data removed]",
      "text/plain": [
       "<Figure size 640x480 with 1 Axes>"
      ]
     },
     "metadata": {},
     "output_type": "display_data"
    }
   ],
   "source": [
    "from py2neo import Graph\n",
    "import networkx as nx\n",
    "\n",
    "\n",
    "import matplotlib.pyplot as plt\n",
    "\n",
    "# Connect to the Neo4j database\n",
    "graph = Graph(\"bolt://localhost:7687\", auth=(\"neo4j\", \"ttt@123ASD\"))\n",
    "\n",
    "# Query to get nodes and relationships\n",
    "query = \"\"\"\n",
    "MATCH (n)-[r]->(m)\n",
    "RETURN n, r, m\n",
    "\"\"\"\n",
    "data = graph.run(query).data()\n",
    "\n",
    "# Create a directed graph\n",
    "G = nx.DiGraph()\n",
    "\n",
    "# Add nodes and edges to the graph\n",
    "for record in data:\n",
    "    n = record['n']\n",
    "    m = record['m']\n",
    "    r = record['r']\n",
    "    \n",
    "    if n['name'] is not None and m['name'] is not None:\n",
    "        print('check:', n['name'], m['name'], r.type)\n",
    "        \n",
    "        G.add_node(n['name'][:30], label=n['name'][:30])\n",
    "        G.add_node(m['name'][:30], label=m['name'][:30])\n",
    "        G.add_edge(n.identity, m.identity, label=r.type)\n",
    "\n",
    "# Draw the graph\n",
    "pos = nx.spring_layout(G)\n",
    "nx.draw(G, pos, with_labels=True, node_size=3000, node_color=\"skyblue\", font_size=10, font_color=\"black\", font_weight=\"bold\", edge_color=\"gray\")\n",
    "edge_labels = nx.get_edge_attributes(G, 'label')\n",
    "nx.draw_networkx_edge_labels(G, pos, edge_labels=edge_labels)\n",
    "\n",
    "plt.show()"
   ]
  },
  {
   "cell_type": "code",
   "execution_count": 33,
   "id": "a9c905c3",
   "metadata": {},
   "outputs": [],
   "source": [
    "# question = \"Nền kinh tế Việt Nam trong quý 2/2024 tăng trưởng bao nhiêu % so với cùng kỳ năm trước?\"\n",
    "# question = \"Bức tranh nền kinh tế Việt Nam trong quý 2/2024 như thế nào?\"\n",
    "question = \"Doanh thu các thị trường nước ngoài\""
   ]
  },
  {
   "cell_type": "code",
   "execution_count": 34,
   "id": "9bf5e915",
   "metadata": {},
   "outputs": [
    {
     "name": "stdout",
     "output_type": "stream",
     "text": [
      "Doanh thu thuần xuất khẩu -> USED_FOR -> thị trường xuất khẩu trọng điểm\n"
     ]
    }
   ],
   "source": [
    "retriever = index.as_retriever(\n",
    "    include_text=False,  # include source text in returned nodes, default True\n",
    ")\n",
    "\n",
    "nodes = retriever.retrieve(question)\n",
    "\n",
    "for node in nodes:\n",
    "    print(node.text)"
   ]
  },
  {
   "cell_type": "code",
   "execution_count": 30,
   "id": "bef28fe4",
   "metadata": {},
   "outputs": [
    {
     "name": "stdout",
     "output_type": "stream",
     "text": [
      "Trong quý 2/2024, nền kinh tế Việt Nam có những điểm sáng đáng chú ý. Doanh thu thuần từ xuất khẩu đạt 1.740 tỷ đồng, tăng 37,0% so với cùng kỳ năm trước, cho thấy sự cải thiện đáng kể so với mức tăng 5,9% trong quý 1/2024. Điều này phản ánh sự cải tiến sản phẩm và tăng cường hỗ trợ các đối tác tại các thị trường xuất khẩu trọng điểm. Ngoài ra, doanh thu thuần từ các chi nhánh nước ngoài cũng đạt 1.384 tỷ đồng, tăng trưởng 21,8% so với cùng kỳ, vượt qua mức tăng 9,6% trong quý 1/2024. Các công ty như Angkormilk và Driftwood đã có những nỗ lực đáng kể trong marketing và đảm bảo nguồn cung để hoàn thành đơn hàng, góp phần vào sự tăng trưởng này.\n"
     ]
    }
   ],
   "source": [
    "query_engine = index.as_query_engine(include_text=True)\n",
    "response = query_engine.query(question)\n",
    "\n",
    "print(str(response))"
   ]
  }
 ],
 "metadata": {
  "kernelspec": {
   "display_name": ".venv",
   "language": "python",
   "name": "python3"
  },
  "language_info": {
   "codemirror_mode": {
    "name": "ipython",
    "version": 3
   },
   "file_extension": ".py",
   "mimetype": "text/x-python",
   "name": "python",
   "nbconvert_exporter": "python",
   "pygments_lexer": "ipython3",
   "version": "3.10.3"
  }
 },
 "nbformat": 4,
 "nbformat_minor": 5
}
