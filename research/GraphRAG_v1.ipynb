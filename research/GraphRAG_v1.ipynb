{
 "cells": [
  {
   "cell_type": "markdown",
   "metadata": {
    "id": "FK10JcbM8bQV"
   },
   "source": [
    "<a href=\"https://colab.research.google.com/github/run-llama/llama_index/blob/main/docs/docs/examples/cookbooks/GraphRAG_v1.ipynb\" target=\"_parent\"><img src=\"https://colab.research.google.com/assets/colab-badge.svg\" alt=\"Open In Colab\"/></a>"
   ]
  },
  {
   "cell_type": "markdown",
   "metadata": {
    "id": "2osOnBea8bQX"
   },
   "source": [
    "# GraphRAG Implementation with LlamaIndex\n",
    "\n",
    "[GraphRAG (Graphs + Retrieval Augmented Generation)](https://www.microsoft.com/en-us/research/project/graphrag/) combines the "
   ]
  },
  {
   "cell_type": "markdown",
   "metadata": {
    "id": "tcx_XML58bQX"
   },
   "source": [
    "## GraphRAG Aproach\n",
    "\n",
    "The GraphRAG involves two steps:\n",
    "\n",
    "1. Graph Generation - Creates Graph, builds communities and its summaries over the given document.\n",
    "2. Answer to the Query - Use summaries of the communities created from step-1 to answer the query.\n",
    "\n",
    "**Graph Generation:**\n",
    "\n",
    "1. **Source Documents to Text Chunks:** Source documents are divided into smaller text chunks for easier processing.\n",
    "\n",
    "2. **Text Chunks to Element Instances:** Each text chunk is analyzed to identify and extract entities and relationships, resulting in a list of tuples that represent these elements.\n",
    "\n",
    "3. **Element Instances to Element Summaries:** The extracted entities and relationships are summarized into descriptive text blocks for each element using the LLM.\n",
    "\n",
    "4. **Element Summaries to Graph Communities:** These entities, relationships and summaries form a graph, which is subsequently partitioned into communities using algorithms using Heirarchical Leiden to establish a hierarchical structure.\n",
    "\n",
    "5. **Graph Communities to Community Summaries:** The LLM generates summaries for each community, providing insights into the dataset’s overall topical structure and semantics.\n",
    "\n",
    "**Answering the Query:**\n",
    "\n",
    "**Community Summaries to Global Answers:** The summaries of the communities are utilized to respond to user queries. This involves generating intermediate answers, which are then consolidated into a comprehensive global answer.\n"
   ]
  },
  {
   "cell_type": "markdown",
   "metadata": {
    "id": "-OP9Ck0s8bQY"
   },
   "source": [
    "## GraphRAG Pipeline Components\n",
    "\n",
    "Here are the different components we implemented to build all of the processes mentioned above.\n",
    "\n",
    "1. **Source Documents to Text Chunks:** Implemented using `SentenceSplitter` with a chunk size of 1024 and chunk overlap of 20 tokens.\n",
    "\n",
    "2. **Text Chunks to Element Instances AND Element Instances to Element Summaries:** Implemented using `GraphRAGExtractor`.\n",
    "\n",
    "3. **Element Summaries to Graph Communities AND Graph Communities to Community Summaries:** Implemented using `GraphRAGStore`.\n",
    "\n",
    "4. **Community Summaries to Global Answers:** Implemented using `GraphQueryEngine`.\n",
    "\n",
    "\n",
    "Let's check into each of these components and build GraphRAG pipeline.\n"
   ]
  },
  {
   "cell_type": "markdown",
   "metadata": {
    "id": "LfwiNo4F8bQY"
   },
   "source": [
    "## Installation\n",
    "\n",
    "`graspologic` is used to use hierarchical_leiden for building communities."
   ]
  },
  {
   "cell_type": "code",
   "execution_count": 26,
   "metadata": {
    "id": "HaPn2ApU8bQY"
   },
   "outputs": [
    {
     "name": "stdout",
     "output_type": "stream",
     "text": [
      "Requirement already satisfied: llama-index in /Users/ngocp/Documents/projects/finance-bot/.venv/lib/python3.10/site-packages (0.11.21)\n",
      "Requirement already satisfied: graspologic in /Users/ngocp/Documents/projects/finance-bot/.venv/lib/python3.10/site-packages (3.3.0)\n",
      "Requirement already satisfied: numpy==1.24.4 in /Users/ngocp/Documents/projects/finance-bot/.venv/lib/python3.10/site-packages (1.24.4)\n",
      "Requirement already satisfied: scipy==1.12.0 in /Users/ngocp/Documents/projects/finance-bot/.venv/lib/python3.10/site-packages (1.12.0)\n",
      "Requirement already satisfied: llama-index-agent-openai<0.4.0,>=0.3.4 in /Users/ngocp/Documents/projects/finance-bot/.venv/lib/python3.10/site-packages (from llama-index) (0.3.4)\n",
      "Requirement already satisfied: llama-index-cli<0.4.0,>=0.3.1 in /Users/ngocp/Documents/projects/finance-bot/.venv/lib/python3.10/site-packages (from llama-index) (0.3.1)\n",
      "Requirement already satisfied: llama-index-core<0.12.0,>=0.11.20 in /Users/ngocp/Documents/projects/finance-bot/.venv/lib/python3.10/site-packages (from llama-index) (0.11.21)\n",
      "Requirement already satisfied: llama-index-embeddings-openai<0.3.0,>=0.2.4 in /Users/ngocp/Documents/projects/finance-bot/.venv/lib/python3.10/site-packages (from llama-index) (0.2.5)\n",
      "Requirement already satisfied: llama-index-indices-managed-llama-cloud>=0.3.0 in /Users/ngocp/Documents/projects/finance-bot/.venv/lib/python3.10/site-packages (from llama-index) (0.4.0)\n",
      "Requirement already satisfied: llama-index-legacy<0.10.0,>=0.9.48 in /Users/ngocp/Documents/projects/finance-bot/.venv/lib/python3.10/site-packages (from llama-index) (0.9.48.post3)\n",
      "Requirement already satisfied: llama-index-llms-openai<0.3.0,>=0.2.10 in /Users/ngocp/Documents/projects/finance-bot/.venv/lib/python3.10/site-packages (from llama-index) (0.2.16)\n",
      "Requirement already satisfied: llama-index-multi-modal-llms-openai<0.3.0,>=0.2.0 in /Users/ngocp/Documents/projects/finance-bot/.venv/lib/python3.10/site-packages (from llama-index) (0.2.3)\n",
      "Requirement already satisfied: llama-index-program-openai<0.3.0,>=0.2.0 in /Users/ngocp/Documents/projects/finance-bot/.venv/lib/python3.10/site-packages (from llama-index) (0.2.0)\n",
      "Requirement already satisfied: llama-index-question-gen-openai<0.3.0,>=0.2.0 in /Users/ngocp/Documents/projects/finance-bot/.venv/lib/python3.10/site-packages (from llama-index) (0.2.0)\n",
      "Requirement already satisfied: llama-index-readers-file<0.3.0,>=0.2.0 in /Users/ngocp/Documents/projects/finance-bot/.venv/lib/python3.10/site-packages (from llama-index) (0.2.2)\n",
      "Requirement already satisfied: llama-index-readers-llama-parse>=0.3.0 in /Users/ngocp/Documents/projects/finance-bot/.venv/lib/python3.10/site-packages (from llama-index) (0.3.0)\n",
      "Requirement already satisfied: nltk>3.8.1 in /Users/ngocp/Documents/projects/finance-bot/.venv/lib/python3.10/site-packages (from llama-index) (3.9.1)\n",
      "Requirement already satisfied: anytree>=2.8.0 in /Users/ngocp/Documents/projects/finance-bot/.venv/lib/python3.10/site-packages (from graspologic) (2.12.1)\n",
      "Requirement already satisfied: beartype>=0.10.0 in /Users/ngocp/Documents/projects/finance-bot/.venv/lib/python3.10/site-packages (from graspologic) (0.19.0)\n",
      "Requirement already satisfied: gensim!=4.2.0,>=4.0.0 in /Users/ngocp/Documents/projects/finance-bot/.venv/lib/python3.10/site-packages (from graspologic) (4.3.3)\n",
      "Requirement already satisfied: graspologic-native>=1.1.1 in /Users/ngocp/Documents/projects/finance-bot/.venv/lib/python3.10/site-packages (from graspologic) (1.2.1)\n",
      "Requirement already satisfied: hyppo>=0.3.2 in /Users/ngocp/Documents/projects/finance-bot/.venv/lib/python3.10/site-packages (from graspologic) (0.5.1)\n",
      "Requirement already satisfied: joblib>=0.17.0 in /Users/ngocp/Documents/projects/finance-bot/.venv/lib/python3.10/site-packages (from graspologic) (1.4.2)\n",
      "Requirement already satisfied: matplotlib!=3.3.*,!=3.6.1,>=3.0.0 in /Users/ngocp/Documents/projects/finance-bot/.venv/lib/python3.10/site-packages (from graspologic) (3.9.2)\n",
      "Requirement already satisfied: networkx>=2.1 in /Users/ngocp/Documents/projects/finance-bot/.venv/lib/python3.10/site-packages (from graspologic) (3.4.2)\n",
      "Requirement already satisfied: POT>=0.7.0 in /Users/ngocp/Documents/projects/finance-bot/.venv/lib/python3.10/site-packages (from graspologic) (0.9.4)\n",
      "Requirement already satisfied: seaborn>=0.11.0 in /Users/ngocp/Documents/projects/finance-bot/.venv/lib/python3.10/site-packages (from graspologic) (0.13.2)\n",
      "Requirement already satisfied: scikit-learn>=0.22.0 in /Users/ngocp/Documents/projects/finance-bot/.venv/lib/python3.10/site-packages (from graspologic) (1.5.2)\n",
      "Requirement already satisfied: statsmodels>=0.13.2 in /Users/ngocp/Documents/projects/finance-bot/.venv/lib/python3.10/site-packages (from graspologic) (0.14.4)\n",
      "Requirement already satisfied: typing-extensions>=4.4.0 in /Users/ngocp/Documents/projects/finance-bot/.venv/lib/python3.10/site-packages (from graspologic) (4.12.2)\n",
      "Requirement already satisfied: umap-learn>=0.4.6 in /Users/ngocp/Documents/projects/finance-bot/.venv/lib/python3.10/site-packages (from graspologic) (0.5.7)\n",
      "Requirement already satisfied: six in /Users/ngocp/Documents/projects/finance-bot/.venv/lib/python3.10/site-packages (from anytree>=2.8.0->graspologic) (1.16.0)\n",
      "Requirement already satisfied: smart-open>=1.8.1 in /Users/ngocp/Documents/projects/finance-bot/.venv/lib/python3.10/site-packages (from gensim!=4.2.0,>=4.0.0->graspologic) (6.4.0)\n",
      "Requirement already satisfied: numba>=0.46 in /Users/ngocp/Documents/projects/finance-bot/.venv/lib/python3.10/site-packages (from hyppo>=0.3.2->graspologic) (0.60.0)\n",
      "Requirement already satisfied: autograd>=1.3 in /Users/ngocp/Documents/projects/finance-bot/.venv/lib/python3.10/site-packages (from hyppo>=0.3.2->graspologic) (1.7.0)\n",
      "Requirement already satisfied: openai>=1.14.0 in /Users/ngocp/Documents/projects/finance-bot/.venv/lib/python3.10/site-packages (from llama-index-agent-openai<0.4.0,>=0.3.4->llama-index) (1.53.0)\n",
      "Requirement already satisfied: PyYAML>=6.0.1 in /Users/ngocp/Documents/projects/finance-bot/.venv/lib/python3.10/site-packages (from llama-index-core<0.12.0,>=0.11.20->llama-index) (6.0.2)\n",
      "Requirement already satisfied: SQLAlchemy>=1.4.49 in /Users/ngocp/Documents/projects/finance-bot/.venv/lib/python3.10/site-packages (from SQLAlchemy[asyncio]>=1.4.49->llama-index-core<0.12.0,>=0.11.20->llama-index) (2.0.36)\n",
      "Requirement already satisfied: aiohttp<4.0.0,>=3.8.6 in /Users/ngocp/Documents/projects/finance-bot/.venv/lib/python3.10/site-packages (from llama-index-core<0.12.0,>=0.11.20->llama-index) (3.10.10)\n",
      "Requirement already satisfied: dataclasses-json in /Users/ngocp/Documents/projects/finance-bot/.venv/lib/python3.10/site-packages (from llama-index-core<0.12.0,>=0.11.20->llama-index) (0.6.7)\n",
      "Requirement already satisfied: deprecated>=1.2.9.3 in /Users/ngocp/Documents/projects/finance-bot/.venv/lib/python3.10/site-packages (from llama-index-core<0.12.0,>=0.11.20->llama-index) (1.2.14)\n",
      "Requirement already satisfied: dirtyjson<2.0.0,>=1.0.8 in /Users/ngocp/Documents/projects/finance-bot/.venv/lib/python3.10/site-packages (from llama-index-core<0.12.0,>=0.11.20->llama-index) (1.0.8)\n",
      "Requirement already satisfied: fsspec>=2023.5.0 in /Users/ngocp/Documents/projects/finance-bot/.venv/lib/python3.10/site-packages (from llama-index-core<0.12.0,>=0.11.20->llama-index) (2024.10.0)\n",
      "Requirement already satisfied: httpx in /Users/ngocp/Documents/projects/finance-bot/.venv/lib/python3.10/site-packages (from llama-index-core<0.12.0,>=0.11.20->llama-index) (0.27.2)\n",
      "Requirement already satisfied: nest-asyncio<2.0.0,>=1.5.8 in /Users/ngocp/Documents/projects/finance-bot/.venv/lib/python3.10/site-packages (from llama-index-core<0.12.0,>=0.11.20->llama-index) (1.6.0)\n",
      "Requirement already satisfied: pillow>=9.0.0 in /Users/ngocp/Documents/projects/finance-bot/.venv/lib/python3.10/site-packages (from llama-index-core<0.12.0,>=0.11.20->llama-index) (11.0.0)\n",
      "Requirement already satisfied: pydantic<3.0.0,>=2.7.0 in /Users/ngocp/Documents/projects/finance-bot/.venv/lib/python3.10/site-packages (from llama-index-core<0.12.0,>=0.11.20->llama-index) (2.9.2)\n",
      "Requirement already satisfied: requests>=2.31.0 in /Users/ngocp/Documents/projects/finance-bot/.venv/lib/python3.10/site-packages (from llama-index-core<0.12.0,>=0.11.20->llama-index) (2.32.3)\n",
      "Requirement already satisfied: tenacity!=8.4.0,<9.0.0,>=8.2.0 in /Users/ngocp/Documents/projects/finance-bot/.venv/lib/python3.10/site-packages (from llama-index-core<0.12.0,>=0.11.20->llama-index) (8.5.0)\n",
      "Requirement already satisfied: tiktoken>=0.3.3 in /Users/ngocp/Documents/projects/finance-bot/.venv/lib/python3.10/site-packages (from llama-index-core<0.12.0,>=0.11.20->llama-index) (0.8.0)\n",
      "Requirement already satisfied: tqdm<5.0.0,>=4.66.1 in /Users/ngocp/Documents/projects/finance-bot/.venv/lib/python3.10/site-packages (from llama-index-core<0.12.0,>=0.11.20->llama-index) (4.66.5)\n",
      "Requirement already satisfied: typing-inspect>=0.8.0 in /Users/ngocp/Documents/projects/finance-bot/.venv/lib/python3.10/site-packages (from llama-index-core<0.12.0,>=0.11.20->llama-index) (0.9.0)\n",
      "Requirement already satisfied: wrapt in /Users/ngocp/Documents/projects/finance-bot/.venv/lib/python3.10/site-packages (from llama-index-core<0.12.0,>=0.11.20->llama-index) (1.16.0)\n",
      "Requirement already satisfied: llama-cloud>=0.0.11 in /Users/ngocp/Documents/projects/finance-bot/.venv/lib/python3.10/site-packages (from llama-index-indices-managed-llama-cloud>=0.3.0->llama-index) (0.1.4)\n",
      "Requirement already satisfied: pandas in /Users/ngocp/Documents/projects/finance-bot/.venv/lib/python3.10/site-packages (from llama-index-legacy<0.10.0,>=0.9.48->llama-index) (2.2.3)\n",
      "Requirement already satisfied: beautifulsoup4<5.0.0,>=4.12.3 in /Users/ngocp/Documents/projects/finance-bot/.venv/lib/python3.10/site-packages (from llama-index-readers-file<0.3.0,>=0.2.0->llama-index) (4.12.3)\n",
      "Requirement already satisfied: pypdf<5.0.0,>=4.0.1 in /Users/ngocp/Documents/projects/finance-bot/.venv/lib/python3.10/site-packages (from llama-index-readers-file<0.3.0,>=0.2.0->llama-index) (4.3.1)\n",
      "Requirement already satisfied: striprtf<0.0.27,>=0.0.26 in /Users/ngocp/Documents/projects/finance-bot/.venv/lib/python3.10/site-packages (from llama-index-readers-file<0.3.0,>=0.2.0->llama-index) (0.0.26)\n",
      "Requirement already satisfied: llama-parse>=0.5.0 in /Users/ngocp/Documents/projects/finance-bot/.venv/lib/python3.10/site-packages (from llama-index-readers-llama-parse>=0.3.0->llama-index) (0.5.13)\n",
      "Requirement already satisfied: contourpy>=1.0.1 in /Users/ngocp/Documents/projects/finance-bot/.venv/lib/python3.10/site-packages (from matplotlib!=3.3.*,!=3.6.1,>=3.0.0->graspologic) (1.3.0)\n",
      "Requirement already satisfied: cycler>=0.10 in /Users/ngocp/Documents/projects/finance-bot/.venv/lib/python3.10/site-packages (from matplotlib!=3.3.*,!=3.6.1,>=3.0.0->graspologic) (0.12.1)\n",
      "Requirement already satisfied: fonttools>=4.22.0 in /Users/ngocp/Documents/projects/finance-bot/.venv/lib/python3.10/site-packages (from matplotlib!=3.3.*,!=3.6.1,>=3.0.0->graspologic) (4.54.1)\n",
      "Requirement already satisfied: kiwisolver>=1.3.1 in /Users/ngocp/Documents/projects/finance-bot/.venv/lib/python3.10/site-packages (from matplotlib!=3.3.*,!=3.6.1,>=3.0.0->graspologic) (1.4.7)\n",
      "Requirement already satisfied: packaging>=20.0 in /Users/ngocp/Documents/projects/finance-bot/.venv/lib/python3.10/site-packages (from matplotlib!=3.3.*,!=3.6.1,>=3.0.0->graspologic) (24.1)\n",
      "Requirement already satisfied: pyparsing>=2.3.1 in /Users/ngocp/Documents/projects/finance-bot/.venv/lib/python3.10/site-packages (from matplotlib!=3.3.*,!=3.6.1,>=3.0.0->graspologic) (3.2.0)\n",
      "Requirement already satisfied: python-dateutil>=2.7 in /Users/ngocp/Documents/projects/finance-bot/.venv/lib/python3.10/site-packages (from matplotlib!=3.3.*,!=3.6.1,>=3.0.0->graspologic) (2.9.0.post0)\n",
      "Requirement already satisfied: click in /Users/ngocp/Documents/projects/finance-bot/.venv/lib/python3.10/site-packages (from nltk>3.8.1->llama-index) (8.1.7)\n",
      "Requirement already satisfied: regex>=2021.8.3 in /Users/ngocp/Documents/projects/finance-bot/.venv/lib/python3.10/site-packages (from nltk>3.8.1->llama-index) (2024.9.11)\n",
      "Requirement already satisfied: threadpoolctl>=3.1.0 in /Users/ngocp/Documents/projects/finance-bot/.venv/lib/python3.10/site-packages (from scikit-learn>=0.22.0->graspologic) (3.5.0)\n",
      "Requirement already satisfied: patsy>=0.5.6 in /Users/ngocp/Documents/projects/finance-bot/.venv/lib/python3.10/site-packages (from statsmodels>=0.13.2->graspologic) (0.5.6)\n",
      "Requirement already satisfied: pynndescent>=0.5 in /Users/ngocp/Documents/projects/finance-bot/.venv/lib/python3.10/site-packages (from umap-learn>=0.4.6->graspologic) (0.5.13)\n",
      "Requirement already satisfied: aiohappyeyeballs>=2.3.0 in /Users/ngocp/Documents/projects/finance-bot/.venv/lib/python3.10/site-packages (from aiohttp<4.0.0,>=3.8.6->llama-index-core<0.12.0,>=0.11.20->llama-index) (2.4.3)\n",
      "Requirement already satisfied: aiosignal>=1.1.2 in /Users/ngocp/Documents/projects/finance-bot/.venv/lib/python3.10/site-packages (from aiohttp<4.0.0,>=3.8.6->llama-index-core<0.12.0,>=0.11.20->llama-index) (1.3.1)\n",
      "Requirement already satisfied: attrs>=17.3.0 in /Users/ngocp/Documents/projects/finance-bot/.venv/lib/python3.10/site-packages (from aiohttp<4.0.0,>=3.8.6->llama-index-core<0.12.0,>=0.11.20->llama-index) (24.2.0)\n",
      "Requirement already satisfied: frozenlist>=1.1.1 in /Users/ngocp/Documents/projects/finance-bot/.venv/lib/python3.10/site-packages (from aiohttp<4.0.0,>=3.8.6->llama-index-core<0.12.0,>=0.11.20->llama-index) (1.5.0)\n",
      "Requirement already satisfied: multidict<7.0,>=4.5 in /Users/ngocp/Documents/projects/finance-bot/.venv/lib/python3.10/site-packages (from aiohttp<4.0.0,>=3.8.6->llama-index-core<0.12.0,>=0.11.20->llama-index) (6.1.0)\n",
      "Requirement already satisfied: yarl<2.0,>=1.12.0 in /Users/ngocp/Documents/projects/finance-bot/.venv/lib/python3.10/site-packages (from aiohttp<4.0.0,>=3.8.6->llama-index-core<0.12.0,>=0.11.20->llama-index) (1.17.1)\n",
      "Requirement already satisfied: async-timeout<5.0,>=4.0 in /Users/ngocp/Documents/projects/finance-bot/.venv/lib/python3.10/site-packages (from aiohttp<4.0.0,>=3.8.6->llama-index-core<0.12.0,>=0.11.20->llama-index) (4.0.3)\n",
      "Requirement already satisfied: soupsieve>1.2 in /Users/ngocp/Documents/projects/finance-bot/.venv/lib/python3.10/site-packages (from beautifulsoup4<5.0.0,>=4.12.3->llama-index-readers-file<0.3.0,>=0.2.0->llama-index) (2.6)\n",
      "Requirement already satisfied: anyio in /Users/ngocp/Documents/projects/finance-bot/.venv/lib/python3.10/site-packages (from httpx->llama-index-core<0.12.0,>=0.11.20->llama-index) (4.6.2.post1)\n",
      "Requirement already satisfied: certifi in /Users/ngocp/Documents/projects/finance-bot/.venv/lib/python3.10/site-packages (from httpx->llama-index-core<0.12.0,>=0.11.20->llama-index) (2024.8.30)\n",
      "Requirement already satisfied: httpcore==1.* in /Users/ngocp/Documents/projects/finance-bot/.venv/lib/python3.10/site-packages (from httpx->llama-index-core<0.12.0,>=0.11.20->llama-index) (1.0.6)\n",
      "Requirement already satisfied: idna in /Users/ngocp/Documents/projects/finance-bot/.venv/lib/python3.10/site-packages (from httpx->llama-index-core<0.12.0,>=0.11.20->llama-index) (3.10)\n",
      "Requirement already satisfied: sniffio in /Users/ngocp/Documents/projects/finance-bot/.venv/lib/python3.10/site-packages (from httpx->llama-index-core<0.12.0,>=0.11.20->llama-index) (1.3.1)\n",
      "Requirement already satisfied: h11<0.15,>=0.13 in /Users/ngocp/Documents/projects/finance-bot/.venv/lib/python3.10/site-packages (from httpcore==1.*->httpx->llama-index-core<0.12.0,>=0.11.20->llama-index) (0.14.0)\n",
      "Requirement already satisfied: llvmlite<0.44,>=0.43.0dev0 in /Users/ngocp/Documents/projects/finance-bot/.venv/lib/python3.10/site-packages (from numba>=0.46->hyppo>=0.3.2->graspologic) (0.43.0)\n",
      "Requirement already satisfied: distro<2,>=1.7.0 in /Users/ngocp/Documents/projects/finance-bot/.venv/lib/python3.10/site-packages (from openai>=1.14.0->llama-index-agent-openai<0.4.0,>=0.3.4->llama-index) (1.9.0)\n",
      "Requirement already satisfied: jiter<1,>=0.4.0 in /Users/ngocp/Documents/projects/finance-bot/.venv/lib/python3.10/site-packages (from openai>=1.14.0->llama-index-agent-openai<0.4.0,>=0.3.4->llama-index) (0.7.0)\n",
      "Requirement already satisfied: pytz>=2020.1 in /Users/ngocp/Documents/projects/finance-bot/.venv/lib/python3.10/site-packages (from pandas->llama-index-legacy<0.10.0,>=0.9.48->llama-index) (2024.2)\n",
      "Requirement already satisfied: tzdata>=2022.7 in /Users/ngocp/Documents/projects/finance-bot/.venv/lib/python3.10/site-packages (from pandas->llama-index-legacy<0.10.0,>=0.9.48->llama-index) (2024.2)\n",
      "Requirement already satisfied: annotated-types>=0.6.0 in /Users/ngocp/Documents/projects/finance-bot/.venv/lib/python3.10/site-packages (from pydantic<3.0.0,>=2.7.0->llama-index-core<0.12.0,>=0.11.20->llama-index) (0.7.0)\n",
      "Requirement already satisfied: pydantic-core==2.23.4 in /Users/ngocp/Documents/projects/finance-bot/.venv/lib/python3.10/site-packages (from pydantic<3.0.0,>=2.7.0->llama-index-core<0.12.0,>=0.11.20->llama-index) (2.23.4)\n",
      "Requirement already satisfied: charset-normalizer<4,>=2 in /Users/ngocp/Documents/projects/finance-bot/.venv/lib/python3.10/site-packages (from requests>=2.31.0->llama-index-core<0.12.0,>=0.11.20->llama-index) (3.4.0)\n",
      "Requirement already satisfied: urllib3<3,>=1.21.1 in /Users/ngocp/Documents/projects/finance-bot/.venv/lib/python3.10/site-packages (from requests>=2.31.0->llama-index-core<0.12.0,>=0.11.20->llama-index) (2.2.3)\n",
      "Requirement already satisfied: greenlet!=0.4.17 in /Users/ngocp/Documents/projects/finance-bot/.venv/lib/python3.10/site-packages (from SQLAlchemy[asyncio]>=1.4.49->llama-index-core<0.12.0,>=0.11.20->llama-index) (3.1.1)\n",
      "Requirement already satisfied: mypy-extensions>=0.3.0 in /Users/ngocp/Documents/projects/finance-bot/.venv/lib/python3.10/site-packages (from typing-inspect>=0.8.0->llama-index-core<0.12.0,>=0.11.20->llama-index) (1.0.0)\n",
      "Requirement already satisfied: marshmallow<4.0.0,>=3.18.0 in /Users/ngocp/Documents/projects/finance-bot/.venv/lib/python3.10/site-packages (from dataclasses-json->llama-index-core<0.12.0,>=0.11.20->llama-index) (3.23.1)\n",
      "Requirement already satisfied: exceptiongroup>=1.0.2 in /Users/ngocp/Documents/projects/finance-bot/.venv/lib/python3.10/site-packages (from anyio->httpx->llama-index-core<0.12.0,>=0.11.20->llama-index) (1.2.2)\n",
      "Requirement already satisfied: propcache>=0.2.0 in /Users/ngocp/Documents/projects/finance-bot/.venv/lib/python3.10/site-packages (from yarl<2.0,>=1.12.0->aiohttp<4.0.0,>=3.8.6->llama-index-core<0.12.0,>=0.11.20->llama-index) (0.2.0)\n"
     ]
    }
   ],
   "source": [
    "!pip install llama-index graspologic numpy==1.24.4 scipy==1.12.0"
   ]
  },
  {
   "cell_type": "markdown",
   "metadata": {
    "id": "kuiBHTAd8bQZ"
   },
   "source": [
    "## Load Data\n",
    "\n",
    "We will use a sample news article dataset retrieved from Diffbot, which Tomaz has conveniently made available on GitHub for easy access.\n",
    "\n",
    "The dataset contains 2,500 samples; for ease of experimentation, we will use 50 of these samples, which include the `title` and `text` of news articles."
   ]
  },
  {
   "cell_type": "markdown",
   "metadata": {
    "id": "LaKqfKV38bQa"
   },
   "source": [
    "Prepare documents as required by LlamaIndex"
   ]
  },
  {
   "cell_type": "code",
   "execution_count": 27,
   "metadata": {},
   "outputs": [],
   "source": [
    "from dotenv import load_dotenv\n",
    "import os\n",
    "from llama_index.llms.openai import OpenAI\n",
    "from llama_index.embeddings.openai import OpenAIEmbedding\n",
    "from llama_index.core import Settings\n",
    "\n",
    "import nest_asyncio\n",
    "nest_asyncio.apply()\n",
    "\n",
    "# Load the .env file\n",
    "\n",
    "load_dotenv('../.env')\n",
    "\n",
    "# Access the OpenAI key\n",
    "openai_key = os.getenv(\"OPENAI_API_KEY\")\n",
    "\n",
    "llm = OpenAI(model=\"gpt-4o-mini\", api_key=openai_key)\n",
    "embed_model = OpenAIEmbedding(model=\"text-embedding-3-small\")\n",
    "\n",
    "Settings.llm = llm\n",
    "Settings.embed_model = embed_model\n"
   ]
  },
  {
   "cell_type": "code",
   "execution_count": 44,
   "metadata": {
    "id": "CMR87HvU8bQb"
   },
   "outputs": [],
   "source": [
    "import asyncio\n",
    "import nest_asyncio\n",
    "\n",
    "nest_asyncio.apply()\n",
    "%load_ext autoreload\n",
    "%autoreload 2\n",
    "\n",
    "from typing import Any, List, Callable, Optional, Union, Dict\n",
    "from IPython.display import Markdown, display\n",
    "\n",
    "from llama_index.core.async_utils import run_jobs\n",
    "from llama_index.core.indices.property_graph.utils import (\n",
    "    default_parse_triplets_fn,\n",
    ")\n",
    "from llama_index.core.graph_stores.types import (\n",
    "    EntityNode,\n",
    "    KG_NODES_KEY,\n",
    "    KG_RELATIONS_KEY,\n",
    "    Relation,\n",
    ")\n",
    "from llama_index.core.llms.llm import LLM\n",
    "from llama_index.core.prompts import PromptTemplate\n",
    "from llama_index.core.prompts.default_prompts import (\n",
    "    DEFAULT_KG_TRIPLET_EXTRACT_PROMPT,\n",
    ")\n",
    "from llama_index.core.schema import TransformComponent, BaseNode\n",
    "from llama_index.core.bridge.pydantic import BaseModel, Field\n",
    "\n",
    "\n",
    "class GraphRAGExtractor(TransformComponent):\n",
    "    \"\"\"Extract triples from a graph.\n",
    "\n",
    "    Uses an LLM and a simple prompt + output parsing to extract paths (i.e. triples) and entity, relation descriptions from text.\n",
    "\n",
    "    Args:\n",
    "        llm (LLM):\n",
    "            The language model to use.\n",
    "        extract_prompt (Union[str, PromptTemplate]):\n",
    "            The prompt to use for extracting triples.\n",
    "        parse_fn (callable):\n",
    "            A function to parse the output of the language model.\n",
    "        num_workers (int):\n",
    "            The number of workers to use for parallel processing.\n",
    "        max_paths_per_chunk (int):\n",
    "            The maximum number of paths to extract per chunk.\n",
    "    \"\"\"\n",
    "\n",
    "    llm: LLM\n",
    "    extract_prompt: PromptTemplate\n",
    "    parse_fn: Callable\n",
    "    num_workers: int\n",
    "    max_paths_per_chunk: int\n",
    "\n",
    "    def __init__(\n",
    "        self,\n",
    "        llm: Optional[LLM] = None,\n",
    "        extract_prompt: Optional[Union[str, PromptTemplate]] = None,\n",
    "        parse_fn: Callable = default_parse_triplets_fn,\n",
    "        max_paths_per_chunk: int = 10,\n",
    "        num_workers: int = 4,\n",
    "    ) -> None:\n",
    "        \"\"\"Init params.\"\"\"\n",
    "        from llama_index.core import Settings\n",
    "\n",
    "        if isinstance(extract_prompt, str):\n",
    "            extract_prompt = PromptTemplate(extract_prompt)\n",
    "\n",
    "        super().__init__(\n",
    "            llm=llm or Settings.llm,\n",
    "            extract_prompt=extract_prompt or DEFAULT_KG_TRIPLET_EXTRACT_PROMPT,\n",
    "            parse_fn=parse_fn,\n",
    "            num_workers=num_workers,\n",
    "            max_paths_per_chunk=max_paths_per_chunk,\n",
    "        )\n",
    "\n",
    "    @classmethod\n",
    "    def class_name(cls) -> str:\n",
    "        return \"GraphExtractor\"\n",
    "\n",
    "    def __call__(\n",
    "        self, nodes: List[BaseNode], show_progress: bool = False, **kwargs: Any\n",
    "    ) -> List[BaseNode]:\n",
    "        \"\"\"Extract triples from nodes.\"\"\"\n",
    "        return asyncio.run(\n",
    "            self.acall(nodes, show_progress=show_progress, **kwargs)\n",
    "        )\n",
    "\n",
    "    async def _aextract(self, node: BaseNode) -> BaseNode:\n",
    "        \"\"\"Extract triples from a node.\"\"\"\n",
    "        assert hasattr(node, \"text\")\n",
    "\n",
    "        text = node.get_content(metadata_mode=\"llm\")\n",
    "        try:\n",
    "            llm_response = await self.llm.apredict(\n",
    "                self.extract_prompt,\n",
    "                text=text,\n",
    "                max_knowledge_triplets=self.max_paths_per_chunk,\n",
    "            )\n",
    "            entities, entities_relationship = self.parse_fn(llm_response)\n",
    "        except ValueError:\n",
    "            entities = []\n",
    "            entities_relationship = []\n",
    "\n",
    "        existing_nodes = node.metadata.pop(KG_NODES_KEY, [])\n",
    "        existing_relations = node.metadata.pop(KG_RELATIONS_KEY, [])\n",
    "        metadata = node.metadata.copy()\n",
    "        for entity, entity_type, description in entities:\n",
    "            metadata[\n",
    "                \"entity_description\"\n",
    "            ] = description  # Not used in the current implementation. But will be useful in future work.\n",
    "            entity_node = EntityNode(\n",
    "                name=entity, label=entity_type, properties=metadata\n",
    "            )\n",
    "            existing_nodes.append(entity_node)\n",
    "\n",
    "        metadata = node.metadata.copy()\n",
    "        for triple in entities_relationship:\n",
    "            subj, rel, obj, description = triple\n",
    "            subj_node = EntityNode(name=subj, properties=metadata)\n",
    "            obj_node = EntityNode(name=obj, properties=metadata)\n",
    "            metadata[\"relationship_description\"] = description\n",
    "            rel_node = Relation(\n",
    "                label=rel,\n",
    "                source_id=subj_node.id,\n",
    "                target_id=obj_node.id,\n",
    "                properties=metadata,\n",
    "            )\n",
    "\n",
    "            existing_nodes.extend([subj_node, obj_node])\n",
    "            existing_relations.append(rel_node)\n",
    "\n",
    "        node.metadata[KG_NODES_KEY] = existing_nodes\n",
    "        node.metadata[KG_RELATIONS_KEY] = existing_relations\n",
    "        return node\n",
    "\n",
    "    async def acall(\n",
    "        self, nodes: List[BaseNode], show_progress: bool = False, **kwargs: Any\n",
    "    ) -> List[BaseNode]:\n",
    "        \"\"\"Extract triples from nodes async.\"\"\"\n",
    "        jobs = []\n",
    "        for node in nodes:\n",
    "            jobs.append(self._aextract(node))\n",
    "\n",
    "        return await run_jobs(\n",
    "            jobs,\n",
    "            workers=self.num_workers,\n",
    "            show_progress=show_progress,\n",
    "            desc=\"Extracting paths from text\",\n",
    "        )"
   ]
  },
  {
   "cell_type": "markdown",
   "metadata": {
    "id": "cxg6rsLj8bQb"
   },
   "source": [
    "## GraphRAGStore\n",
    "\n",
    "The `GraphRAGStore` class is an extension of the `SimplePropertyGraphStore `class, designed to implement GraphRAG pipeline. Here's a breakdown of its key components and functions:\n",
    "\n",
    "\n",
    "The class uses community detection algorithms to group related nodes in the graph and then it generates summaries for each community using an LLM.\n",
    "\n",
    "\n",
    "**Key Methods:**\n",
    "\n",
    "`build_communities():`\n",
    "\n",
    "1. Converts the internal graph representation to a NetworkX graph.\n",
    "\n",
    "2. Applies the hierarchical Leiden algorithm for community detection.\n",
    "\n",
    "3. Collects detailed information about each community.\n",
    "\n",
    "4. Generates summaries for each community.\n",
    "\n",
    "`generate_community_summary(text):`\n",
    "\n",
    "1. Uses LLM to generate a summary of the relationships in a community.\n",
    "2. The summary includes entity names and a synthesis of relationship descriptions.\n",
    "\n",
    "`_create_nx_graph():`\n",
    "\n",
    "1. Converts the internal graph representation to a NetworkX graph for community detection.\n",
    "\n",
    "`_collect_community_info(nx_graph, clusters):`\n",
    "\n",
    "1. Collects detailed information about each node based on its community.\n",
    "2. Creates a string representation of each relationship within a community.\n",
    "\n",
    "`_summarize_communities(community_info):`\n",
    "\n",
    "1. Generates and stores summaries for each community using LLM.\n",
    "\n",
    "`get_community_summaries():`\n",
    "\n",
    "1. Returns the community summaries by building them if not already done."
   ]
  },
  {
   "cell_type": "code",
   "execution_count": 29,
   "metadata": {},
   "outputs": [
    {
     "name": "stdout",
     "output_type": "stream",
     "text": [
      "Requirement already satisfied: future in /Users/ngocp/Documents/projects/finance-bot/.venv/lib/python3.10/site-packages (1.0.0)\n"
     ]
    }
   ],
   "source": [
    "!pip install future"
   ]
  },
  {
   "cell_type": "code",
   "execution_count": 51,
   "metadata": {
    "id": "Acnslda78bQb",
    "outputId": "a3dc8507-6441-4461-bf81-aa8b1860af55"
   },
   "outputs": [],
   "source": [
    "import re\n",
    "from llama_index.core.graph_stores import SimplePropertyGraphStore\n",
    "import networkx as nx\n",
    "from graspologic.partition import hierarchical_leiden\n",
    "from llama_index.llms.openai import OpenAI\n",
    "from llama_index.core.llms import ChatMessage\n",
    "from graph_rag import GraphRAGStore"
   ]
  },
  {
   "cell_type": "markdown",
   "metadata": {
    "id": "MISKiD748bQb"
   },
   "source": [
    "## GraphRAGQueryEngine\n",
    "\n",
    "The GraphRAGQueryEngine class is a custom query engine designed to process queries using the GraphRAG approach. It leverages the community summaries generated by the GraphRAGStore to answer user queries. Here's a breakdown of its functionality:\n"
   ]
  },
  {
   "cell_type": "code",
   "execution_count": 46,
   "metadata": {
    "id": "HurIQUXy8bQb"
   },
   "outputs": [],
   "source": [
    "from llama_index.core.query_engine import CustomQueryEngine\n",
    "from llama_index.core.llms import LLM\n",
    "\n",
    "\n",
    "class GraphRAGQueryEngine(CustomQueryEngine):\n",
    "    graph_store: GraphRAGStore\n",
    "    llm: LLM\n",
    "\n",
    "    def custom_query(self, query_str: str) -> str:\n",
    "        \"\"\"Process all community summaries to generate answers to a specific query.\"\"\"\n",
    "        community_summaries = self.graph_store.get_community_summaries()\n",
    "        community_answers = [\n",
    "            self.generate_answer_from_summary(community_summary, query_str)\n",
    "            for _, community_summary in community_summaries.items()\n",
    "        ]\n",
    "\n",
    "        final_answer = self.aggregate_answers(community_answers)\n",
    "        return final_answer\n",
    "\n",
    "    def generate_answer_from_summary(self, community_summary, query):\n",
    "        \"\"\"Generate an answer from a community summary based on a given query using LLM.\"\"\"\n",
    "        prompt = (\n",
    "            f\"Given the community summary: {community_summary}, \"\n",
    "            f\"how would you answer the following query? Query: {query}\"\n",
    "        )\n",
    "        messages = [\n",
    "            ChatMessage(role=\"system\", content=prompt),\n",
    "            ChatMessage(\n",
    "                role=\"user\",\n",
    "                content=\"I need an answer based on the above information.\",\n",
    "            ),\n",
    "        ]\n",
    "        response = self.llm.chat(messages)\n",
    "        cleaned_response = re.sub(r\"^assistant:\\s*\", \"\", str(response)).strip()\n",
    "        return cleaned_response\n",
    "\n",
    "    def aggregate_answers(self, community_answers):\n",
    "        \"\"\"Aggregate individual community answers into a final, coherent response.\"\"\"\n",
    "        # intermediate_text = \" \".join(community_answers)\n",
    "        prompt = \"Combine the following intermediate answers into a final, concise response.\"\n",
    "        messages = [\n",
    "            ChatMessage(role=\"system\", content=prompt),\n",
    "            ChatMessage(\n",
    "                role=\"user\",\n",
    "                content=f\"Intermediate answers: {community_answers}\",\n",
    "            ),\n",
    "        ]\n",
    "        final_response = self.llm.chat(messages)\n",
    "        cleaned_final_response = re.sub(\n",
    "            r\"^assistant:\\s*\", \"\", str(final_response)\n",
    "        ).strip()\n",
    "        return cleaned_final_response"
   ]
  },
  {
   "cell_type": "markdown",
   "metadata": {
    "id": "K_keETm38bQc"
   },
   "source": [
    "##  Build End to End GraphRAG Pipeline\n",
    "\n",
    "Now that we have defined all the necessary components, let’s construct the GraphRAG pipeline:\n",
    "\n",
    "1. Create nodes/chunks from the text.\n",
    "2. Build a PropertyGraphIndex using `GraphRAGExtractor` and `GraphRAGStore`.\n",
    "3. Construct communities and generate a summary for each community using the graph built above.\n",
    "4. Create a `GraphRAGQueryEngine` and begin querying."
   ]
  },
  {
   "cell_type": "markdown",
   "metadata": {
    "id": "XML3l6cp8bQc"
   },
   "source": [
    "### Create nodes/ chunks from the text."
   ]
  },
  {
   "cell_type": "code",
   "execution_count": 47,
   "metadata": {
    "id": "3wStzFqV8bQc"
   },
   "outputs": [
    {
     "name": "stdout",
     "output_type": "stream",
     "text": [
      "length of documents: 1\n",
      "documents: Doc ID: 63e2f37a-57fb-42e3-91bc-e89e4860a922\n",
      "Text: Gãy xương không bó bột có sao không? Xương có tự lành không?  Bó\n",
      "bột là phương pháp điều trị quen thuộc và phổ biến nhất với chấn\n",
      "thương gãy xương. Khi bị gãy ở mức độ không quá nghiêm trọng, xương\n",
      "tổn thương cần được cố định đúng cách và tránh chuyển động để thúc đẩy\n",
      "quá trình hồi phục. Khi đó, bác sĩ sẽ chỉ định phương pháp bó bột. Vậy\n",
      "nếu gãy...\n",
      "Chunk overlap: 5, Number of nodes: 10\n",
      "Chunk overlap: 10, Number of nodes: 10\n",
      "Chunk overlap: 20, Number of nodes: 10\n",
      "Chunk overlap: 50, Number of nodes: 10\n",
      "Chunk overlap: 100, Number of nodes: 13\n"
     ]
    }
   ],
   "source": [
    "from llama_index.core import SimpleDirectoryReader\n",
    "from llama_index.graph_stores.neo4j import Neo4jPropertyGraphStore\n",
    "\n",
    "documents = SimpleDirectoryReader(input_files=['../data/bao-chi/gay-xuong-yte.md']).load_data()\n",
    "\n",
    "print(\"length of documents:\", len(documents))\n",
    "print('documents:', documents[0])\n",
    "\n",
    "\n",
    "from llama_index.core.node_parser import SentenceSplitter\n",
    "\n",
    "for overlap in [5, 10, 20, 50, 100]:\n",
    "    splitter = SentenceSplitter(\n",
    "        chunk_size=255,\n",
    "        chunk_overlap=overlap,\n",
    "    )\n",
    "    nodes = splitter.get_nodes_from_documents(documents)\n",
    "    print(f\"Chunk overlap: {overlap}, Number of nodes: {len(nodes)}\")"
   ]
  },
  {
   "cell_type": "code",
   "execution_count": 33,
   "metadata": {
    "id": "YJ2SXTWS8bQc",
    "outputId": "7b9316ba-3092-48ff-c947-a0854e5e21d9"
   },
   "outputs": [
    {
     "data": {
      "text/plain": [
       "13"
      ]
     },
     "execution_count": 33,
     "metadata": {},
     "output_type": "execute_result"
    }
   ],
   "source": [
    "len(nodes)"
   ]
  },
  {
   "cell_type": "code",
   "execution_count": 34,
   "metadata": {},
   "outputs": [
    {
     "name": "stdout",
     "output_type": "stream",
     "text": [
      "Node ID: 48f9749d-5861-463d-a423-d9b8450ac820\n",
      "Text: Để trả lời cho câu hỏi gãy xương không bó bột có sao không, cùng\n",
      "tìm hiểu các yếu tố ảnh hưởng đến việc điều trị gãy xương bằng cách bó\n",
      "bột nhé!  Bó bột giúp lành xương gãy thế nào? Quá trình lành xương gãy\n",
      "gồm 3 giai đoạn. Đầu tiên là giai đoạn các mạch máu bị tổn thương, các\n",
      "tế bào miễn dịch sẽ đến vị trí tổn thương để “dọn dẹp” vụn xương gãy\n",
      "...\n"
     ]
    }
   ],
   "source": [
    "print(nodes[2])"
   ]
  },
  {
   "cell_type": "markdown",
   "metadata": {
    "id": "haUojn_z8bQc"
   },
   "source": [
    "### Build ProperGraphIndex using `GraphRAGExtractor` and `GraphRAGStore`"
   ]
  },
  {
   "cell_type": "code",
   "execution_count": 48,
   "metadata": {
    "id": "adxPw-dn8bQc"
   },
   "outputs": [],
   "source": [
    "KG_TRIPLET_EXTRACT_TMPL = \"\"\"\n",
    "-Mục tiêu-\n",
    "Cho một tài liệu văn bản, xác định tất cả các thực thể và loại thực thể của chúng từ văn bản và tất cả các mối quan hệ giữa các thực thể đã xác định.\n",
    "Cho văn bản, trích xuất tối đa {max_knowledge_triplets} bộ ba thực thể-quan hệ.\n",
    "\n",
    "-Các bước-\n",
    "1. Xác định tất cả các thực thể. Đối với mỗi thực thể đã xác định, trích xuất thông tin sau:\n",
    "- entity_name: Tên của thực thể, viết hoa\n",
    "- entity_type: Loại của thực thể\n",
    "- entity_description: Mô tả toàn diện về các thuộc tính và hoạt động của thực thể\n",
    "Định dạng mỗi thực thể như sau (\"entity\"$$$$<entity_name>$$$$<entity_type>$$$$<entity_description>)\n",
    "\n",
    "2. Từ các thực thể đã xác định trong bước 1, xác định tất cả các cặp (source_entity, target_entity) mà *rõ ràng có liên quan* với nhau.\n",
    "Đối với mỗi cặp thực thể có liên quan, trích xuất thông tin sau:\n",
    "- source_entity: tên của thực thể nguồn, như đã xác định trong bước 1\n",
    "- target_entity: tên của thực thể đích, như đã xác định trong bước 1\n",
    "- relation: mối quan hệ giữa thực thể nguồn và thực thể đích\n",
    "- relationship_description: giải thích lý do tại sao bạn nghĩ rằng thực thể nguồn và thực thể đích có liên quan với nhau\n",
    "\n",
    "Định dạng mỗi mối quan hệ như sau (\"relationship\"$$$$<source_entity>$$$$<target_entity>$$$$<relation>$$$$<relationship_description>)\n",
    "\n",
    "3. Khi hoàn thành, xuất ra.\n",
    "\n",
    "-Dữ liệu thực tế-\n",
    "######################\n",
    "text: {text}\n",
    "######################\n",
    "output:\"\"\""
   ]
  },
  {
   "cell_type": "code",
   "execution_count": 36,
   "metadata": {},
   "outputs": [
    {
     "name": "stdout",
     "output_type": "stream",
     "text": [
      "[('Gãy Xương', 'Medical Condition', 'Gãy xương là tình trạng xương bị gãy do chấn thương hoặc áp lực, có thể gây đau đớn và ảnh hưởng đến khả năng vận động của bệnh nhân. Việc điều trị gãy xương có thể bao gồm bó bột, phẫu thuật, hoặc các phương pháp khác tùy thuộc vào mức độ nghiêm trọng và vị trí của gãy xương.')]\n",
      "[('Gãy Xương', 'Bó Bột', 'Có thể điều trị bằng', 'Gãy xương thường được điều trị bằng phương pháp bó bột để đảm bảo xương lành lại đúng cách và giảm thiểu đau đớn cho bệnh nhân.')]\n"
     ]
    }
   ],
   "source": [
    "import re\n",
    "\n",
    "text = '''\n",
    "(\"entity\"$$$$Gãy Xương$$$$Medical Condition$$$$Gãy xương là tình trạng xương bị gãy do chấn thương hoặc áp lực, có thể gây đau đớn và ảnh hưởng đến khả năng vận động của bệnh nhân. Việc điều trị gãy xương có thể bao gồm bó bột, phẫu thuật, hoặc các phương pháp khác tùy thuộc vào mức độ nghiêm trọng và vị trí của gãy xương.)\n",
    "'''\n",
    "\n",
    "pattern = r'\\(\"entity\"\\$\\$\\$\\$(.+?)\\$\\$\\$\\$(.+?)\\$\\$\\$\\$(.+?)\\)'\n",
    "\n",
    "matches = re.findall(pattern, text)\n",
    "\n",
    "print(matches)\n",
    "\n",
    "relationship_pattern = r'\\(\"relationship\"\\$\\$\\$\\$(.+?)\\$\\$\\$\\$(.+?)\\$\\$\\$\\$(.+?)\\$\\$\\$\\$(.+?)\\)'\n",
    "textRelation = '''\n",
    "(\"relationship\"$$$$Gãy Xương$$$$Bó Bột$$$$Có thể điều trị bằng$$$$Gãy xương thường được điều trị bằng phương pháp bó bột để đảm bảo xương lành lại đúng cách và giảm thiểu đau đớn cho bệnh nhân.)\n",
    "'''\n",
    "\n",
    "matches = re.findall(relationship_pattern, textRelation)\n",
    "\n",
    "print(matches)"
   ]
  },
  {
   "cell_type": "code",
   "execution_count": 52,
   "metadata": {
    "id": "M5ikeoHt8bQc"
   },
   "outputs": [],
   "source": [
    "entity_pattern = r'\\(\"entity\"\\$\\$\\$\\$(.+?)\\$\\$\\$\\$(.+?)\\$\\$\\$\\$(.+?)\\)'\n",
    "relationship_pattern = r'\\(\"relationship\"\\$\\$\\$\\$(.+?)\\$\\$\\$\\$(.+?)\\$\\$\\$\\$(.+?)\\$\\$\\$\\$(.+?)\\)'\n",
    "\n",
    "def parse_fn(response_str: str) -> Any:\n",
    "    entities = re.findall(entity_pattern, response_str)\n",
    "    relationships = re.findall(relationship_pattern, response_str)\n",
    "    print('parse_fn -----')\n",
    "    print('entitis:', entities)\n",
    "    # print('response_str:', response_str)\n",
    "    return entities, relationships\n",
    "\n",
    "\n",
    "kg_extractor = GraphRAGExtractor(\n",
    "    llm=llm,\n",
    "    extract_prompt=KG_TRIPLET_EXTRACT_TMPL,\n",
    "    max_paths_per_chunk=2,\n",
    "    parse_fn=parse_fn,\n",
    ")"
   ]
  },
  {
   "cell_type": "code",
   "execution_count": 53,
   "metadata": {
    "id": "UEGkjUWB8bQc",
    "outputId": "501f9e9a-4613-4509-ca22-f829f2af8704"
   },
   "outputs": [
    {
     "name": "stderr",
     "output_type": "stream",
     "text": [
      "Extracting paths from text:   8%|▊         | 1/13 [00:03<00:43,  3.61s/it]"
     ]
    },
    {
     "name": "stdout",
     "output_type": "stream",
     "text": [
      "parse_fn -----\n",
      "entitis: [('BÁC_SĨ', 'Người', 'Bác sĩ là người có chuyên môn trong lĩnh vực y tế, có trách nhiệm chẩn đoán và điều trị các bệnh lý, bao gồm cả việc chỉ định các phương pháp điều trị như bó bột cho bệnh nhân bị gãy xương.'), ('BÓ_BỘT', 'Phương_Pháp_Điều_Trị', 'Bó bột là một phương pháp điều trị được sử dụng để cố định xương gãy, giúp xương hồi phục và lành lại, mặc dù nó có thể gây ra sự khó chịu và bất tiện cho bệnh nhân.')]\n"
     ]
    },
    {
     "name": "stderr",
     "output_type": "stream",
     "text": [
      "Extracting paths from text:  15%|█▌        | 2/13 [00:04<00:19,  1.75s/it]"
     ]
    },
    {
     "name": "stdout",
     "output_type": "stream",
     "text": [
      "parse_fn -----\n",
      "entitis: [('VẾT GÃY', 'THỰC THỂ', 'Một vết gãy gọn, các đầu xương gãy vẫn thẳng hàng có nhiều khả năng lành mà không cần bó bột hơn là một vết gãy xương bị di lệch, các đầu xương gãy không còn thẳng hàng.'), ('TUỔI TÁC', 'THỰC THỂ', 'Tuổi tác có thể đóng một vai trò quan trọng trong việc quyết định gãy xương không bó bột có sao không. Người trẻ tuổi có xu hướng lành vết thương nhanh hơn người lớn tuổi do xương của trẻ vẫn đang phát triển và được tưới máu tốt.')]\n"
     ]
    },
    {
     "name": "stderr",
     "output_type": "stream",
     "text": [
      "Extracting paths from text:  23%|██▎       | 3/13 [00:06<00:22,  2.26s/it]"
     ]
    },
    {
     "name": "stdout",
     "output_type": "stream",
     "text": [
      "parse_fn -----\n",
      "entitis: [('XƯƠNG', 'THỰC THỂ CƠ THỂ', 'Xương là các cấu trúc cứng trong cơ thể sống, có chức năng hỗ trợ, bảo vệ và tạo hình cho cơ thể. Chúng được tưới máu tốt và có khả năng lành vết thương nhanh chóng.'), ('GÃY XƯƠNG', 'KIỂU GÃY XƯƠNG', 'Gãy xương là tình trạng tổn thương cấu trúc xương, có nhiều kiểu khác nhau như gãy ngang, gãy chéo vát, gãy xoắn, gãy xương mảnh vụn, và gãy thành nhiều đoạn.')]\n",
      "parse_fn -----\n",
      "entitis: [('NGƯỜI TRẺ', 'Người', 'Người trẻ tuổi là nhóm người có độ tuổi trẻ hơn, thường có khả năng hồi phục nhanh chóng và có xương đang phát triển tốt hơn so với người lớn tuổi.'), ('NGƯỜI LỚN TUỔI', 'Người', 'Người lớn tuổi là nhóm người có độ tuổi cao hơn, thường có khả năng hồi phục chậm hơn và có thể gặp nhiều vấn đề về sức khỏe hơn so với người trẻ tuổi.'), ('GÃY XƯƠNG', 'Chấn thương', 'Gãy xương là một loại chấn thương xảy ra khi xương bị nứt hoặc gãy, thường do tác động mạnh hoặc áp lực lớn lên xương.'), ('BÁC SĨ', 'Người', 'Bác sĩ là người có chuyên môn trong lĩnh vực y tế, có trách nhiệm chẩn đoán và điều trị các bệnh lý, chấn thương cho bệnh nhân.')]\n"
     ]
    },
    {
     "name": "stderr",
     "output_type": "stream",
     "text": [
      "Extracting paths from text:  38%|███▊      | 5/13 [00:07<00:09,  1.13s/it]"
     ]
    },
    {
     "name": "stdout",
     "output_type": "stream",
     "text": [
      "parse_fn -----\n",
      "entitis: [('BÓ BỘT', 'THỦ THUẬT Y TẾ', 'Bó bột là một phương pháp điều trị gãy xương, giúp cố định vị trí xương gãy và hỗ trợ quá trình lành xương bằng cách giữ cho xương ở vị trí đúng trong thời gian hồi phục.'), ('GÃY XƯƠNG', 'TÌNH TRẠNG Y TẾ', 'Gãy xương là tình trạng khi một hoặc nhiều xương trong cơ thể bị gãy, thường do chấn thương hoặc áp lực quá mức lên xương.'), ('MẠCH MÁU', 'CẤU TRÚC SINH HỌC', 'Mạch máu là các ống dẫn trong cơ thể, chịu trách nhiệm vận chuyển máu đến và từ các bộ phận khác nhau của cơ thể, có vai trò quan trọng trong việc cung cấp oxy và dinh dưỡng cho các tế bào.'), ('TẾ BÀO MIỄN DỊCH', 'TẾ BÀO SINH HỌC', 'Tế bào miễn dịch là các tế bào trong hệ thống miễn dịch, có chức năng bảo vệ cơ thể khỏi các tác nhân gây bệnh và tham gia vào quá trình phục hồi tổn thương.'), ('NGUYÊN XƯƠNG BÀO', 'TẾ BÀO SINH HỌC', 'Nguyên xương bào là loại tế bào chịu trách nhiệm sản sinh ra xương mới, đóng vai trò quan trọng trong quá trình lành xương gãy.')]\n"
     ]
    },
    {
     "name": "stderr",
     "output_type": "stream",
     "text": [
      "Extracting paths from text:  46%|████▌     | 6/13 [00:08<00:07,  1.07s/it]"
     ]
    },
    {
     "name": "stdout",
     "output_type": "stream",
     "text": [
      "parse_fn -----\n",
      "entitis: [('GÃY XƯƠNG', 'Tình trạng y tế', 'Gãy xương là tình trạng khi xương bị gãy do chấn thương hoặc áp lực quá mức. Tình trạng này có thể xảy ra ở nhiều mức độ nghiêm trọng khác nhau và thường cần được điều trị để hồi phục.'), ('BÓ BỘT', 'Phương pháp điều trị', 'Bó bột là một phương pháp điều trị phổ biến cho các chấn thương gãy xương, giúp cố định xương tổn thương và ngăn chặn chuyển động để thúc đẩy quá trình hồi phục. Đây là một phương pháp không xâm lấn và an toàn.'), ('GÃY XƯƠNG', 'Tình trạng y tế', 'Gãy xương là tình trạng khi xương bị gãy do chấn thương hoặc áp lực quá mức. Tình trạng này có thể xảy ra ở nhiều mức độ nghiêm trọng khác nhau và thường cần được điều trị để hồi phục.'), ('BÓ BỘT', 'Phương pháp điều trị', 'Bó bột là một phương pháp điều trị phổ biến cho các chấn thương gãy xương, giúp cố định xương tổn thương và ngăn chặn chuyển động để thúc đẩy quá trình hồi phục. Đây là một phương pháp không xâm lấn và an toàn.')]\n"
     ]
    },
    {
     "name": "stderr",
     "output_type": "stream",
     "text": [
      "Extracting paths from text:  54%|█████▍    | 7/13 [00:09<00:07,  1.21s/it]"
     ]
    },
    {
     "name": "stdout",
     "output_type": "stream",
     "text": [
      "parse_fn -----\n",
      "entitis: [('BÁC_SĨ', 'Người', 'Bác sĩ là người có chuyên môn trong lĩnh vực y tế, có trách nhiệm chẩn đoán và điều trị các vấn đề sức khỏe cho bệnh nhân, bao gồm cả việc quyết định có nên bó bột cho xương tổn thương hay không.'), ('BỆNH_NHÂN', 'Người', 'Bệnh nhân là người nhận sự chăm sóc y tế từ bác sĩ, có thể là người bị tổn thương xương và cần quyết định về việc bó bột hay không.')]\n"
     ]
    },
    {
     "name": "stderr",
     "output_type": "stream",
     "text": [
      "Extracting paths from text:  62%|██████▏   | 8/13 [00:12<00:07,  1.46s/it]"
     ]
    },
    {
     "name": "stdout",
     "output_type": "stream",
     "text": [
      "parse_fn -----\n",
      "entitis: [('XƯƠNG ĐÒN', 'THỰC THỂ XƯƠNG', 'Xương đòn là một trong những vị trí gãy xương có khả năng lành lại mà không cần bó bột, được tưới máu tốt và ít chịu áp lực.'), ('XƯƠNG CỔ TAY', 'THỰC THỂ XƯƠNG', 'Xương cổ tay là một trong những vị trí gãy xương có khả năng lành lại mà không cần bó bột, được tưới máu tốt và ít chịu áp lực.'), ('XƯƠNG NGÓN TAY', 'THỰC THỂ XƯƠNG', 'Xương ngón tay là một trong những vị trí gãy xương có khả năng lành lại mà không cần bó bột, được tưới máu tốt và ít chịu áp lực.'), ('XƯƠNG MẮT CÁ ANH', 'THỰC THỂ XƯƠNG', 'Xương mắt cá chân là một trong những vị trí gãy xương có khả năng lành lại mà không cần bó bột, được tưới máu tốt và ít chịu áp lực.'), ('XƯƠNG CHẬU', 'THỰC THỂ XƯƠNG', 'Xương chậu là một trong những vị trí gãy xương không thể bó bột được, nhưng cũng được tưới máu tốt.'), ('CỔ XƯƠNG ĐÙI', 'THỰC THỂ XƯƠNG', 'Cổ xương đùi là một trong những vị trí gãy xương không thể bó bột được, nhưng cũng được tưới máu tốt.')]\n"
     ]
    },
    {
     "name": "stderr",
     "output_type": "stream",
     "text": [
      "Extracting paths from text:  69%|██████▉   | 9/13 [00:13<00:05,  1.44s/it]"
     ]
    },
    {
     "name": "stdout",
     "output_type": "stream",
     "text": [
      "parse_fn -----\n",
      "entitis: [('BÁC_SĨ', 'Người', 'Bác sĩ là người có chuyên môn trong lĩnh vực y tế, chuyên chẩn đoán và điều trị các bệnh lý, trong đó có gãy xương. Họ có trách nhiệm chỉ định các phương pháp điều trị phù hợp cho bệnh nhân.'), ('BÓ_BỘT', 'Phương_pháp', 'Bó bột là một phương pháp điều trị không xâm lấn, thường được sử dụng để cố định xương gãy, giúp xương lành lại một cách an toàn. Phương pháp này có thể gây hạn chế vận động cho bệnh nhân.')]\n"
     ]
    },
    {
     "name": "stderr",
     "output_type": "stream",
     "text": [
      "Extracting paths from text:  77%|███████▋  | 10/13 [00:14<00:03,  1.20s/it]"
     ]
    },
    {
     "name": "stdout",
     "output_type": "stream",
     "text": [
      "parse_fn -----\n",
      "entitis: [('GÃY XƯƠNG', 'THUẬT NGỮ', 'Gãy xương là tình trạng xương bị gãy do tác động của lực mạnh, có thể xảy ra ở nhiều vị trí khác nhau trên cơ thể và ảnh hưởng đến khả năng vận động cũng như sức khỏe tổng thể của người bệnh.'), ('BÓ BỘT', 'THỦ THUẬT Y TẾ', 'Bó bột là một phương pháp điều trị phổ biến cho các trường hợp gãy xương, nhằm giữ cho xương ở vị trí đúng và hỗ trợ quá trình lành lại của xương.'), ('VỊ TRÍ XƯƠNG GÃY', 'YẾU TỐ', 'Vị trí xương gãy là yếu tố quan trọng quyết định khả năng lành lại của xương, với một số vị trí có thể tự lành mà không cần bó bột.')]\n"
     ]
    },
    {
     "name": "stderr",
     "output_type": "stream",
     "text": [
      "Extracting paths from text:  85%|████████▍ | 11/13 [00:16<00:03,  1.72s/it]"
     ]
    },
    {
     "name": "stdout",
     "output_type": "stream",
     "text": [
      "parse_fn -----\n",
      "entitis: [('BÁC_SĨ', 'Người', 'Bác sĩ là người có chuyên môn trong việc chẩn đoán và điều trị các chấn thương, bệnh tật và các vấn đề sức khỏe khác của bệnh nhân.'), ('BỆNH_NHÂN', 'Người', 'Bệnh nhân là người nhận sự chăm sóc y tế từ bác sĩ, có thể gặp phải các chấn thương hoặc bệnh tật cần điều trị.'), ('CHẤN_THƯƠNG', 'Sự kiện', 'Chấn thương là tình trạng tổn thương cơ thể do tác động bên ngoài, có thể dẫn đến các biến chứng như nhiễm trùng hoặc vấn đề về tưới máu.'), ('PHƯƠNG_PHÁP_ĐIỀU_TRỊ', 'Khái niệm', 'Phương pháp điều trị là các biện pháp mà bác sĩ sử dụng để chữa trị cho bệnh nhân, có thể bao gồm bó bột hoặc các phương pháp khác tùy thuộc vào tình trạng chấn thương.')]\n"
     ]
    },
    {
     "name": "stderr",
     "output_type": "stream",
     "text": [
      "Extracting paths from text: 100%|██████████| 13/13 [00:21<00:00,  1.67s/it]\n"
     ]
    },
    {
     "name": "stdout",
     "output_type": "stream",
     "text": [
      "parse_fn -----\n",
      "entitis: [('BỆNH NHÂN', 'Người', 'Bệnh nhân là người nhận sự chăm sóc y tế, có thể là người bị thương hoặc mắc bệnh, và thường phải tuân thủ các hướng dẫn điều trị từ bác sĩ.'), ('BÓ BỘT', 'Thiết bị y tế', 'Bó bột là một thiết bị y tế được sử dụng để cố định và bảo vệ các bộ phận cơ thể bị thương, giúp quá trình hồi phục diễn ra thuận lợi hơn.'), ('NẸP', 'Thiết bị y tế', 'Nẹp là một thiết bị hỗ trợ y tế được sử dụng để giữ cho các bộ phận cơ thể ở vị trí cố định, thường được sử dụng trong các trường hợp chấn thương nhẹ hoặc để thay thế bó bột.'), ('VẾT THƯƠNG', 'Tình trạng y tế', 'Vết thương là tổn thương trên cơ thể do chấn thương, có thể là nhẹ hoặc nghiêm trọng, và cần được chăm sóc y tế để hồi phục.'), ('NGHỀ NGHIỆP', 'Khái niệm', 'Nghề nghiệp là công việc hoặc lĩnh vực mà một người tham gia, có thể ảnh hưởng đến sức khỏe và cách thức điều trị của họ.'), ('BỆNH NHÂN', 'Người', 'Bệnh nhân là người nhận sự chăm sóc y tế, có thể là người bị thương hoặc mắc bệnh, và thường phải tuân thủ các hướng dẫn điều trị từ bác sĩ.'), ('BÓ BỘT', 'Thiết bị y tế', 'Bó bột là một thiết bị y tế được sử dụng để cố định và bảo vệ các bộ phận cơ thể bị thương, giúp quá trình hồi phục diễn ra thuận lợi hơn.'), ('NẸP', 'Thiết bị y tế', 'Nẹp là một thiết bị hỗ trợ y tế được sử dụng để giữ cho các bộ phận cơ thể ở vị trí cố định, thường được sử dụng trong các trường hợp chấn thương nhẹ hoặc để thay thế bó bột.'), ('VẾT THƯƠNG', 'Tình trạng y tế', 'Vết thương là tổn thương trên cơ thể do chấn thương, có thể là nhẹ hoặc nghiêm trọng, và cần được chăm sóc y tế để hồi phục.'), ('NGHỀ NGHIỆP', 'Khái niệm', 'Nghề nghiệp là công việc hoặc lĩnh vực mà một người tham gia, có thể ảnh hưởng đến sức khỏe và cách thức điều trị của họ.')]\n",
      "parse_fn -----\n",
      "entitis: [('GIAI ĐOẠN 2', 'GIAI ĐOẠN', 'Giai đoạn sản sinh tế bào xương mới từ nguyên xương bào, là một phần trong quá trình hình thành và tái cấu trúc xương.'), ('NGUYÊN XƯƠNG BÀO', 'THỰC THỂ SINH HỌC', 'Nguyên xương bào là tế bào chịu trách nhiệm sản sinh tế bào xương mới trong quá trình tái cấu trúc xương.'), ('XƯƠNG', 'THỰC THỂ SINH HỌC', 'Xương là một cấu trúc cứng chắc trong cơ thể, có vai trò nâng đỡ và bảo vệ các cơ quan, đồng thời tham gia vào quá trình sản xuất tế bào máu.'), ('BÁC SĨ', 'THỰC THỂ CON NGƯỜI', 'Bác sĩ là người có chuyên môn trong lĩnh vực y tế, có nhiệm vụ chẩn đoán và điều trị bệnh cho bệnh nhân.'), ('BÓ BỘT', 'THIẾT BỊ Y TẾ', 'Bó bột là một thiết bị y tế được sử dụng để cố định xương gãy, giúp xương liền lại với nhau trong quá trình lành thương.')]\n"
     ]
    },
    {
     "name": "stderr",
     "output_type": "stream",
     "text": [
      "Generating embeddings: 100%|██████████| 1/1 [00:00<00:00,  1.28it/s]\n",
      "Generating embeddings: 100%|██████████| 2/2 [00:02<00:00,  1.41s/it]\n"
     ]
    }
   ],
   "source": [
    "from llama_index.core import PropertyGraphIndex\n",
    "\n",
    "index = PropertyGraphIndex(\n",
    "    nodes=nodes,\n",
    "    property_graph_store=GraphRAGStore(),\n",
    "    kg_extractors=[kg_extractor],\n",
    "    show_progress=True,\n",
    ")"
   ]
  },
  {
   "cell_type": "code",
   "execution_count": 39,
   "metadata": {
    "id": "38ybR8pG8bQc",
    "outputId": "9a239127-dbb9-47cd-9d24-27593df5187a"
   },
   "outputs": [
    {
     "data": {
      "text/plain": [
       "EntityNode(label='entity', embedding=None, properties={'file_path': '../data/bao-chi/gay-xuong-yte.md', 'file_name': 'gay-xuong-yte.md', 'file_size': 5003, 'creation_date': '2024-11-03', 'last_modified_date': '2024-11-03', 'relationship_description': 'Bệnh nhân sử dụng bó bột để cố định và bảo vệ phần cơ thể bị thương trong quá trình hồi phục.\"', 'triplet_source_id': '2240737b-8e8c-4bb6-9428-13f506afa876'}, name='SỬ DỤNG')"
      ]
     },
     "execution_count": 39,
     "metadata": {},
     "output_type": "execute_result"
    }
   ],
   "source": [
    "list(index.property_graph_store.graph.nodes.values())[-1]"
   ]
  },
  {
   "cell_type": "code",
   "execution_count": 40,
   "metadata": {
    "id": "Vybr2Ba68bQc",
    "outputId": "71f43755-b82d-4ac7-eac6-32c779eb3cca"
   },
   "outputs": [
    {
     "data": {
      "text/plain": [
       "Relation(label='BÓ BỘT', source_id='GÃY XƯƠNG', target_id='ĐIỀU TRỊ', properties={'file_path': '../data/bao-chi/gay-xuong-yte.md', 'file_name': 'gay-xuong-yte.md', 'file_size': 5003, 'creation_date': '2024-11-03', 'last_modified_date': '2024-11-03', 'relationship_description': 'Gãy xương cần được điều trị để hồi phục, và bó bột là một trong những phương pháp điều trị phổ biến nhất cho tình trạng này.', 'triplet_source_id': 'd7454466-fd60-464c-8363-7ce1ed5a640a'})"
      ]
     },
     "execution_count": 40,
     "metadata": {},
     "output_type": "execute_result"
    }
   ],
   "source": [
    "list(index.property_graph_store.graph.relations.values())[0]"
   ]
  },
  {
   "cell_type": "code",
   "execution_count": 41,
   "metadata": {
    "id": "JJJ_Siy48bQd",
    "outputId": "9188b367-0a94-4bad-caf2-2e463866ea0b"
   },
   "outputs": [
    {
     "data": {
      "text/plain": [
       "'Gãy xương cần được điều trị để hồi phục, và bó bột là một trong những phương pháp điều trị phổ biến nhất cho tình trạng này.'"
      ]
     },
     "execution_count": 41,
     "metadata": {},
     "output_type": "execute_result"
    }
   ],
   "source": [
    "list(index.property_graph_store.graph.relations.values())[0].properties[\n",
    "    \"relationship_description\"\n",
    "]"
   ]
  },
  {
   "cell_type": "markdown",
   "metadata": {
    "id": "G0QVO4TL8bQd"
   },
   "source": [
    "### Build communities\n",
    "\n",
    "This will create communities and summary for each community."
   ]
  },
  {
   "cell_type": "code",
   "execution_count": 42,
   "metadata": {
    "id": "OW5YHIKx8bQd"
   },
   "outputs": [
    {
     "name": "stderr",
     "output_type": "stream",
     "text": [
      "/Users/ngocp/Documents/projects/finance-bot/.venv/lib/python3.10/site-packages/graspologic/partition/leiden.py:607: UserWarning: Leiden partitions do not contain all nodes from the input graph because input graph contained isolate nodes.\n",
      "  warnings.warn(\n"
     ]
    }
   ],
   "source": [
    "index.property_graph_store.build_communities()"
   ]
  },
  {
   "cell_type": "code",
   "execution_count": 43,
   "metadata": {},
   "outputs": [
    {
     "ename": "UnboundLocalError",
     "evalue": "local variable 'nx_graph' referenced before assignment",
     "output_type": "error",
     "traceback": [
      "\u001b[0;31m---------------------------------------------------------------------------\u001b[0m",
      "\u001b[0;31mUnboundLocalError\u001b[0m                         Traceback (most recent call last)",
      "Cell \u001b[0;32mIn[43], line 1\u001b[0m\n\u001b[0;32m----> 1\u001b[0m \u001b[43mindex\u001b[49m\u001b[38;5;241;43m.\u001b[39;49m\u001b[43mproperty_graph_store\u001b[49m\u001b[38;5;241;43m.\u001b[39;49m\u001b[43mvisualize_graph\u001b[49m\u001b[43m(\u001b[49m\u001b[38;5;124;43m\"\u001b[39;49m\u001b[38;5;124;43my tế\u001b[39;49m\u001b[38;5;124;43m\"\u001b[39;49m\u001b[43m)\u001b[49m\n\u001b[1;32m      3\u001b[0m \u001b[38;5;66;03m# index.property_graph_store.visualize_graph()\u001b[39;00m\n",
      "Cell \u001b[0;32mIn[30], line 71\u001b[0m, in \u001b[0;36mGraphRAGStore.visualize_graph\u001b[0;34m(self, filter_query)\u001b[0m\n\u001b[1;32m     68\u001b[0m \u001b[38;5;250m\u001b[39m\u001b[38;5;124;03m\"\"\"Visualize the graph using NetworkX.\"\"\"\u001b[39;00m\n\u001b[1;32m     70\u001b[0m \u001b[38;5;28;01mif\u001b[39;00m filter_query:\n\u001b[0;32m---> 71\u001b[0m     nx_graph \u001b[38;5;241m=\u001b[39m \u001b[38;5;28mself\u001b[39m\u001b[38;5;241m.\u001b[39mfilter_nodes_by_name(\u001b[43mnx_graph\u001b[49m, filter_query)\n\u001b[1;32m     72\u001b[0m \u001b[38;5;28;01melse\u001b[39;00m:\n\u001b[1;32m     73\u001b[0m     nx_graph \u001b[38;5;241m=\u001b[39m \u001b[38;5;28mself\u001b[39m\u001b[38;5;241m.\u001b[39m_create_nx_graph()\n",
      "\u001b[0;31mUnboundLocalError\u001b[0m: local variable 'nx_graph' referenced before assignment"
     ]
    }
   ],
   "source": [
    "index.property_graph_store.visualize_graph(\"y tế\")\n",
    "\n",
    "# index.property_graph_store.visualize_graph()"
   ]
  },
  {
   "cell_type": "markdown",
   "metadata": {
    "id": "Z2VI780F8bQd"
   },
   "source": [
    "### Create QueryEngine"
   ]
  },
  {
   "cell_type": "code",
   "execution_count": null,
   "metadata": {
    "id": "IBnr2Mvg8bQd"
   },
   "outputs": [],
   "source": [
    "query_engine = GraphRAGQueryEngine(\n",
    "    graph_store=index.property_graph_store, llm=llm\n",
    ")"
   ]
  },
  {
   "cell_type": "markdown",
   "metadata": {
    "id": "U0x7G3cG8bQd"
   },
   "source": [
    "### Querying"
   ]
  },
  {
   "cell_type": "code",
   "execution_count": null,
   "metadata": {
    "id": "szY-8EBR8bQd",
    "outputId": "d2763a3d-a000-42eb-ce16-dfb5efa98858"
   },
   "outputs": [
    {
     "data": {
      "text/markdown": [
       "Bó bột là phương pháp điều trị chính cho gãy xương, được sử dụng để cố định và bảo vệ xương bị thương, giúp quá trình hồi phục diễn ra hiệu quả. Việc bó bột giữ cho xương ở vị trí đúng, ngăn ngừa di chuyển và tạo điều kiện cho mạch máu và tế bào miễn dịch hoạt động, hỗ trợ quá trình lành vết thương. Quyết định bó bột phụ thuộc vào nhiều yếu tố, bao gồm vị trí gãy xương, độ tuổi của bệnh nhân, khả năng hồi phục tự nhiên và sự tuân thủ hướng dẫn điều trị. Trong một số trường hợp, như gãy xương đòn hoặc cổ tay, có thể không cần bó bột do khả năng hồi phục tốt. Tuy nhiên, ở những vị trí như xương chậu và cổ xương đùi, việc bó bột không khả thi do cấu trúc và áp lực mà các vị trí này phải chịu. Sự tuân thủ hướng dẫn điều trị và nghề nghiệp của bệnh nhân cũng có thể ảnh hưởng đến quá trình hồi phục."
      ],
      "text/plain": [
       "<IPython.core.display.Markdown object>"
      ]
     },
     "metadata": {},
     "output_type": "display_data"
    }
   ],
   "source": [
    "response = query_engine.query(\n",
    "    \"bó bột để làm gì ?\"\n",
    ")\n",
    "display(Markdown(f\"{response.response}\"))"
   ]
  }
 ],
 "metadata": {
  "colab": {
   "provenance": [],
   "toc_visible": true
  },
  "kernelspec": {
   "display_name": ".venv",
   "language": "python",
   "name": "python3"
  },
  "language_info": {
   "codemirror_mode": {
    "name": "ipython",
    "version": 3
   },
   "file_extension": ".py",
   "mimetype": "text/x-python",
   "name": "python",
   "nbconvert_exporter": "python",
   "pygments_lexer": "ipython3",
   "version": "3.10.3"
  }
 },
 "nbformat": 4,
 "nbformat_minor": 0
}
