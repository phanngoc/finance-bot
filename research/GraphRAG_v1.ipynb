{
 "cells": [
  {
   "cell_type": "markdown",
   "metadata": {
    "id": "FK10JcbM8bQV"
   },
   "source": [
    "<a href=\"https://colab.research.google.com/github/run-llama/llama_index/blob/main/docs/docs/examples/cookbooks/GraphRAG_v1.ipynb\" target=\"_parent\"><img src=\"https://colab.research.google.com/assets/colab-badge.svg\" alt=\"Open In Colab\"/></a>"
   ]
  },
  {
   "cell_type": "markdown",
   "metadata": {
    "id": "2osOnBea8bQX"
   },
   "source": [
    "# GraphRAG Implementation with LlamaIndex\n",
    "\n",
    "[GraphRAG (Graphs + Retrieval Augmented Generation)](https://www.microsoft.com/en-us/research/project/graphrag/) combines the strengths of Retrieval Augmented Generation (RAG) and Query-Focused Summarization (QFS) to effectively handle complex queries over large text datasets. While RAG excels in fetching precise information, it struggles with broader queries that require thematic understanding, a challenge that QFS addresses but cannot scale well. GraphRAG integrates these approaches to offer responsive and thorough querying capabilities across extensive, diverse text corpora.\n",
    "\n",
    "\n",
    "This notebook provides guidance on constructing the GraphRAG pipeline using the LlamaIndex PropertyGraph abstractions.\n",
    "\n",
    "\n",
    "**NOTE:** This is an approximate implementation of GraphRAG. We are currently developing a series of cookbooks that will detail the exact implementation of GraphRAG."
   ]
  },
  {
   "cell_type": "markdown",
   "metadata": {
    "id": "tcx_XML58bQX"
   },
   "source": [
    "## GraphRAG Aproach\n",
    "\n",
    "The GraphRAG involves two steps:\n",
    "\n",
    "1. Graph Generation - Creates Graph, builds communities and its summaries over the given document.\n",
    "2. Answer to the Query - Use summaries of the communities created from step-1 to answer the query.\n",
    "\n",
    "**Graph Generation:**\n",
    "\n",
    "1. **Source Documents to Text Chunks:** Source documents are divided into smaller text chunks for easier processing.\n",
    "\n",
    "2. **Text Chunks to Element Instances:** Each text chunk is analyzed to identify and extract entities and relationships, resulting in a list of tuples that represent these elements.\n",
    "\n",
    "3. **Element Instances to Element Summaries:** The extracted entities and relationships are summarized into descriptive text blocks for each element using the LLM.\n",
    "\n",
    "4. **Element Summaries to Graph Communities:** These entities, relationships and summaries form a graph, which is subsequently partitioned into communities using algorithms using Heirarchical Leiden to establish a hierarchical structure.\n",
    "\n",
    "5. **Graph Communities to Community Summaries:** The LLM generates summaries for each community, providing insights into the dataset’s overall topical structure and semantics.\n",
    "\n",
    "**Answering the Query:**\n",
    "\n",
    "**Community Summaries to Global Answers:** The summaries of the communities are utilized to respond to user queries. This involves generating intermediate answers, which are then consolidated into a comprehensive global answer.\n"
   ]
  },
  {
   "cell_type": "markdown",
   "metadata": {
    "id": "-OP9Ck0s8bQY"
   },
   "source": [
    "## GraphRAG Pipeline Components\n",
    "\n",
    "Here are the different components we implemented to build all of the processes mentioned above.\n",
    "\n",
    "1. **Source Documents to Text Chunks:** Implemented using `SentenceSplitter` with a chunk size of 1024 and chunk overlap of 20 tokens.\n",
    "\n",
    "2. **Text Chunks to Element Instances AND Element Instances to Element Summaries:** Implemented using `GraphRAGExtractor`.\n",
    "\n",
    "3. **Element Summaries to Graph Communities AND Graph Communities to Community Summaries:** Implemented using `GraphRAGStore`.\n",
    "\n",
    "4. **Community Summaries to Global Answers:** Implemented using `GraphQueryEngine`.\n",
    "\n",
    "\n",
    "Let's check into each of these components and build GraphRAG pipeline.\n"
   ]
  },
  {
   "cell_type": "markdown",
   "metadata": {
    "id": "LfwiNo4F8bQY"
   },
   "source": [
    "## Installation\n",
    "\n",
    "`graspologic` is used to use hierarchical_leiden for building communities."
   ]
  },
  {
   "cell_type": "code",
   "execution_count": 1,
   "metadata": {
    "id": "HaPn2ApU8bQY"
   },
   "outputs": [
    {
     "name": "stdout",
     "output_type": "stream",
     "text": [
      "Requirement already satisfied: llama-index in /Users/ngocp/Documents/projects/finance-bot/.venv/lib/python3.10/site-packages (0.11.21)\n",
      "Collecting graspologic\n",
      "  Downloading graspologic-3.4.1-py3-none-any.whl.metadata (5.8 kB)\n",
      "Collecting numpy==1.24.4\n",
      "  Downloading numpy-1.24.4-cp310-cp310-macosx_11_0_arm64.whl.metadata (5.6 kB)\n",
      "Collecting scipy==1.12.0\n",
      "  Downloading scipy-1.12.0-cp310-cp310-macosx_12_0_arm64.whl.metadata (112 kB)\n",
      "Requirement already satisfied: llama-index-agent-openai<0.4.0,>=0.3.4 in /Users/ngocp/Documents/projects/finance-bot/.venv/lib/python3.10/site-packages (from llama-index) (0.3.4)\n",
      "Requirement already satisfied: llama-index-cli<0.4.0,>=0.3.1 in /Users/ngocp/Documents/projects/finance-bot/.venv/lib/python3.10/site-packages (from llama-index) (0.3.1)\n",
      "Requirement already satisfied: llama-index-core<0.12.0,>=0.11.20 in /Users/ngocp/Documents/projects/finance-bot/.venv/lib/python3.10/site-packages (from llama-index) (0.11.21)\n",
      "Requirement already satisfied: llama-index-embeddings-openai<0.3.0,>=0.2.4 in /Users/ngocp/Documents/projects/finance-bot/.venv/lib/python3.10/site-packages (from llama-index) (0.2.5)\n",
      "Requirement already satisfied: llama-index-indices-managed-llama-cloud>=0.3.0 in /Users/ngocp/Documents/projects/finance-bot/.venv/lib/python3.10/site-packages (from llama-index) (0.4.0)\n",
      "Requirement already satisfied: llama-index-legacy<0.10.0,>=0.9.48 in /Users/ngocp/Documents/projects/finance-bot/.venv/lib/python3.10/site-packages (from llama-index) (0.9.48.post3)\n",
      "Requirement already satisfied: llama-index-llms-openai<0.3.0,>=0.2.10 in /Users/ngocp/Documents/projects/finance-bot/.venv/lib/python3.10/site-packages (from llama-index) (0.2.16)\n",
      "Requirement already satisfied: llama-index-multi-modal-llms-openai<0.3.0,>=0.2.0 in /Users/ngocp/Documents/projects/finance-bot/.venv/lib/python3.10/site-packages (from llama-index) (0.2.3)\n",
      "Requirement already satisfied: llama-index-program-openai<0.3.0,>=0.2.0 in /Users/ngocp/Documents/projects/finance-bot/.venv/lib/python3.10/site-packages (from llama-index) (0.2.0)\n",
      "Requirement already satisfied: llama-index-question-gen-openai<0.3.0,>=0.2.0 in /Users/ngocp/Documents/projects/finance-bot/.venv/lib/python3.10/site-packages (from llama-index) (0.2.0)\n",
      "Requirement already satisfied: llama-index-readers-file<0.3.0,>=0.2.0 in /Users/ngocp/Documents/projects/finance-bot/.venv/lib/python3.10/site-packages (from llama-index) (0.2.2)\n",
      "Requirement already satisfied: llama-index-readers-llama-parse>=0.3.0 in /Users/ngocp/Documents/projects/finance-bot/.venv/lib/python3.10/site-packages (from llama-index) (0.3.0)\n",
      "Requirement already satisfied: nltk>3.8.1 in /Users/ngocp/Documents/projects/finance-bot/.venv/lib/python3.10/site-packages (from llama-index) (3.9.1)\n",
      "Collecting POT<0.10,>=0.9 (from graspologic)\n",
      "  Downloading POT-0.9.4-cp310-cp310-macosx_11_0_arm64.whl.metadata (32 kB)\n",
      "Collecting anytree<3.0.0,>=2.12.1 (from graspologic)\n",
      "  Downloading anytree-2.12.1-py3-none-any.whl.metadata (8.1 kB)\n",
      "Collecting beartype<0.19.0,>=0.18.5 (from graspologic)\n",
      "  Downloading beartype-0.18.5-py3-none-any.whl.metadata (30 kB)\n",
      "Collecting gensim<5.0.0,>=4.3.2 (from graspologic)\n",
      "  Downloading gensim-4.3.3-cp310-cp310-macosx_11_0_arm64.whl.metadata (8.2 kB)\n",
      "Collecting graspologic-native<2.0.0,>=1.2.1 (from graspologic)\n",
      "  Downloading graspologic_native-1.2.1-cp36-abi3-macosx_10_12_x86_64.macosx_11_0_arm64.macosx_10_12_universal2.whl.metadata (1.9 kB)\n",
      "Collecting hyppo<0.5.0,>=0.4.0 (from graspologic)\n",
      "  Downloading hyppo-0.4.0-py3-none-any.whl.metadata (1.7 kB)\n",
      "Requirement already satisfied: joblib<2.0.0,>=1.4.2 in /Users/ngocp/Documents/projects/finance-bot/.venv/lib/python3.10/site-packages (from graspologic) (1.4.2)\n",
      "Requirement already satisfied: matplotlib<4.0.0,>=3.8.4 in /Users/ngocp/Documents/projects/finance-bot/.venv/lib/python3.10/site-packages (from graspologic) (3.9.2)\n",
      "Requirement already satisfied: networkx<4,>=3 in /Users/ngocp/Documents/projects/finance-bot/.venv/lib/python3.10/site-packages (from graspologic) (3.4.2)\n",
      "INFO: pip is looking at multiple versions of graspologic to determine which version is compatible with other requirements. This could take a while.\n",
      "Collecting graspologic\n",
      "  Downloading graspologic-3.4.0-py3-none-any.whl.metadata (5.8 kB)\n",
      "Collecting POT<0.8.0,>=0.7.0 (from graspologic)\n",
      "  Downloading POT-0.7.0.post1.tar.gz (176 kB)\n",
      "  Installing build dependencies ... \u001b[?25ldone\n",
      "\u001b[?25h  Getting requirements to build wheel ... \u001b[?25ldone\n",
      "\u001b[?25h  Installing backend dependencies ... \u001b[?25ldone\n",
      "\u001b[?25h  Preparing metadata (pyproject.toml) ... \u001b[?25ldone\n",
      "\u001b[?25hCollecting beartype<0.11.0,>=0.10.4 (from graspologic)\n",
      "  Downloading beartype-0.10.4-py3-none-any.whl.metadata (256 kB)\n",
      "Collecting hyppo<0.4.0,>=0.3.2 (from graspologic)\n",
      "  Downloading hyppo-0.3.2.tar.gz (84 kB)\n",
      "  Installing build dependencies ... \u001b[?25ldone\n",
      "\u001b[?25h  Getting requirements to build wheel ... \u001b[?25ldone\n",
      "\u001b[?25h  Preparing metadata (pyproject.toml) ... \u001b[?25ldone\n",
      "\u001b[?25hCollecting networkx<3.0.0,>=2.8.8 (from graspologic)\n",
      "  Downloading networkx-2.8.8-py3-none-any.whl.metadata (5.1 kB)\n",
      "Collecting graspologic\n",
      "  Downloading graspologic-3.3.0.tar.gz (5.1 MB)\n",
      "\u001b[2K     \u001b[90m━━━━━━━━━━━━━━━━━━━━━━━━━━━━━━━━━━━━━━━━\u001b[0m \u001b[32m5.1/5.1 MB\u001b[0m \u001b[31m1.9 MB/s\u001b[0m eta \u001b[36m0:00:00\u001b[0ma \u001b[36m0:00:01\u001b[0m\n",
      "\u001b[?25h  Installing build dependencies ... \u001b[?25ldone\n",
      "\u001b[?25h  Getting requirements to build wheel ... \u001b[?25ldone\n",
      "\u001b[?25h  Preparing metadata (pyproject.toml) ... \u001b[?25ldone\n",
      "\u001b[?25hCollecting beartype>=0.10.0 (from graspologic)\n",
      "  Downloading beartype-0.19.0-py3-none-any.whl.metadata (32 kB)\n",
      "Collecting hyppo>=0.3.2 (from graspologic)\n",
      "  Downloading hyppo-0.5.1-py3-none-any.whl.metadata (1.7 kB)\n",
      "Collecting seaborn>=0.11.0 (from graspologic)\n",
      "  Downloading seaborn-0.13.2-py3-none-any.whl.metadata (5.4 kB)\n",
      "Collecting scikit-learn>=0.22.0 (from graspologic)\n",
      "  Downloading scikit_learn-1.5.2-cp310-cp310-macosx_12_0_arm64.whl.metadata (13 kB)\n",
      "Collecting statsmodels>=0.13.2 (from graspologic)\n",
      "  Downloading statsmodels-0.14.4-cp310-cp310-macosx_11_0_arm64.whl.metadata (9.2 kB)\n",
      "Requirement already satisfied: typing-extensions>=4.4.0 in /Users/ngocp/Documents/projects/finance-bot/.venv/lib/python3.10/site-packages (from graspologic) (4.12.2)\n",
      "Collecting umap-learn>=0.4.6 (from graspologic)\n",
      "  Downloading umap_learn-0.5.7-py3-none-any.whl.metadata (21 kB)\n",
      "Requirement already satisfied: six in /Users/ngocp/Documents/projects/finance-bot/.venv/lib/python3.10/site-packages (from anytree<3.0.0,>=2.12.1->graspologic) (1.16.0)\n",
      "Requirement already satisfied: smart-open>=1.8.1 in /Users/ngocp/Documents/projects/finance-bot/.venv/lib/python3.10/site-packages (from gensim<5.0.0,>=4.3.2->graspologic) (6.4.0)\n",
      "Collecting numba>=0.46 (from hyppo>=0.3.2->graspologic)\n",
      "  Downloading numba-0.60.0-cp310-cp310-macosx_11_0_arm64.whl.metadata (2.7 kB)\n",
      "Collecting autograd>=1.3 (from hyppo>=0.3.2->graspologic)\n",
      "  Downloading autograd-1.7.0-py3-none-any.whl.metadata (7.5 kB)\n",
      "Requirement already satisfied: openai>=1.14.0 in /Users/ngocp/Documents/projects/finance-bot/.venv/lib/python3.10/site-packages (from llama-index-agent-openai<0.4.0,>=0.3.4->llama-index) (1.53.0)\n",
      "Requirement already satisfied: PyYAML>=6.0.1 in /Users/ngocp/Documents/projects/finance-bot/.venv/lib/python3.10/site-packages (from llama-index-core<0.12.0,>=0.11.20->llama-index) (6.0.2)\n",
      "Requirement already satisfied: SQLAlchemy>=1.4.49 in /Users/ngocp/Documents/projects/finance-bot/.venv/lib/python3.10/site-packages (from SQLAlchemy[asyncio]>=1.4.49->llama-index-core<0.12.0,>=0.11.20->llama-index) (2.0.36)\n",
      "Requirement already satisfied: aiohttp<4.0.0,>=3.8.6 in /Users/ngocp/Documents/projects/finance-bot/.venv/lib/python3.10/site-packages (from llama-index-core<0.12.0,>=0.11.20->llama-index) (3.10.10)\n",
      "Requirement already satisfied: dataclasses-json in /Users/ngocp/Documents/projects/finance-bot/.venv/lib/python3.10/site-packages (from llama-index-core<0.12.0,>=0.11.20->llama-index) (0.6.7)\n",
      "Requirement already satisfied: deprecated>=1.2.9.3 in /Users/ngocp/Documents/projects/finance-bot/.venv/lib/python3.10/site-packages (from llama-index-core<0.12.0,>=0.11.20->llama-index) (1.2.14)\n",
      "Requirement already satisfied: dirtyjson<2.0.0,>=1.0.8 in /Users/ngocp/Documents/projects/finance-bot/.venv/lib/python3.10/site-packages (from llama-index-core<0.12.0,>=0.11.20->llama-index) (1.0.8)\n",
      "Requirement already satisfied: fsspec>=2023.5.0 in /Users/ngocp/Documents/projects/finance-bot/.venv/lib/python3.10/site-packages (from llama-index-core<0.12.0,>=0.11.20->llama-index) (2024.10.0)\n",
      "Requirement already satisfied: httpx in /Users/ngocp/Documents/projects/finance-bot/.venv/lib/python3.10/site-packages (from llama-index-core<0.12.0,>=0.11.20->llama-index) (0.27.2)\n",
      "Requirement already satisfied: nest-asyncio<2.0.0,>=1.5.8 in /Users/ngocp/Documents/projects/finance-bot/.venv/lib/python3.10/site-packages (from llama-index-core<0.12.0,>=0.11.20->llama-index) (1.6.0)\n",
      "Requirement already satisfied: pillow>=9.0.0 in /Users/ngocp/Documents/projects/finance-bot/.venv/lib/python3.10/site-packages (from llama-index-core<0.12.0,>=0.11.20->llama-index) (11.0.0)\n",
      "Requirement already satisfied: pydantic<3.0.0,>=2.7.0 in /Users/ngocp/Documents/projects/finance-bot/.venv/lib/python3.10/site-packages (from llama-index-core<0.12.0,>=0.11.20->llama-index) (2.9.2)\n",
      "Requirement already satisfied: requests>=2.31.0 in /Users/ngocp/Documents/projects/finance-bot/.venv/lib/python3.10/site-packages (from llama-index-core<0.12.0,>=0.11.20->llama-index) (2.32.3)\n",
      "Requirement already satisfied: tenacity!=8.4.0,<9.0.0,>=8.2.0 in /Users/ngocp/Documents/projects/finance-bot/.venv/lib/python3.10/site-packages (from llama-index-core<0.12.0,>=0.11.20->llama-index) (8.5.0)\n",
      "Requirement already satisfied: tiktoken>=0.3.3 in /Users/ngocp/Documents/projects/finance-bot/.venv/lib/python3.10/site-packages (from llama-index-core<0.12.0,>=0.11.20->llama-index) (0.8.0)\n",
      "Requirement already satisfied: tqdm<5.0.0,>=4.66.1 in /Users/ngocp/Documents/projects/finance-bot/.venv/lib/python3.10/site-packages (from llama-index-core<0.12.0,>=0.11.20->llama-index) (4.66.5)\n",
      "Requirement already satisfied: typing-inspect>=0.8.0 in /Users/ngocp/Documents/projects/finance-bot/.venv/lib/python3.10/site-packages (from llama-index-core<0.12.0,>=0.11.20->llama-index) (0.9.0)\n",
      "Requirement already satisfied: wrapt in /Users/ngocp/Documents/projects/finance-bot/.venv/lib/python3.10/site-packages (from llama-index-core<0.12.0,>=0.11.20->llama-index) (1.16.0)\n",
      "Requirement already satisfied: llama-cloud>=0.0.11 in /Users/ngocp/Documents/projects/finance-bot/.venv/lib/python3.10/site-packages (from llama-index-indices-managed-llama-cloud>=0.3.0->llama-index) (0.1.4)\n",
      "Requirement already satisfied: pandas in /Users/ngocp/Documents/projects/finance-bot/.venv/lib/python3.10/site-packages (from llama-index-legacy<0.10.0,>=0.9.48->llama-index) (2.2.3)\n",
      "Requirement already satisfied: beautifulsoup4<5.0.0,>=4.12.3 in /Users/ngocp/Documents/projects/finance-bot/.venv/lib/python3.10/site-packages (from llama-index-readers-file<0.3.0,>=0.2.0->llama-index) (4.12.3)\n",
      "Requirement already satisfied: pypdf<5.0.0,>=4.0.1 in /Users/ngocp/Documents/projects/finance-bot/.venv/lib/python3.10/site-packages (from llama-index-readers-file<0.3.0,>=0.2.0->llama-index) (4.3.1)\n",
      "Requirement already satisfied: striprtf<0.0.27,>=0.0.26 in /Users/ngocp/Documents/projects/finance-bot/.venv/lib/python3.10/site-packages (from llama-index-readers-file<0.3.0,>=0.2.0->llama-index) (0.0.26)\n",
      "Requirement already satisfied: llama-parse>=0.5.0 in /Users/ngocp/Documents/projects/finance-bot/.venv/lib/python3.10/site-packages (from llama-index-readers-llama-parse>=0.3.0->llama-index) (0.5.13)\n",
      "Requirement already satisfied: contourpy>=1.0.1 in /Users/ngocp/Documents/projects/finance-bot/.venv/lib/python3.10/site-packages (from matplotlib<4.0.0,>=3.8.4->graspologic) (1.3.0)\n",
      "Requirement already satisfied: cycler>=0.10 in /Users/ngocp/Documents/projects/finance-bot/.venv/lib/python3.10/site-packages (from matplotlib<4.0.0,>=3.8.4->graspologic) (0.12.1)\n",
      "Requirement already satisfied: fonttools>=4.22.0 in /Users/ngocp/Documents/projects/finance-bot/.venv/lib/python3.10/site-packages (from matplotlib<4.0.0,>=3.8.4->graspologic) (4.54.1)\n",
      "Requirement already satisfied: kiwisolver>=1.3.1 in /Users/ngocp/Documents/projects/finance-bot/.venv/lib/python3.10/site-packages (from matplotlib<4.0.0,>=3.8.4->graspologic) (1.4.7)\n",
      "Requirement already satisfied: packaging>=20.0 in /Users/ngocp/Documents/projects/finance-bot/.venv/lib/python3.10/site-packages (from matplotlib<4.0.0,>=3.8.4->graspologic) (24.1)\n",
      "Requirement already satisfied: pyparsing>=2.3.1 in /Users/ngocp/Documents/projects/finance-bot/.venv/lib/python3.10/site-packages (from matplotlib<4.0.0,>=3.8.4->graspologic) (3.2.0)\n",
      "Requirement already satisfied: python-dateutil>=2.7 in /Users/ngocp/Documents/projects/finance-bot/.venv/lib/python3.10/site-packages (from matplotlib<4.0.0,>=3.8.4->graspologic) (2.9.0.post0)\n",
      "Requirement already satisfied: click in /Users/ngocp/Documents/projects/finance-bot/.venv/lib/python3.10/site-packages (from nltk>3.8.1->llama-index) (8.1.7)\n",
      "Requirement already satisfied: regex>=2021.8.3 in /Users/ngocp/Documents/projects/finance-bot/.venv/lib/python3.10/site-packages (from nltk>3.8.1->llama-index) (2024.9.11)\n",
      "Collecting threadpoolctl>=3.1.0 (from scikit-learn>=0.22.0->graspologic)\n",
      "  Downloading threadpoolctl-3.5.0-py3-none-any.whl.metadata (13 kB)\n",
      "Collecting patsy>=0.5.6 (from statsmodels>=0.13.2->graspologic)\n",
      "  Downloading patsy-0.5.6-py2.py3-none-any.whl.metadata (3.5 kB)\n",
      "Collecting pynndescent>=0.5 (from umap-learn>=0.4.6->graspologic)\n",
      "  Downloading pynndescent-0.5.13-py3-none-any.whl.metadata (6.8 kB)\n",
      "Requirement already satisfied: aiohappyeyeballs>=2.3.0 in /Users/ngocp/Documents/projects/finance-bot/.venv/lib/python3.10/site-packages (from aiohttp<4.0.0,>=3.8.6->llama-index-core<0.12.0,>=0.11.20->llama-index) (2.4.3)\n",
      "Requirement already satisfied: aiosignal>=1.1.2 in /Users/ngocp/Documents/projects/finance-bot/.venv/lib/python3.10/site-packages (from aiohttp<4.0.0,>=3.8.6->llama-index-core<0.12.0,>=0.11.20->llama-index) (1.3.1)\n",
      "Requirement already satisfied: attrs>=17.3.0 in /Users/ngocp/Documents/projects/finance-bot/.venv/lib/python3.10/site-packages (from aiohttp<4.0.0,>=3.8.6->llama-index-core<0.12.0,>=0.11.20->llama-index) (24.2.0)\n",
      "Requirement already satisfied: frozenlist>=1.1.1 in /Users/ngocp/Documents/projects/finance-bot/.venv/lib/python3.10/site-packages (from aiohttp<4.0.0,>=3.8.6->llama-index-core<0.12.0,>=0.11.20->llama-index) (1.5.0)\n",
      "Requirement already satisfied: multidict<7.0,>=4.5 in /Users/ngocp/Documents/projects/finance-bot/.venv/lib/python3.10/site-packages (from aiohttp<4.0.0,>=3.8.6->llama-index-core<0.12.0,>=0.11.20->llama-index) (6.1.0)\n",
      "Requirement already satisfied: yarl<2.0,>=1.12.0 in /Users/ngocp/Documents/projects/finance-bot/.venv/lib/python3.10/site-packages (from aiohttp<4.0.0,>=3.8.6->llama-index-core<0.12.0,>=0.11.20->llama-index) (1.17.1)\n",
      "Requirement already satisfied: async-timeout<5.0,>=4.0 in /Users/ngocp/Documents/projects/finance-bot/.venv/lib/python3.10/site-packages (from aiohttp<4.0.0,>=3.8.6->llama-index-core<0.12.0,>=0.11.20->llama-index) (4.0.3)\n",
      "Requirement already satisfied: soupsieve>1.2 in /Users/ngocp/Documents/projects/finance-bot/.venv/lib/python3.10/site-packages (from beautifulsoup4<5.0.0,>=4.12.3->llama-index-readers-file<0.3.0,>=0.2.0->llama-index) (2.6)\n",
      "Requirement already satisfied: anyio in /Users/ngocp/Documents/projects/finance-bot/.venv/lib/python3.10/site-packages (from httpx->llama-index-core<0.12.0,>=0.11.20->llama-index) (4.6.2.post1)\n",
      "Requirement already satisfied: certifi in /Users/ngocp/Documents/projects/finance-bot/.venv/lib/python3.10/site-packages (from httpx->llama-index-core<0.12.0,>=0.11.20->llama-index) (2024.8.30)\n",
      "Requirement already satisfied: httpcore==1.* in /Users/ngocp/Documents/projects/finance-bot/.venv/lib/python3.10/site-packages (from httpx->llama-index-core<0.12.0,>=0.11.20->llama-index) (1.0.6)\n",
      "Requirement already satisfied: idna in /Users/ngocp/Documents/projects/finance-bot/.venv/lib/python3.10/site-packages (from httpx->llama-index-core<0.12.0,>=0.11.20->llama-index) (3.10)\n",
      "Requirement already satisfied: sniffio in /Users/ngocp/Documents/projects/finance-bot/.venv/lib/python3.10/site-packages (from httpx->llama-index-core<0.12.0,>=0.11.20->llama-index) (1.3.1)\n",
      "Requirement already satisfied: h11<0.15,>=0.13 in /Users/ngocp/Documents/projects/finance-bot/.venv/lib/python3.10/site-packages (from httpcore==1.*->httpx->llama-index-core<0.12.0,>=0.11.20->llama-index) (0.14.0)\n",
      "Collecting llvmlite<0.44,>=0.43.0dev0 (from numba>=0.46->hyppo>=0.3.2->graspologic)\n",
      "  Downloading llvmlite-0.43.0-cp310-cp310-macosx_11_0_arm64.whl.metadata (4.8 kB)\n",
      "Requirement already satisfied: distro<2,>=1.7.0 in /Users/ngocp/Documents/projects/finance-bot/.venv/lib/python3.10/site-packages (from openai>=1.14.0->llama-index-agent-openai<0.4.0,>=0.3.4->llama-index) (1.9.0)\n",
      "Requirement already satisfied: jiter<1,>=0.4.0 in /Users/ngocp/Documents/projects/finance-bot/.venv/lib/python3.10/site-packages (from openai>=1.14.0->llama-index-agent-openai<0.4.0,>=0.3.4->llama-index) (0.7.0)\n",
      "Requirement already satisfied: pytz>=2020.1 in /Users/ngocp/Documents/projects/finance-bot/.venv/lib/python3.10/site-packages (from pandas->llama-index-legacy<0.10.0,>=0.9.48->llama-index) (2024.2)\n",
      "Requirement already satisfied: tzdata>=2022.7 in /Users/ngocp/Documents/projects/finance-bot/.venv/lib/python3.10/site-packages (from pandas->llama-index-legacy<0.10.0,>=0.9.48->llama-index) (2024.2)\n",
      "Requirement already satisfied: annotated-types>=0.6.0 in /Users/ngocp/Documents/projects/finance-bot/.venv/lib/python3.10/site-packages (from pydantic<3.0.0,>=2.7.0->llama-index-core<0.12.0,>=0.11.20->llama-index) (0.7.0)\n",
      "Requirement already satisfied: pydantic-core==2.23.4 in /Users/ngocp/Documents/projects/finance-bot/.venv/lib/python3.10/site-packages (from pydantic<3.0.0,>=2.7.0->llama-index-core<0.12.0,>=0.11.20->llama-index) (2.23.4)\n",
      "Requirement already satisfied: charset-normalizer<4,>=2 in /Users/ngocp/Documents/projects/finance-bot/.venv/lib/python3.10/site-packages (from requests>=2.31.0->llama-index-core<0.12.0,>=0.11.20->llama-index) (3.4.0)\n",
      "Requirement already satisfied: urllib3<3,>=1.21.1 in /Users/ngocp/Documents/projects/finance-bot/.venv/lib/python3.10/site-packages (from requests>=2.31.0->llama-index-core<0.12.0,>=0.11.20->llama-index) (2.2.3)\n",
      "Requirement already satisfied: greenlet!=0.4.17 in /Users/ngocp/Documents/projects/finance-bot/.venv/lib/python3.10/site-packages (from SQLAlchemy[asyncio]>=1.4.49->llama-index-core<0.12.0,>=0.11.20->llama-index) (3.1.1)\n",
      "Requirement already satisfied: mypy-extensions>=0.3.0 in /Users/ngocp/Documents/projects/finance-bot/.venv/lib/python3.10/site-packages (from typing-inspect>=0.8.0->llama-index-core<0.12.0,>=0.11.20->llama-index) (1.0.0)\n",
      "Requirement already satisfied: marshmallow<4.0.0,>=3.18.0 in /Users/ngocp/Documents/projects/finance-bot/.venv/lib/python3.10/site-packages (from dataclasses-json->llama-index-core<0.12.0,>=0.11.20->llama-index) (3.23.1)\n",
      "Requirement already satisfied: exceptiongroup>=1.0.2 in /Users/ngocp/Documents/projects/finance-bot/.venv/lib/python3.10/site-packages (from anyio->httpx->llama-index-core<0.12.0,>=0.11.20->llama-index) (1.2.2)\n",
      "Requirement already satisfied: propcache>=0.2.0 in /Users/ngocp/Documents/projects/finance-bot/.venv/lib/python3.10/site-packages (from yarl<2.0,>=1.12.0->aiohttp<4.0.0,>=3.8.6->llama-index-core<0.12.0,>=0.11.20->llama-index) (0.2.0)\n",
      "Downloading numpy-1.24.4-cp310-cp310-macosx_11_0_arm64.whl (13.9 MB)\n",
      "\u001b[2K   \u001b[90m━━━━━━━━━━━━━━━━━━━━━━━━━━━━━━━━━━━━━━━━\u001b[0m \u001b[32m13.9/13.9 MB\u001b[0m \u001b[31m881.6 kB/s\u001b[0m eta \u001b[36m0:00:00\u001b[0m00:01\u001b[0m00:02\u001b[0m\n",
      "\u001b[?25hDownloading scipy-1.12.0-cp310-cp310-macosx_12_0_arm64.whl (31.4 MB)\n",
      "\u001b[2K   \u001b[90m━━━━━━━━━━━━━━━━━━━━━━━━━━━━━━━━━━━━━━━━\u001b[0m \u001b[32m31.4/31.4 MB\u001b[0m \u001b[31m62.4 kB/s\u001b[0m eta \u001b[36m0:00:00\u001b[0m00:03\u001b[0m00:14\u001b[0mm\n",
      "\u001b[?25hDownloading anytree-2.12.1-py3-none-any.whl (44 kB)\n",
      "Downloading beartype-0.19.0-py3-none-any.whl (1.0 MB)\n",
      "\u001b[2K   \u001b[90m━━━━━━━━━━━━━━━━━━━━━━━━━━━━━━━━━━━━━━━━\u001b[0m \u001b[32m1.0/1.0 MB\u001b[0m \u001b[31m115.1 kB/s\u001b[0m eta \u001b[36m0:00:00\u001b[0ma \u001b[36m0:00:03\u001b[0m\n",
      "\u001b[?25hDownloading gensim-4.3.3-cp310-cp310-macosx_11_0_arm64.whl (24.0 MB)\n",
      "\u001b[2K   \u001b[90m━━━━━━━━━━━━━━━━━━━━━━━━━━━━━━━━━━━━━━━━\u001b[0m \u001b[32m24.0/24.0 MB\u001b[0m \u001b[31m501.5 kB/s\u001b[0m eta \u001b[36m0:00:00\u001b[0m00:01\u001b[0m00:02\u001b[0m\n",
      "\u001b[?25hDownloading graspologic_native-1.2.1-cp36-abi3-macosx_10_12_x86_64.macosx_11_0_arm64.macosx_10_12_universal2.whl (660 kB)\n",
      "\u001b[2K   \u001b[90m━━━━━━━━━━━━━━━━━━━━━━━━━━━━━━━━━━━━━━━━\u001b[0m \u001b[32m660.1/660.1 kB\u001b[0m \u001b[31m1.0 MB/s\u001b[0m eta \u001b[36m0:00:00\u001b[0ma \u001b[36m0:00:01\u001b[0m\n",
      "\u001b[?25hDownloading hyppo-0.5.1-py3-none-any.whl (165 kB)\n",
      "Downloading POT-0.9.4-cp310-cp310-macosx_11_0_arm64.whl (305 kB)\n",
      "Downloading scikit_learn-1.5.2-cp310-cp310-macosx_12_0_arm64.whl (11.0 MB)\n",
      "\u001b[2K   \u001b[90m━━━━━━━━━━━━━━━━━━━━━━━━━━━━━━━━━━━━━━━━\u001b[0m \u001b[32m11.0/11.0 MB\u001b[0m \u001b[31m1.1 MB/s\u001b[0m eta \u001b[36m0:00:00\u001b[0m00:01\u001b[0m00:01\u001b[0mm\n",
      "\u001b[?25hDownloading seaborn-0.13.2-py3-none-any.whl (294 kB)\n",
      "Downloading statsmodels-0.14.4-cp310-cp310-macosx_11_0_arm64.whl (9.9 MB)\n",
      "\u001b[2K   \u001b[90m━━━━━━━━━━━━━━━━━━━━━━━━━━━━━━━━━━━━━━━━\u001b[0m \u001b[32m9.9/9.9 MB\u001b[0m \u001b[31m1.1 MB/s\u001b[0m eta \u001b[36m0:00:00\u001b[0m00:01\u001b[0m00:01\u001b[0m\n",
      "\u001b[?25hDownloading umap_learn-0.5.7-py3-none-any.whl (88 kB)\n",
      "Downloading autograd-1.7.0-py3-none-any.whl (52 kB)\n",
      "Downloading numba-0.60.0-cp310-cp310-macosx_11_0_arm64.whl (2.7 MB)\n",
      "\u001b[2K   \u001b[90m━━━━━━━━━━━━━━━━━━━━━━━━━━━━━━━━━━━━━━━━\u001b[0m \u001b[32m2.7/2.7 MB\u001b[0m \u001b[31m1.4 MB/s\u001b[0m eta \u001b[36m0:00:00\u001b[0ma \u001b[36m0:00:01\u001b[0m\n",
      "\u001b[?25hDownloading patsy-0.5.6-py2.py3-none-any.whl (233 kB)\n",
      "Downloading pynndescent-0.5.13-py3-none-any.whl (56 kB)\n",
      "Downloading threadpoolctl-3.5.0-py3-none-any.whl (18 kB)\n",
      "Downloading llvmlite-0.43.0-cp310-cp310-macosx_11_0_arm64.whl (28.8 MB)\n",
      "\u001b[2K   \u001b[90m━━━━━━━━━━━━━━━━━━━━━━━━━━━━━━━━━━━━━━━━\u001b[0m \u001b[32m28.8/28.8 MB\u001b[0m \u001b[31m2.8 MB/s\u001b[0m eta \u001b[36m0:00:00\u001b[0m00:01\u001b[0m00:01\u001b[0m\n",
      "\u001b[?25hBuilding wheels for collected packages: graspologic\n",
      "  Building wheel for graspologic (pyproject.toml) ... \u001b[?25ldone\n",
      "\u001b[?25h  Created wheel for graspologic: filename=graspologic-3.3.0-py3-none-any.whl size=5201794 sha256=e7d12346ff81931d189d13baf8bb9f61acf984eac69e1539ca1784c676919759\n",
      "  Stored in directory: /Users/ngocp/Library/Caches/pip/wheels/87/d1/8c/f371fb5cb6f387cbe0af31a94158fa55ecfd837daaf3b2a213\n",
      "Successfully built graspologic\n",
      "Installing collected packages: threadpoolctl, numpy, llvmlite, graspologic-native, beartype, anytree, scipy, patsy, numba, autograd, statsmodels, scikit-learn, POT, gensim, seaborn, pynndescent, hyppo, umap-learn, graspologic\n",
      "  Attempting uninstall: numpy\n",
      "    Found existing installation: numpy 1.26.4\n",
      "    Uninstalling numpy-1.26.4:\n",
      "      Successfully uninstalled numpy-1.26.4\n",
      "  Attempting uninstall: scipy\n",
      "    Found existing installation: scipy 1.14.1\n",
      "    Uninstalling scipy-1.14.1:\n",
      "      Successfully uninstalled scipy-1.14.1\n",
      "\u001b[31mERROR: pip's dependency resolver does not currently take into account all the packages that are installed. This behaviour is the source of the following dependency conflicts.\n",
      "blis 1.0.1 requires numpy<3.0.0,>=2.0.0, but you have numpy 1.24.4 which is incompatible.\n",
      "thinc 8.3.2 requires numpy<2.1.0,>=2.0.0; python_version >= \"3.9\", but you have numpy 1.24.4 which is incompatible.\n",
      "vi-core-news-lg 3.6.0 requires spacy<3.7.0,>=3.6.0, but you have spacy 3.8.2 which is incompatible.\u001b[0m\u001b[31m\n",
      "\u001b[0mSuccessfully installed POT-0.9.4 anytree-2.12.1 autograd-1.7.0 beartype-0.19.0 gensim-4.3.3 graspologic-3.3.0 graspologic-native-1.2.1 hyppo-0.5.1 llvmlite-0.43.0 numba-0.60.0 numpy-1.24.4 patsy-0.5.6 pynndescent-0.5.13 scikit-learn-1.5.2 scipy-1.12.0 seaborn-0.13.2 statsmodels-0.14.4 threadpoolctl-3.5.0 umap-learn-0.5.7\n"
     ]
    }
   ],
   "source": [
    "!pip install llama-index graspologic numpy==1.24.4 scipy==1.12.0"
   ]
  },
  {
   "cell_type": "markdown",
   "metadata": {
    "id": "kuiBHTAd8bQZ"
   },
   "source": [
    "## Load Data\n",
    "\n",
    "We will use a sample news article dataset retrieved from Diffbot, which Tomaz has conveniently made available on GitHub for easy access.\n",
    "\n",
    "The dataset contains 2,500 samples; for ease of experimentation, we will use 50 of these samples, which include the `title` and `text` of news articles."
   ]
  },
  {
   "cell_type": "markdown",
   "metadata": {
    "id": "LaKqfKV38bQa"
   },
   "source": [
    "Prepare documents as required by LlamaIndex"
   ]
  },
  {
   "cell_type": "code",
   "execution_count": 2,
   "metadata": {},
   "outputs": [],
   "source": [
    "from dotenv import load_dotenv\n",
    "import os\n",
    "from llama_index.llms.openai import OpenAI\n",
    "from llama_index.embeddings.openai import OpenAIEmbedding\n",
    "from llama_index.core import Settings\n",
    "\n",
    "import nest_asyncio\n",
    "nest_asyncio.apply()\n",
    "\n",
    "# Load the .env file\n",
    "\n",
    "load_dotenv('../.env')\n",
    "\n",
    "# Access the OpenAI key\n",
    "openai_key = os.getenv(\"OPENAI_API_KEY\")\n",
    "\n",
    "llm = OpenAI(model=\"gpt-4o-mini\", api_key=openai_key)\n",
    "embed_model = OpenAIEmbedding(model=\"text-embedding-3-small\")\n",
    "\n",
    "Settings.llm = llm\n",
    "Settings.embed_model = embed_model\n"
   ]
  },
  {
   "cell_type": "code",
   "execution_count": 3,
   "metadata": {
    "id": "CMR87HvU8bQb"
   },
   "outputs": [],
   "source": [
    "import asyncio\n",
    "import nest_asyncio\n",
    "\n",
    "nest_asyncio.apply()\n",
    "\n",
    "from typing import Any, List, Callable, Optional, Union, Dict\n",
    "from IPython.display import Markdown, display\n",
    "\n",
    "from llama_index.core.async_utils import run_jobs\n",
    "from llama_index.core.indices.property_graph.utils import (\n",
    "    default_parse_triplets_fn,\n",
    ")\n",
    "from llama_index.core.graph_stores.types import (\n",
    "    EntityNode,\n",
    "    KG_NODES_KEY,\n",
    "    KG_RELATIONS_KEY,\n",
    "    Relation,\n",
    ")\n",
    "from llama_index.core.llms.llm import LLM\n",
    "from llama_index.core.prompts import PromptTemplate\n",
    "from llama_index.core.prompts.default_prompts import (\n",
    "    DEFAULT_KG_TRIPLET_EXTRACT_PROMPT,\n",
    ")\n",
    "from llama_index.core.schema import TransformComponent, BaseNode\n",
    "from llama_index.core.bridge.pydantic import BaseModel, Field\n",
    "\n",
    "\n",
    "class GraphRAGExtractor(TransformComponent):\n",
    "    \"\"\"Extract triples from a graph.\n",
    "\n",
    "    Uses an LLM and a simple prompt + output parsing to extract paths (i.e. triples) and entity, relation descriptions from text.\n",
    "\n",
    "    Args:\n",
    "        llm (LLM):\n",
    "            The language model to use.\n",
    "        extract_prompt (Union[str, PromptTemplate]):\n",
    "            The prompt to use for extracting triples.\n",
    "        parse_fn (callable):\n",
    "            A function to parse the output of the language model.\n",
    "        num_workers (int):\n",
    "            The number of workers to use for parallel processing.\n",
    "        max_paths_per_chunk (int):\n",
    "            The maximum number of paths to extract per chunk.\n",
    "    \"\"\"\n",
    "\n",
    "    llm: LLM\n",
    "    extract_prompt: PromptTemplate\n",
    "    parse_fn: Callable\n",
    "    num_workers: int\n",
    "    max_paths_per_chunk: int\n",
    "\n",
    "    def __init__(\n",
    "        self,\n",
    "        llm: Optional[LLM] = None,\n",
    "        extract_prompt: Optional[Union[str, PromptTemplate]] = None,\n",
    "        parse_fn: Callable = default_parse_triplets_fn,\n",
    "        max_paths_per_chunk: int = 10,\n",
    "        num_workers: int = 4,\n",
    "    ) -> None:\n",
    "        \"\"\"Init params.\"\"\"\n",
    "        from llama_index.core import Settings\n",
    "\n",
    "        if isinstance(extract_prompt, str):\n",
    "            extract_prompt = PromptTemplate(extract_prompt)\n",
    "\n",
    "        super().__init__(\n",
    "            llm=llm or Settings.llm,\n",
    "            extract_prompt=extract_prompt or DEFAULT_KG_TRIPLET_EXTRACT_PROMPT,\n",
    "            parse_fn=parse_fn,\n",
    "            num_workers=num_workers,\n",
    "            max_paths_per_chunk=max_paths_per_chunk,\n",
    "        )\n",
    "\n",
    "    @classmethod\n",
    "    def class_name(cls) -> str:\n",
    "        return \"GraphExtractor\"\n",
    "\n",
    "    def __call__(\n",
    "        self, nodes: List[BaseNode], show_progress: bool = False, **kwargs: Any\n",
    "    ) -> List[BaseNode]:\n",
    "        \"\"\"Extract triples from nodes.\"\"\"\n",
    "        return asyncio.run(\n",
    "            self.acall(nodes, show_progress=show_progress, **kwargs)\n",
    "        )\n",
    "\n",
    "    async def _aextract(self, node: BaseNode) -> BaseNode:\n",
    "        \"\"\"Extract triples from a node.\"\"\"\n",
    "        assert hasattr(node, \"text\")\n",
    "\n",
    "        text = node.get_content(metadata_mode=\"llm\")\n",
    "        try:\n",
    "            llm_response = await self.llm.apredict(\n",
    "                self.extract_prompt,\n",
    "                text=text,\n",
    "                max_knowledge_triplets=self.max_paths_per_chunk,\n",
    "            )\n",
    "            entities, entities_relationship = self.parse_fn(llm_response)\n",
    "        except ValueError:\n",
    "            entities = []\n",
    "            entities_relationship = []\n",
    "\n",
    "        existing_nodes = node.metadata.pop(KG_NODES_KEY, [])\n",
    "        existing_relations = node.metadata.pop(KG_RELATIONS_KEY, [])\n",
    "        metadata = node.metadata.copy()\n",
    "        for entity, entity_type, description in entities:\n",
    "            metadata[\n",
    "                \"entity_description\"\n",
    "            ] = description  # Not used in the current implementation. But will be useful in future work.\n",
    "            entity_node = EntityNode(\n",
    "                name=entity, label=entity_type, properties=metadata\n",
    "            )\n",
    "            existing_nodes.append(entity_node)\n",
    "\n",
    "        metadata = node.metadata.copy()\n",
    "        for triple in entities_relationship:\n",
    "            subj, rel, obj, description = triple\n",
    "            subj_node = EntityNode(name=subj, properties=metadata)\n",
    "            obj_node = EntityNode(name=obj, properties=metadata)\n",
    "            metadata[\"relationship_description\"] = description\n",
    "            rel_node = Relation(\n",
    "                label=rel,\n",
    "                source_id=subj_node.id,\n",
    "                target_id=obj_node.id,\n",
    "                properties=metadata,\n",
    "            )\n",
    "\n",
    "            existing_nodes.extend([subj_node, obj_node])\n",
    "            existing_relations.append(rel_node)\n",
    "\n",
    "        node.metadata[KG_NODES_KEY] = existing_nodes\n",
    "        node.metadata[KG_RELATIONS_KEY] = existing_relations\n",
    "        return node\n",
    "\n",
    "    async def acall(\n",
    "        self, nodes: List[BaseNode], show_progress: bool = False, **kwargs: Any\n",
    "    ) -> List[BaseNode]:\n",
    "        \"\"\"Extract triples from nodes async.\"\"\"\n",
    "        jobs = []\n",
    "        for node in nodes:\n",
    "            jobs.append(self._aextract(node))\n",
    "\n",
    "        return await run_jobs(\n",
    "            jobs,\n",
    "            workers=self.num_workers,\n",
    "            show_progress=show_progress,\n",
    "            desc=\"Extracting paths from text\",\n",
    "        )"
   ]
  },
  {
   "cell_type": "markdown",
   "metadata": {
    "id": "cxg6rsLj8bQb"
   },
   "source": [
    "## GraphRAGStore\n",
    "\n",
    "The `GraphRAGStore` class is an extension of the `SimplePropertyGraphStore `class, designed to implement GraphRAG pipeline. Here's a breakdown of its key components and functions:\n",
    "\n",
    "\n",
    "The class uses community detection algorithms to group related nodes in the graph and then it generates summaries for each community using an LLM.\n",
    "\n",
    "\n",
    "**Key Methods:**\n",
    "\n",
    "`build_communities():`\n",
    "\n",
    "1. Converts the internal graph representation to a NetworkX graph.\n",
    "\n",
    "2. Applies the hierarchical Leiden algorithm for community detection.\n",
    "\n",
    "3. Collects detailed information about each community.\n",
    "\n",
    "4. Generates summaries for each community.\n",
    "\n",
    "`generate_community_summary(text):`\n",
    "\n",
    "1. Uses LLM to generate a summary of the relationships in a community.\n",
    "2. The summary includes entity names and a synthesis of relationship descriptions.\n",
    "\n",
    "`_create_nx_graph():`\n",
    "\n",
    "1. Converts the internal graph representation to a NetworkX graph for community detection.\n",
    "\n",
    "`_collect_community_info(nx_graph, clusters):`\n",
    "\n",
    "1. Collects detailed information about each node based on its community.\n",
    "2. Creates a string representation of each relationship within a community.\n",
    "\n",
    "`_summarize_communities(community_info):`\n",
    "\n",
    "1. Generates and stores summaries for each community using LLM.\n",
    "\n",
    "`get_community_summaries():`\n",
    "\n",
    "1. Returns the community summaries by building them if not already done."
   ]
  },
  {
   "cell_type": "code",
   "execution_count": 5,
   "metadata": {},
   "outputs": [
    {
     "name": "stdout",
     "output_type": "stream",
     "text": [
      "Collecting future\n",
      "  Downloading future-1.0.0-py3-none-any.whl.metadata (4.0 kB)\n",
      "Downloading future-1.0.0-py3-none-any.whl (491 kB)\n",
      "Installing collected packages: future\n",
      "Successfully installed future-1.0.0\n"
     ]
    }
   ],
   "source": [
    "!pip install future"
   ]
  },
  {
   "cell_type": "code",
   "execution_count": 6,
   "metadata": {
    "id": "Acnslda78bQb",
    "outputId": "a3dc8507-6441-4461-bf81-aa8b1860af55"
   },
   "outputs": [
    {
     "name": "stderr",
     "output_type": "stream",
     "text": [
      "/Users/ngocp/Documents/projects/finance-bot/.venv/lib/python3.10/site-packages/tqdm/auto.py:21: TqdmWarning: IProgress not found. Please update jupyter and ipywidgets. See https://ipywidgets.readthedocs.io/en/stable/user_install.html\n",
      "  from .autonotebook import tqdm as notebook_tqdm\n"
     ]
    }
   ],
   "source": [
    "import re\n",
    "from llama_index.core.graph_stores import SimplePropertyGraphStore\n",
    "import networkx as nx\n",
    "from graspologic.partition import hierarchical_leiden\n",
    "from openai import OpenAI\n",
    "from llama_index.core.llms import ChatMessage\n",
    "\n",
    "\n",
    "class GraphRAGStore(SimplePropertyGraphStore):\n",
    "    community_summary = {}\n",
    "    max_cluster_size = 5\n",
    "\n",
    "    def generate_community_summary(self, text):\n",
    "        \"\"\"Generate summary for a given text using an LLM.\"\"\"\n",
    "        messages = [\n",
    "            ChatMessage(\n",
    "                role=\"system\",\n",
    "                content=(\n",
    "                    \"You are provided with a set of relationships from a knowledge graph, each represented as \"\n",
    "                    \"entity1->entity2->relation->relationship_description. Your task is to create a summary of these \"\n",
    "                    \"relationships. The summary should include the names of the entities involved and a concise synthesis \"\n",
    "                    \"of the relationship descriptions. The goal is to capture the most critical and relevant details that \"\n",
    "                    \"highlight the nature and significance of each relationship. Ensure that the summary is coherent and \"\n",
    "                    \"integrates the information in a way that emphasizes the key aspects of the relationships.\"\n",
    "                ),\n",
    "            ),\n",
    "            ChatMessage(role=\"user\", content=text),\n",
    "        ]\n",
    "        response = OpenAI().chat(messages)\n",
    "        clean_response = re.sub(r\"^assistant:\\s*\", \"\", str(response)).strip()\n",
    "        return clean_response\n",
    "\n",
    "    def build_communities(self):\n",
    "        \"\"\"Builds communities from the graph and summarizes them.\"\"\"\n",
    "        nx_graph = self._create_nx_graph()\n",
    "        community_hierarchical_clusters = hierarchical_leiden(\n",
    "            nx_graph, max_cluster_size=self.max_cluster_size\n",
    "        )\n",
    "        community_info = self._collect_community_info(\n",
    "            nx_graph, community_hierarchical_clusters\n",
    "        )\n",
    "        self._summarize_communities(community_info)\n",
    "\n",
    "    def _create_nx_graph(self):\n",
    "        \"\"\"Converts internal graph representation to NetworkX graph.\"\"\"\n",
    "        nx_graph = nx.Graph()\n",
    "        for node in self.graph.nodes.values():\n",
    "            nx_graph.add_node(str(node))\n",
    "        for relation in self.graph.relations.values():\n",
    "            nx_graph.add_edge(\n",
    "                relation.source_id,\n",
    "                relation.target_id,\n",
    "                relationship=relation.label,\n",
    "                description=relation.properties[\"relationship_description\"],\n",
    "            )\n",
    "        return nx_graph\n",
    "\n",
    "    def _collect_community_info(self, nx_graph, clusters):\n",
    "        \"\"\"Collect detailed information for each node based on their community.\"\"\"\n",
    "        community_mapping = {item.node: item.cluster for item in clusters}\n",
    "        community_info = {}\n",
    "        for item in clusters:\n",
    "            cluster_id = item.cluster\n",
    "            node = item.node\n",
    "            if cluster_id not in community_info:\n",
    "                community_info[cluster_id] = []\n",
    "\n",
    "            for neighbor in nx_graph.neighbors(node):\n",
    "                if community_mapping[neighbor] == cluster_id:\n",
    "                    edge_data = nx_graph.get_edge_data(node, neighbor)\n",
    "                    if edge_data:\n",
    "                        detail = f\"{node} -> {neighbor} -> {edge_data['relationship']} -> {edge_data['description']}\"\n",
    "                        community_info[cluster_id].append(detail)\n",
    "        return community_info\n",
    "\n",
    "    def _summarize_communities(self, community_info):\n",
    "        \"\"\"Generate and store summaries for each community.\"\"\"\n",
    "        for community_id, details in community_info.items():\n",
    "            details_text = (\n",
    "                \"\\n\".join(details) + \".\"\n",
    "            )  # Ensure it ends with a period\n",
    "            self.community_summary[\n",
    "                community_id\n",
    "            ] = self.generate_community_summary(details_text)\n",
    "\n",
    "    def get_community_summaries(self):\n",
    "        \"\"\"Returns the community summaries, building them if not already done.\"\"\"\n",
    "        if not self.community_summary:\n",
    "            self.build_communities()\n",
    "        return self.community_summary"
   ]
  },
  {
   "cell_type": "markdown",
   "metadata": {
    "id": "MISKiD748bQb"
   },
   "source": [
    "## GraphRAGQueryEngine\n",
    "\n",
    "The GraphRAGQueryEngine class is a custom query engine designed to process queries using the GraphRAG approach. It leverages the community summaries generated by the GraphRAGStore to answer user queries. Here's a breakdown of its functionality:\n",
    "\n",
    "**Main Components:**\n",
    "\n",
    "`graph_store:` An instance of GraphRAGStore, which contains the community summaries.\n",
    "`llm:` A Language Model (LLM) used for generating and aggregating answers.\n",
    "\n",
    "\n",
    "**Key Methods:**\n",
    "\n",
    "`custom_query(query_str: str)`\n",
    "\n",
    "1. This is the main entry point for processing a query. It retrieves community summaries, generates answers from each summary, and then aggregates these answers into a final response.\n",
    "\n",
    "`generate_answer_from_summary(community_summary, query):`\n",
    "\n",
    "1. Generates an answer for the query based on a single community summary.\n",
    "Uses the LLM to interpret the community summary in the context of the query.\n",
    "\n",
    "`aggregate_answers(community_answers):`\n",
    "\n",
    "1. Combines individual answers from different communities into a coherent final response.\n",
    "2. Uses the LLM to synthesize multiple perspectives into a single, concise answer.\n",
    "\n",
    "\n",
    "**Query Processing Flow:**\n",
    "\n",
    "1. Retrieve community summaries from the graph store.\n",
    "2. For each community summary, generate a specific answer to the query.\n",
    "3. Aggregate all community-specific answers into a final, coherent response.\n",
    "\n",
    "\n",
    "**Example usage:**\n",
    "\n",
    "```\n",
    "query_engine = GraphRAGQueryEngine(graph_store=graph_store, llm=llm)\n",
    "\n",
    "response = query_engine.query(\"query\")\n",
    "```"
   ]
  },
  {
   "cell_type": "code",
   "execution_count": 7,
   "metadata": {
    "id": "HurIQUXy8bQb"
   },
   "outputs": [],
   "source": [
    "from llama_index.core.query_engine import CustomQueryEngine\n",
    "from llama_index.core.llms import LLM\n",
    "\n",
    "\n",
    "class GraphRAGQueryEngine(CustomQueryEngine):\n",
    "    graph_store: GraphRAGStore\n",
    "    llm: LLM\n",
    "\n",
    "    def custom_query(self, query_str: str) -> str:\n",
    "        \"\"\"Process all community summaries to generate answers to a specific query.\"\"\"\n",
    "        community_summaries = self.graph_store.get_community_summaries()\n",
    "        community_answers = [\n",
    "            self.generate_answer_from_summary(community_summary, query_str)\n",
    "            for _, community_summary in community_summaries.items()\n",
    "        ]\n",
    "\n",
    "        final_answer = self.aggregate_answers(community_answers)\n",
    "        return final_answer\n",
    "\n",
    "    def generate_answer_from_summary(self, community_summary, query):\n",
    "        \"\"\"Generate an answer from a community summary based on a given query using LLM.\"\"\"\n",
    "        prompt = (\n",
    "            f\"Given the community summary: {community_summary}, \"\n",
    "            f\"how would you answer the following query? Query: {query}\"\n",
    "        )\n",
    "        messages = [\n",
    "            ChatMessage(role=\"system\", content=prompt),\n",
    "            ChatMessage(\n",
    "                role=\"user\",\n",
    "                content=\"I need an answer based on the above information.\",\n",
    "            ),\n",
    "        ]\n",
    "        response = self.llm.chat(messages)\n",
    "        cleaned_response = re.sub(r\"^assistant:\\s*\", \"\", str(response)).strip()\n",
    "        return cleaned_response\n",
    "\n",
    "    def aggregate_answers(self, community_answers):\n",
    "        \"\"\"Aggregate individual community answers into a final, coherent response.\"\"\"\n",
    "        # intermediate_text = \" \".join(community_answers)\n",
    "        prompt = \"Combine the following intermediate answers into a final, concise response.\"\n",
    "        messages = [\n",
    "            ChatMessage(role=\"system\", content=prompt),\n",
    "            ChatMessage(\n",
    "                role=\"user\",\n",
    "                content=f\"Intermediate answers: {community_answers}\",\n",
    "            ),\n",
    "        ]\n",
    "        final_response = self.llm.chat(messages)\n",
    "        cleaned_final_response = re.sub(\n",
    "            r\"^assistant:\\s*\", \"\", str(final_response)\n",
    "        ).strip()\n",
    "        return cleaned_final_response"
   ]
  },
  {
   "cell_type": "markdown",
   "metadata": {
    "id": "K_keETm38bQc"
   },
   "source": [
    "##  Build End to End GraphRAG Pipeline\n",
    "\n",
    "Now that we have defined all the necessary components, let’s construct the GraphRAG pipeline:\n",
    "\n",
    "1. Create nodes/chunks from the text.\n",
    "2. Build a PropertyGraphIndex using `GraphRAGExtractor` and `GraphRAGStore`.\n",
    "3. Construct communities and generate a summary for each community using the graph built above.\n",
    "4. Create a `GraphRAGQueryEngine` and begin querying."
   ]
  },
  {
   "cell_type": "markdown",
   "metadata": {
    "id": "XML3l6cp8bQc"
   },
   "source": [
    "### Create nodes/ chunks from the text."
   ]
  },
  {
   "cell_type": "code",
   "execution_count": 41,
   "metadata": {
    "id": "3wStzFqV8bQc"
   },
   "outputs": [
    {
     "name": "stdout",
     "output_type": "stream",
     "text": [
      "length of documents: 1\n",
      "documents: Doc ID: 8104bcb1-9b0d-48f6-a509-74725486e296\n",
      "Text: Nvidia to take Intel's spot on Dow Jones Industrial Average  By\n",
      "Arsheeya Bajwa  (Reuters) -Intel will be replaced by Nvidia\n",
      "(NASDAQ:NVDA) on the blue-chip Dow Jones Industrial Average index\n",
      "after a 25-year run, underscoring the shift in the chipmaking market\n",
      "and marking another setback for the struggling semiconductor firm.\n",
      "Nvidia will join the...\n",
      "Chunk overlap: 5, Number of nodes: 4\n",
      "Chunk overlap: 10, Number of nodes: 4\n",
      "Chunk overlap: 20, Number of nodes: 4\n",
      "Chunk overlap: 50, Number of nodes: 5\n",
      "Chunk overlap: 100, Number of nodes: 6\n"
     ]
    }
   ],
   "source": [
    "from llama_index.core import SimpleDirectoryReader\n",
    "from llama_index.graph_stores.neo4j import Neo4jPropertyGraphStore\n",
    "\n",
    "documents = SimpleDirectoryReader(input_files=['../data/bao-chi/nvidia.md']).load_data()\n",
    "\n",
    "# documents = [\n",
    "#     Document(text=f\"{row['title']}: {row['text']}\")\n",
    "#     for i, row in news.iterrows()\n",
    "# ]\n",
    "print(\"length of documents:\", len(documents))\n",
    "print('documents:', documents[0])\n",
    "\n",
    "\n",
    "from llama_index.core.node_parser import SentenceSplitter\n",
    "\n",
    "for overlap in [5, 10, 20, 50, 100]:\n",
    "    splitter = SentenceSplitter(\n",
    "        chunk_size=255,\n",
    "        chunk_overlap=overlap,\n",
    "        # paragraph_separator=\".\\n\",\n",
    "    )\n",
    "    nodes = splitter.get_nodes_from_documents(documents)\n",
    "    print(f\"Chunk overlap: {overlap}, Number of nodes: {len(nodes)}\")"
   ]
  },
  {
   "cell_type": "code",
   "execution_count": 36,
   "metadata": {
    "id": "YJ2SXTWS8bQc",
    "outputId": "7b9316ba-3092-48ff-c947-a0854e5e21d9"
   },
   "outputs": [
    {
     "data": {
      "text/plain": [
       "1"
      ]
     },
     "execution_count": 36,
     "metadata": {},
     "output_type": "execute_result"
    }
   ],
   "source": [
    "len(nodes)"
   ]
  },
  {
   "cell_type": "code",
   "execution_count": 16,
   "metadata": {},
   "outputs": [
    {
     "name": "stdout",
     "output_type": "stream",
     "text": [
      "Node ID: 15f74526-66b2-4fae-8f7d-266b2105dc84\n",
      "Text: Nvidia to take Intel's spot on Dow Jones Industrial Average  By\n",
      "Arsheeya Bajwa  (Reuters) -Intel will be replaced by Nvidia\n",
      "(NASDAQ:NVDA) on the blue-chip Dow Jones Industrial Average index\n",
      "after a 25-year run, underscoring the shift in the chipmaking market\n",
      "and marking another setback for the struggling semiconductor firm.\n",
      "Nvidia will join the...\n"
     ]
    }
   ],
   "source": [
    "print(nodes[0])"
   ]
  },
  {
   "cell_type": "markdown",
   "metadata": {
    "id": "haUojn_z8bQc"
   },
   "source": [
    "### Build ProperGraphIndex using `GraphRAGExtractor` and `GraphRAGStore`"
   ]
  },
  {
   "cell_type": "code",
   "execution_count": 33,
   "metadata": {
    "id": "adxPw-dn8bQc"
   },
   "outputs": [],
   "source": [
    "KG_TRIPLET_EXTRACT_TMPL = \"\"\"\n",
    "-Goal-\n",
    "Given a text document, identify all entities and their entity types from the text and all relationships among the identified entities.\n",
    "Given the text, extract up to {max_knowledge_triplets} entity-relation triplets.\n",
    "\n",
    "-Steps-\n",
    "1. Identify all entities. For each identified entity, extract the following information:\n",
    "- entity_name: Name of the entity, capitalized\n",
    "- entity_type: Type of the entity\n",
    "- entity_description: Comprehensive description of the entity's attributes and activities\n",
    "Format each entity as (\"entity\"$$$$<entity_name>$$$$<entity_type>$$$$<entity_description>)\n",
    "\n",
    "2. From the entities identified in step 1, identify all pairs of (source_entity, target_entity) that are *clearly related* to each other.\n",
    "For each pair of related entities, extract the following information:\n",
    "- source_entity: name of the source entity, as identified in step 1\n",
    "- target_entity: name of the target entity, as identified in step 1\n",
    "- relation: relationship between source_entity and target_entity\n",
    "- relationship_description: explanation as to why you think the source entity and the target entity are related to each other\n",
    "\n",
    "Format each relationship as (\"relationship\"$$$$<source_entity>$$$$<target_entity>$$$$<relation>$$$$<relationship_description>)\n",
    "\n",
    "3. When finished, output.\n",
    "\n",
    "-Real Data-\n",
    "######################\n",
    "text: {text}\n",
    "######################\n",
    "output:\"\"\""
   ]
  },
  {
   "cell_type": "code",
   "execution_count": 34,
   "metadata": {
    "id": "M5ikeoHt8bQc"
   },
   "outputs": [],
   "source": [
    "entity_pattern = r'\\(\"entity\"\\$\\$\\$\\$\"(.+?)\"\\$\\$\\$\\$\"(.+?)\"\\$\\$\\$\\$\"(.+?)\"\\)'\n",
    "relationship_pattern = r'\\(\"relationship\"\\$\\$\\$\\$\"(.+?)\"\\$\\$\\$\\$\"(.+?)\"\\$\\$\\$\\$\"(.+?)\"\\$\\$\\$\\$\"(.+?)\"\\)'\n",
    "\n",
    "\n",
    "def parse_fn(response_str: str) -> Any:\n",
    "    entities = re.findall(entity_pattern, response_str)\n",
    "    relationships = re.findall(relationship_pattern, response_str)\n",
    "    return entities, relationships\n",
    "\n",
    "\n",
    "kg_extractor = GraphRAGExtractor(\n",
    "    llm=llm,\n",
    "    extract_prompt=KG_TRIPLET_EXTRACT_TMPL,\n",
    "    max_paths_per_chunk=2,\n",
    "    parse_fn=parse_fn,\n",
    ")"
   ]
  },
  {
   "cell_type": "code",
   "execution_count": 42,
   "metadata": {
    "id": "UEGkjUWB8bQc",
    "outputId": "501f9e9a-4613-4509-ca22-f829f2af8704"
   },
   "outputs": [
    {
     "name": "stderr",
     "output_type": "stream",
     "text": [
      "Extracting paths from text: 100%|██████████| 6/6 [00:16<00:00,  2.79s/it]\n",
      "Generating embeddings: 100%|██████████| 1/1 [00:01<00:00,  1.50s/it]\n",
      "Generating embeddings: 0it [00:00, ?it/s]\n"
     ]
    }
   ],
   "source": [
    "from llama_index.core import PropertyGraphIndex\n",
    "\n",
    "index = PropertyGraphIndex(\n",
    "    nodes=nodes,\n",
    "    property_graph_store=GraphRAGStore(),\n",
    "    kg_extractors=[kg_extractor],\n",
    "    show_progress=True,\n",
    ")"
   ]
  },
  {
   "cell_type": "code",
   "execution_count": 43,
   "metadata": {
    "id": "38ybR8pG8bQc",
    "outputId": "9a239127-dbb9-47cd-9d24-27593df5187a"
   },
   "outputs": [
    {
     "data": {
      "text/plain": [
       "ChunkNode(label='text_chunk', embedding=[0.0010216357186436653, -0.02785756066441536, 0.02533784508705139, 0.025593653321266174, 0.012144514359533787, -0.014542720280587673, 0.03668295592069626, 0.0720868706703186, 0.00967596098780632, -0.00604667654260993, 0.026297127828001976, 0.018571706488728523, -0.015617117285728455, -0.03235979005694389, 0.05745461955666542, 0.02317626215517521, -0.026936648413538933, -0.02552970126271248, -0.053003549575805664, 0.042157262563705444, -0.010053278878331184, 0.052543092519044876, 0.019006581977009773, 0.010513735003769398, 0.019850749522447586, 0.024992503225803375, -0.0710124745965004, -0.0006702985265292227, 0.01274566538631916, -0.00307609885931015, 0.01657640002667904, -0.013685761950910091, -0.01642291434109211, -0.04282236471772194, -0.012240443378686905, -0.014811319299042225, -0.023636717349290848, 0.0004660513368435204, 0.04090379923582077, -0.03386906161904335, 0.005810053553432226, 0.042003776878118515, -0.014836900867521763, -0.004351944196969271, 0.008921326138079166, -0.060626644641160965, 0.007181827444583178, -0.0659986287355423, 0.006695790681988001, 0.056687191128730774, -0.026028528809547424, -0.0070283422246575356, -0.001558034447953105, 0.03164352849125862, -0.01789381355047226, 0.010245135985314846, 0.006810904946178198, -0.0011967046884819865, -0.021526295691728592, 0.00652312021702528, 0.014990385621786118, -0.04428047314286232, 0.065793976187706, 0.01774032786488533, 0.0037859678268432617, -0.05164776369929314, -0.0592452771961689, 0.05883598327636719, 0.01539967954158783, 0.017036855220794678, -0.03755270689725876, 0.013289257884025574, 0.013161353766918182, 0.005004256498068571, 0.027499428018927574, 0.010942214168608189, -0.013039845041930676, -0.03315280005335808, 0.046864140778779984, -0.01745893806219101, -0.02724361978471279, 0.03693876788020134, -0.022485578432679176, 0.02992960996925831, -0.05180124565958977, -0.0022479183971881866, -0.03338302671909332, -0.024736694991588593, -0.029238926246762276, -0.01174161583185196, -0.0227030161768198, -0.01580897346138954, 0.024890178814530373, -0.007655073422938585, -0.03650389239192009, 0.0002781918738037348, 0.04003405198454857, -0.009612008929252625, -0.017331033945083618, 0.04481767117977142, -0.03867826610803604, 0.012003820389509201, 0.01908332295715809, 0.002980170538648963, 0.0369131863117218, 0.034252773970365524, 0.0004620543331839144, -0.017932184040546417, -0.021513504907488823, 0.05648254603147507, -0.030441226437687874, 0.015067128464579582, -0.06461726129055023, 0.02739710360765457, -0.04090379923582077, -0.03957359492778778, -0.05781275033950806, -0.00930503848940134, 0.002113618887960911, 0.02844591997563839, -0.009432943537831306, 0.02256232127547264, 0.022216979414224625, 0.04425489157438278, 0.0066702100448310375, -0.027601750567555428, -0.014159007929265499, -0.052543092519044876, 0.012886359356343746, -0.07044969499111176, 0.013378791511058807, 0.03448300436139107, 0.03926662355661392, 0.027320360764861107, 0.0106991957873106, -0.06518004089593887, -0.025452958419919014, 0.02696222998201847, -0.018405430018901825, -0.02801104448735714, -0.026476193219423294, -0.032743506133556366, -0.0017650795634835958, -0.03259002044796944, 0.033510930836200714, -0.0031544400844722986, 0.059142954647541046, -0.037629447877407074, 0.030850520357489586, 0.01641012355685234, -0.018418220803141594, -0.0037923629861325026, -0.005845227278769016, 0.025299472734332085, 0.0059379576705396175, 0.017369406297802925, -0.03581320866942406, -0.008045181632041931, -0.013685761950910091, -0.03338302671909332, -0.03095284476876259, 0.038345713168382645, -0.03660621494054794, 0.02040073834359646, 0.040545668452978134, 0.036734119057655334, -0.013545067049562931, -0.021283278241753578, -0.06824973970651627, -0.028343595564365387, 0.009867818094789982, -0.05704532563686371, 0.014862481504678726, -0.02726919949054718, 0.03747596591711044, -0.019147275015711784, -0.012995078228414059, 0.008998068980872631, -0.02317626215517521, -0.020592594519257545, -0.0469408817589283, 0.0027371523901820183, 0.0023294573184102774, -0.021014679223299026, -0.02931566908955574, 0.024685531854629517, -0.010871866717934608, 0.010616058483719826, -0.009765494614839554, 0.008492846041917801, -0.015924086794257164, 0.030671454966068268, 0.06932413578033447, 0.054026782512664795, -0.04205494001507759, -0.02242162637412548, 0.004713274072855711, -0.01818799413740635, 0.025299472734332085, -0.010603267699480057, 0.0012326778378337622, 0.024416932836174965, 0.019697263836860657, 0.020323995500802994, -0.019825167953968048, 0.007476007100194693, 0.03872942551970482, 0.007418450433760881, -0.05366865172982216, 0.0031304580625146627, 0.024979712441563606, -0.02185884676873684, 0.00908760167658329, 0.0014804924139752984, -0.01890425756573677, -0.010475363582372665, -0.0015820164699107409, 0.011978238821029663, 0.016640352085232735, 0.0744914710521698, 0.039650335907936096, 0.022997194901108742, 0.008179481141269207, 0.01034106407314539, 0.04369211569428444, 0.051826827228069305, 0.0075591448694467545, 0.0031624340917915106, 0.03542949631810188, -0.00468769297003746, 0.015872925519943237, -0.016934530809521675, 0.04543161392211914, -0.07024504989385605, 0.007814954034984112, 0.02258790284395218, 0.021654199808835983, -0.04517580568790436, 0.00967596098780632, -0.034406259655952454, -0.03241095319390297, 0.011415460146963596, -0.008000414818525314, 0.003287140978500247, 0.024442514404654503, 0.0100468834862113, 0.00022782955784350634, -0.055050015449523926, -0.053464002907276154, 0.025145988911390305, 0.004818795248866081, 0.026936648413538933, -0.0022431218530982733, -0.01437644474208355, 0.036120180040597916, -0.019403085112571716, -0.014696205966174603, 0.02303556725382805, -0.003269554115831852, -0.03647831082344055, -0.03448300436139107, 0.020490271970629692, -0.04277120158076286, -0.022792549803853035, -0.04722227156162262, -0.0012990281684324145, -0.007591120898723602, -0.004495836794376373, -0.021807685494422913, -0.06037083640694618, 0.0300575140863657, -0.046096716076135635, -0.016090363264083862, -0.034534163773059845, -0.044357217848300934, -0.06318473070859909, -0.0014413218013942242, 0.008991673588752747, 0.0036100992001593113, 0.03402254730463028, -0.02944357320666313, 0.01658918894827366, -0.014760158024728298, 0.0032967336010187864, -0.009343409910798073, -0.017228711396455765, 0.06216149777173996, -0.003456614213064313, 0.001386962365359068, -0.04371769353747368, 0.0036772489547729492, -0.016908951103687286, 0.012732874602079391, -0.02389252558350563, 0.02344486117362976, -0.04571300372481346, -0.026348289102315903, 0.042592138051986694, 0.00472286669537425, 0.001329405466094613, 0.007188222371041775, -0.029980771243572235, -0.01727987267076969, -0.019914701581001282, -0.01685778796672821, -0.019735636189579964, -0.013186934404075146, 0.024672742933034897, -0.010916633531451225, 0.012566599063575268, -0.003977824002504349, -0.0024173916317522526, 0.0474780797958374, -0.025107616558670998, -0.043768856674432755, 0.011850334703922272, -0.00959921907633543, -0.0712171196937561, -0.011287556029856205, -0.0171519685536623, -0.026194803416728973, 0.0024429725017398596, 0.012771246023476124, 0.06354286521673203, 0.0017762711504474282, 0.025683186948299408, 0.0422595851123333, 0.014491559006273746, 0.03560855984687805, -0.059603411704301834, -0.03857593983411789, 0.0542314276099205, -0.02652735449373722, -0.0100468834862113, -0.06814742088317871, -0.044945575296878815, 0.00641759904101491, -0.04320607706904411, -0.002545295748859644, -0.022536739706993103, -0.03663179650902748, -0.0014429205330088735, 0.050957079976797104, -0.011620107106864452, 0.022089075297117233, -0.012630551122128963, -0.022498369216918945, 0.06942646205425262, 0.0042975847609341145, 0.043922342360019684, -0.023943686857819557, -0.03683644160628319, 0.03110632859170437, 0.006139406934380531, 0.020477481186389923, 0.015604326501488686, -0.02171815186738968, 0.014900852926075459, -0.017100807279348373, 0.010206764563918114, -0.051391955465078354, -0.021206535398960114, 0.04387117922306061, 0.036887604743242264, 0.020451899617910385, -0.004994663409888744, -0.04530370980501175, -0.0022239363752305508, -0.01327646803110838, -0.034227196127176285, 0.0006866863113828003, -0.007987624034285545, -0.01685778796672821, 0.01861007697880268, -0.030671454966068268, -0.00020194891840219498, 0.056636031717061996, 0.0184565931558609, 0.045994389802217484, 0.07822627574205399, 0.029827285557985306, -0.01771474815905094, 0.008978882804512978, -0.028266852721571922, 0.0486803837120533, 0.01531014684587717, 0.01363459974527359, -0.06569165736436844, -0.02888079360127449, 0.0032631587237119675, 0.04645484685897827, -0.023956477642059326, -0.03765502944588661, 0.012771246023476124, -0.033203959465026855, 0.013033449649810791, -0.02494134195148945, 0.020554224029183388, 0.030876101925969124, 0.003133655758574605, -0.023125100880861282, -0.007277755532413721, -0.043333981186151505, -0.05438491329550743, 0.0013262078864499927, -0.005189717747271061, 0.020643755793571472, 0.0262459646910429, -0.014990385621786118, -0.020567012950778008, 0.05103382095694542, -0.05029197782278061, 0.04379443824291229, 0.012298000045120716, -0.01684499904513359, -0.003227985231205821, -0.0020096965599805117, 0.0013358007417991757, -0.064463771879673, 0.05571512132883072, 0.0360434353351593, -0.03768061101436615, -0.013647390529513359, -0.027090134099125862, -0.040238697081804276, -0.007757396902889013, 0.03299931436777115, -0.013557856902480125, 0.04760598763823509, -0.08764003962278366, 0.00025141192600131035, 0.01918564736843109, 0.003795560449361801, 0.03389464318752289, 0.03665737807750702, -0.06139406934380531, -0.017625214532017708, 0.01684499904513359, 0.039317786693573, -0.03297373279929161, 0.024109963327646255, -0.00790448673069477, -0.010667219758033752, -0.013570647686719894, -0.03665737807750702, -0.025312263518571854, -0.03821780905127525, 0.021155374124646187, -0.04502232000231743, -0.02288208156824112, 0.008371337316930294, 0.04149216040968895, 0.04561067745089531, -0.03279466554522514, -0.005998712498694658, -0.018840305507183075, 0.048603639006614685, -0.024161124601960182, 0.011479412205517292, 0.034815553575754166, 0.01400552224367857, -0.00032056018244475126, 0.0025420982856303453, 0.024225076660513878, 0.01772753894329071, 0.005343202967196703, -0.010731171816587448, -0.05351516604423523, 0.02022167295217514, 0.02185884676873684, 0.03371557593345642, 0.0008769439300522208, -0.0016483668005093932, -0.049345485866069794, 0.015642696991562843, -0.009548056870698929, 0.007725420407950878, 0.017817070707678795, -0.033920224756002426, -0.04630136117339134, -0.025145988911390305, -0.022242560982704163, -0.015757812187075615, 0.03079935908317566, 0.03225746750831604, 0.09137484431266785, 0.02127048745751381, 0.005717322696000338, -0.04031544178724289, 0.009484104812145233, -0.011671268381178379, -0.03033890388906002, 0.08114250004291534, -0.013545067049562931, 0.028266852721571922, -0.020298413932323456, -0.015054337680339813, -0.0021040260326117277, -0.02446809597313404, -0.0026284337509423494, 0.04310375452041626, -0.0028826436027884483, -0.03750154376029968, 0.01996586285531521, 0.06267311424016953, 0.007188222371041775, 0.012969497591257095, 0.004802807234227657, -0.0032471707090735435, 0.02680874429643154, -0.012879964895546436, 0.0398549847304821, -0.007629492320120335, 0.012841593474149704, 0.0073544979095458984, 0.014708995819091797, 0.031464461237192154, 0.041108448058366776, -0.0004112923052161932, -0.02859940566122532, 0.014849690720438957, 0.0021535889245569706, 0.014645043760538101, -0.017778700217604637, 0.03693876788020134, -0.015757812187075615, -0.04445954039692879, -0.025209940969944, -0.01642291434109211, -0.02170536294579506, -0.010104441083967686, -0.03785967826843262, -0.030824940651655197, -0.02801104448735714, -0.040392182767391205, 0.047861795872449875, -0.004278399515897036, 0.006433587055653334, -0.048322249203920364, 0.008927721530199051, 0.029085440561175346, 0.023265795782208443, -0.013314839452505112, 0.017791491001844406, -0.016499657183885574, 0.0009960548486560583, 0.0021024271845817566, 0.0069771804846823215, -0.04343630373477936, 0.023137889802455902, 0.026194803416728973, 0.016064781695604324, -0.002778721274808049, -0.0256448145955801, 0.020413529127836227, -0.02900869771838188, 0.0016004027565941215, -0.019697263836860657, 0.011754406616091728, 0.026028528809547424, 0.01114046573638916, -0.050036169588565826, -0.022485578432679176, 0.01144104078412056, 0.029852867126464844, 0.006097838282585144, 0.0008085950976237655, -0.002756337868049741, -0.00908760167658329, -6.999763718340546e-05, -0.006695790681988001, -0.01011083647608757, 0.014159007929265499, -0.019748426973819733, 0.043896760791540146, -0.029827285557985306, 0.010264321230351925, -0.008895745500922203, 0.006529515143483877, -0.007546354550868273, -0.004674902651458979, -0.02446809597313404, -0.026783162727952003, 0.01891704834997654, 0.007105084601789713, 0.03663179650902748, -0.006478353403508663, 0.005176926963031292, 0.025145988911390305, -0.007527168840169907, 0.0262459646910429, -0.007105084601789713, -0.02918776497244835, -0.03253885731101036, 0.018955418840050697, -0.004876351915299892, -0.01877635344862938, -0.012246837839484215, -0.013545067049562931, -0.010980585590004921, 0.035557400435209274, 0.0056821489706635475, -0.015655487775802612, -0.006392017938196659, -0.028241273015737534, 1.8860890122596174e-05, 0.007239384111016989, 0.010648034512996674, 0.008269013836979866, -0.013161353766918182, -0.02245999686419964, 0.0213983915746212, -0.0038275367114692926, 0.013532276265323162, -0.034534163773059845, 0.03125981613993645, -0.011671268381178379, 0.006555096246302128, 0.030236579477787018, -0.0005955544766038656, -0.009797470644116402, -0.03719457611441612, -0.012502647005021572, 0.013839246705174446, -0.0103986207395792, 0.04474093019962311, 0.02302277646958828, -0.029520316049456596, 0.01656360924243927, 0.01891704834997654, 0.031899336725473404, -0.01239392813295126, -0.002505325712263584, 0.025478539988398552, -0.03693876788020134, -0.07336591184139252, 0.01758684404194355, -0.015745021402835846, -0.0023822179064154625, -0.03120865300297737, 0.010737567208707333, 0.004610950592905283, 0.004326363559812307, -0.0002608048962429166, 0.013724133372306824, -0.024711113423109055, -0.009215505793690681, -0.02987844869494438, -0.010967794805765152, 0.01907053403556347, 0.024698322638869286, -0.02783197909593582, 0.05627789720892906, 0.007463216781616211, 0.025759929791092873, -0.029059860855340958, -0.01744614914059639, -0.034636490046978, -0.022076284512877464, 0.028701728209853172, -0.01979958824813366, 0.0002899830578826368, -0.021615829318761826, -0.04307817295193672, 0.01502875704318285, 0.01685778796672821, -0.013979941606521606, 0.02816453017294407, -0.007245779503136873, 0.01386482734233141, -0.06395215541124344, 0.027090134099125862, 0.011434645392000675, -0.006663814652711153, -0.027499428018927574, -0.01048175897449255, -0.0005252070841379464, -0.039496853947639465, 0.0037795724347233772, 0.021884428337216377, -0.014478768222033978, 0.01614152453839779, -0.0797099694609642, 0.0023454453330487013, -0.0049786753952503204, -0.013250887393951416, 0.0008473660564050078, 0.019748426973819733, -0.004335956182330847, -0.0288552138954401, -0.006049874238669872, 0.0022031518165022135, 0.034815553575754166, -0.009349805302917957, -0.026002947241067886, -0.02302277646958828, -0.0015212619910016656, 0.007303336169570684, 0.0016771453665569425, 0.023802993819117546, 0.012611365877091885, 0.022370465099811554, -0.018124042078852654, -0.041287511587142944, -0.052108217030763626, 0.021500715985894203, 0.017983347177505493, 0.016090363264083862, 0.013148563914000988, 0.016512447968125343, -0.003456614213064313, -0.011677663773298264, 0.01687057875096798, -0.015284565277397633, -0.015322936698794365, 0.009234691970050335, 0.00371881783939898, 0.000238821332459338, 0.0038786984514445066, -0.0568406768143177, 0.009253877215087414, -0.003082494018599391, 0.024250658228993416, -0.015425260178744793, 0.02977612428367138, 0.016077572479844093, -0.028036626055836678, -0.007201012689620256, -0.004393513314425945, 0.0194926168769598, -0.01716475933790207, -0.05909179523587227, -0.02565760537981987, -0.018392641097307205, 0.011146861128509045, 0.02403322048485279, -0.001536450581625104, -0.009490500204265118, -0.0036388777662068605, 0.013340420089662075, 0.027320360764861107, -0.0419270358979702, -0.004291189834475517, -0.028062205761671066, 0.014568301849067211, -0.011946262791752815, 0.018136831000447273, 0.05985921993851662, -0.01091023813933134, -0.021577458828687668, -0.049166418612003326, 0.010622452944517136, 0.04269446060061455, 0.0021503912284970284, 0.01216370053589344, -0.02272859588265419, -0.014542720280587673, -0.026015738025307655, -0.01947982795536518, -0.026476193219423294, -0.037143412977457047, 0.005621394608169794, 0.021321648731827736, 0.0258110910654068, -0.013199725188314915, 0.066203273832798, -0.007034737151116133, 0.033945806324481964, -0.027090134099125862, 0.03123423457145691, -0.006171382963657379, 0.002802703296765685, 0.03259002044796944, -0.04658275097608566, -0.02464716136455536, 0.013161353766918182, -0.0023742238990962505, 0.018431011587381363, -4.196860390948132e-05, -0.007942858152091503, -0.055356986820697784, 0.019275180995464325, -0.009010858833789825, 0.01626942865550518, 0.007770187221467495, -0.02903427928686142, 0.0004092938033863902, -0.02127048745751381, -0.020503060892224312, -0.010564896278083324, 0.01027071662247181, -0.026732001453638077, 0.0009464919567108154, -0.0024477688129991293, -0.0016691513592377305, 0.010584082454442978, 0.024851808324456215, -0.07039853185415268, 0.008844583295285702, 0.03386906161904335, 0.0023582358844578266, -0.007053922861814499, -0.006714976392686367, 0.0013741719303652644, -0.010436992160975933, -0.020132139325141907, -0.011396274901926517, -0.0043839202262461185, -0.0524919293820858, -0.00030417245579883456, -0.03210398182272911, 0.016908951103687286, 0.012477066367864609, 0.024596000090241432, 0.0050650108605623245, -0.034969039261341095, 0.020579803735017776, -0.0190577432513237, 0.030287742614746094, 0.01612873375415802, 0.037757351994514465, -0.04182470962405205, -0.014171797782182693, -0.034687649458646774, -0.059910379350185394, -0.009976536966860294, 0.0017682771431282163, -0.004460663069039583, 0.025261102244257927, 0.011357903480529785, 0.011204417794942856, -0.010206764563918114, 0.018584497272968292, -0.014069474302232265, -0.021897219121456146, 0.030313322320580482, -0.0005479900282807648, 0.01727987267076969, 0.012931126169860363, 0.03698992729187012, 0.006631838623434305, 0.0015076721319928765, 0.004844375886023045, 0.014082265086472034, 0.008390523493289948, 0.02888079360127449, 0.011543364264070988, 0.030108675360679626, -0.027601750567555428, -0.012182885780930519, -0.02036236599087715, 0.0009728721925057471, 0.02597736567258835, -0.008038786239922047, -0.00931782927364111, 0.012758455239236355, 0.04269446060061455, -0.011959053575992584, -0.02696222998201847, 0.0300575140863657, 0.019032161682844162, -0.0025580863002687693, 0.023956477642059326, 0.03021099977195263, -0.03184817358851433, -0.012809617444872856, -0.0029945597052574158, -0.013481114991009235, 0.039829403162002563, 0.001723510678857565, 0.0300575140863657, -0.031157491728663445, 0.037322480231523514, 0.004000207409262657, -0.009093997068703175, 0.022766968235373497, 0.0013142168754711747, -0.00828820001333952, -0.007156246341764927, 0.01479852944612503, 0.018124042078852654, -0.002215942367911339, 0.0019649299792945385, 0.0012694502947852015, -0.012227652594447136, 0.003344697877764702, -0.016985692083835602, 0.03179701417684555, -0.007373683620244265, 0.0032407755497843027, 0.014593882486224174, 0.0015044745523482561, 0.0227030161768198, -0.01034106407314539, 0.00289543392136693, -0.005483897402882576, 0.010456177406013012, 0.02051585167646408, -0.012950311414897442, 0.007073108572512865, -0.01502875704318285, -0.04064799100160599, -0.002980170538648963, -0.020183300599455833, 0.0035109734162688255, 0.005260064732283354, 0.03077377751469612, -0.0003691238525789231, -0.019134486094117165, 0.02578550949692726, 0.060012705624103546, 0.029238926246762276, 0.026706421747803688, 0.008998068980872631, 0.0014788936823606491, 0.0057461014948785305, -0.02127048745751381, 0.018392641097307205, -0.03780851513147354, -0.05822204425930977, -0.018942629918456078, 0.0009648781851865351, 0.013698551803827286, -0.022370465099811554, -0.02182047627866268, -0.019850749522447586, -0.01978679746389389, 0.011684059165418148, 0.04681297764182091, -0.0037923629861325026, -0.0035653328523039818, -0.004806004464626312, -0.007412055041640997, 0.007789372932165861, -0.0100468834862113, 0.02724361978471279, 0.007034737151116133, 0.01804729923605919, -0.003143248613923788, 0.027627332136034966, 0.017356615513563156, -0.017535680904984474, -0.0024765473790466785, -0.016908951103687286, -0.020886775106191635, 0.027064552530646324, -0.022319303825497627, 0.016653141006827354, 0.012489856220781803, 0.006449575070291758, -0.0006547102238982916, -0.022498369216918945, 0.03619692102074623, -0.020643755793571472, -0.011409064754843712, 0.01876356266438961, 0.05581744387745857, 0.06548701226711273, 0.021935589611530304, 0.022690225392580032, -0.024826226755976677, -0.006727767176926136, 0.018111251294612885, 0.01964610256254673, -0.0322318859398365, -0.021666990593075752, 0.04530370980501175, 0.010347459465265274, 0.029238926246762276, 0.018239155411720276, 0.022792549803853035, -0.006328065879642963, 0.010737567208707333, -0.030006352812051773, 0.00880621187388897, 0.008173085749149323, 0.01818799413740635, 0.034073710441589355, 0.02610526978969574, -0.017382197082042694, 0.051264047622680664, 0.014964804984629154, -0.005618196912109852, 0.0061585926450788975, 0.05765926465392113, 0.02770407497882843, -0.04284794628620148, 0.0398549847304821, 0.031055167317390442, 0.00468769297003746, 0.012707293964922428, 0.03077377751469612, -0.02302277646958828, -0.004869956988841295, 0.008863769471645355, 0.004009800497442484, -0.02509482577443123, -0.0054231430403888226, 0.012860778719186783, 0.024250658228993416, -0.009612008929252625, -0.03542949631810188, -0.024109963327646255, 0.0038115486968308687, -0.03576204553246498, -0.015629908069968224, 0.030006352812051773, 0.03220630809664726, -0.007891695946455002, -0.0026460206136107445, 0.00871667917817831, -0.03588994964957237, 0.005100184585899115, -0.0013605821877717972, -0.010986980982124805, -0.011453831568360329, -0.0013381988974288106, -0.01626942865550518, -0.020298413932323456, -0.013992732390761375, -0.010168393142521381, -0.023342536762356758, 0.032334212213754654, 0.04857805743813515, 0.015770601108670235, 0.016358962282538414, 0.0094457333907485, 0.0237390398979187, 0.008793422020971775, 0.05883598327636719, 0.013596228323876858, -0.03821780905127525, 0.017382197082042694, 0.002962583675980568, -0.012509042397141457, 0.012266024015843868, 0.04146657884120941, 0.015105499885976315, 0.00571092776954174, 0.037015508860349655, -0.02229372225701809, -0.014836900867521763, -0.012988682836294174, 0.0017826664261519909, -0.05011291056871414, -0.011364297941327095, -0.037143412977457047, 9.133167623076588e-05, 0.009580032899975777, 0.04645484685897827, 0.00924748182296753, -0.0011903095291927457, 0.042438652366399765, 0.013302048668265343, 0.009183529764413834, -0.012636946514248848, 0.009260272607207298, -0.0007410456310026348, -0.002326259622350335, -0.01363459974527359, 0.0019377503776922822, -0.02230651304125786, -0.002361433347687125, -0.004268806427717209, -0.003354290733113885, -0.005944353062659502, -0.004092938266694546, -0.004921118728816509, 0.03333186358213425, -0.03698992729187012, 0.01818799413740635, -0.007495192810893059, -0.009132368490099907, -0.013378791511058807, 0.003064907155930996, -0.009701542556285858, -0.0007318524876609445, -0.013001473620533943, 0.020426319912075996, -0.010161997750401497, 0.019876331090927124, 0.003939453046768904, 0.003955441061407328, -0.04765714704990387, -0.03049238957464695, 0.020017025992274284, -0.019032161682844162, 0.022089075297117233, 0.020567012950778008, 0.0020400737412273884, 0.015489212237298489, -0.03542949631810188, 0.005231286399066448, 0.027448266744613647, -0.006862066686153412, 0.014095055870711803, 0.01304624043405056, -0.008537612855434418, -0.00908760167658329, -0.029392411932349205, 0.0038659079000353813, 0.014529930427670479, -0.030390065163373947, -0.037910837680101395, -0.022830920293927193, -0.03241095319390297, -0.042438652366399765, -0.009381781332194805, 0.01614152453839779, -0.04548277333378792, 0.01862286776304245, 0.005343202967196703, 0.001443719957023859, 0.02230651304125786, -0.03108074888586998, 0.026015738025307655, -0.00967596098780632, 0.016384541988372803, -0.002708373824134469, 0.022396044805645943, -0.009010858833789825, -0.015719439834356308, -0.012266024015843868, -0.008038786239922047, -0.0076614683493971825, 0.03212956339120865, 0.028650566935539246, -0.0003547346277628094, -0.007156246341764927, 0.004028985742479563, -0.013020658865571022, -0.01479852944612503, -0.003574925707653165, -0.0022239363752305508, -0.0007398464949801564, -0.03704109042882919, 0.027678493410348892, 0.023982059210538864, -0.0033862667623907328, 0.0030792963225394487, 0.022101866081357002, 0.027755236253142357, 0.007981229573488235, -0.011261974461376667, 0.025568071752786636, 0.012221257202327251, 0.001201501116156578, 0.059449926018714905, 0.02066933736205101, -0.03558298200368881, -0.015796182677149773, -0.019914701581001282, 0.03606901690363884, 0.007002761121839285, -0.007930067367851734, -0.01349390484392643, 0.009202715009450912, 0.006785323843359947, 0.0005260065081529319, -0.012521832250058651, -0.011626502498984337, 0.013110192492604256, -0.03049238957464695, 0.010085254907608032, -0.004726064391434193, -0.03591553121805191, -0.032308630645275116, -0.002722762990742922, 0.02081003226339817, -0.012547412887215614, -0.007488797418773174, 0.004278399515897036, 0.0007494393503293395, -0.006810904946178198, -0.019121695309877396, 0.00010442188067827374, -0.0001497879420639947, 0.002596457488834858, -0.025452958419919014, -0.006683000363409519, 0.03545507788658142, 0.05985921993851662, 0.009931770153343678, -0.047708310186862946, 0.006855671294033527, 0.007015551440417767, -0.0069771804846823215, -0.007258569821715355, 0.008614355698227882, -0.0363759882748127, -0.053719811141490936, -0.034406259655952454, -0.004662112332880497, -0.006830090191215277, 0.011076513677835464, 0.04036660119891167, -0.03207840397953987, -0.04269446060061455, -0.0057844724506139755, 0.016205476596951485, -0.019620520994067192, -0.02141118235886097, 0.021526295691728592, 0.04428047314286232, 0.010948609560728073, 0.025721557438373566, 0.020426319912075996, -0.018008926883339882, 0.0037795724347233772, -0.01641012355685234, 0.02052864246070385, -0.004674902651458979, -0.0007962043746374547, -0.001323809614405036, 0.01789381355047226, 0.0017331034177914262, -0.0002056461526080966, -0.00432956125587225, -0.017088016495108604, -0.0038946864660829306, -0.011504992842674255, 0.02872730977833271, -0.011677663773298264, -0.01876356266438961, 0.04701762646436691, -0.0005036232178099453, -0.026706421747803688, 0.00806436687707901, -0.027320360764861107, 0.011082909069955349, 0.01891704834997654, -0.020746080204844475, 0.005346400197595358, -0.0158473439514637, 0.002607649192214012, -0.023854155093431473, -0.02596457675099373, -0.021756524220108986, 0.009880607947707176, 0.00047164715942926705, -0.03929220512509346, -0.01830310747027397, 0.006430389359593391, -0.017510101199150085, -0.027652913704514503, 0.003109673736616969, 0.03404812887310982, -0.004969082772731781, 0.01451713964343071, -0.010373040102422237, -0.02109142206609249, 0.014529930427670479, -0.009260272607207298, -0.011613711714744568, 0.02008097805082798, -0.039241041988134384, -0.03049238957464695, 0.003795560449361801, 0.01727987267076969, 0.03141329810023308, 0.0034917877055704594, -0.0013429953251034021, 0.018251946195960045, 0.021948380395770073, 8.658522710902616e-05, -0.008569588884711266, -0.009496895596385002, 0.015578745864331722, 0.0019137683557346463, 0.0024893376976251602, -0.010430596768856049, -0.008230642415583134, -0.023636717349290848, 0.03161794692277908, -0.009068415500223637, 0.023073937743902206, -0.007578330580145121, 0.021360021084547043, 0.023943686857819557, 0.05062452703714371, 0.007412055041640997, -0.004470255691558123, 0.017855443060398102, 0.02916218340396881, -0.007360893301665783, 0.02934125065803528, 0.004716471768915653, -0.03228304907679558, 0.018981000408530235, 0.007552749942988157, 0.01092942338436842, 0.04589206725358963, -0.03412486985325813, -0.007699839770793915, -0.026501774787902832, -0.01341716293245554, -0.028522662818431854, -0.0431293360888958, -0.01487527135759592, 0.008703888393938541, -0.020157720893621445, 0.00011111687490483746, 0.021001888439059258, 0.011121280491352081, -0.046557169407606125, 0.022037914022803307, 0.01158173568546772, 0.010705591179430485, -0.0003115669242106378, 0.015041547827422619, -0.048296667635440826, 0.018111251294612885, -0.004172878339886665, -0.04768272861838341, 0.004259213805198669, -0.02842033840715885, 0.004208052065223455, 0.003846722189337015, 0.01908332295715809, -0.0023486430291086435, 0.002666804939508438, 0.02801104448735714, -0.009842237457633018, -0.02303556725382805, -0.005151346325874329, -0.019607732072472572, 0.001201501116156578, 0.008966092020273209, -0.00509378919377923, -0.001774672418832779, -0.007514378521591425, 0.0026939846575260162, 0.01487527135759592, -0.00908760167658329, -0.021001888439059258, -0.0025532899890094995, -0.019863540306687355, 0.007642282638698816, 0.010980585590004921, -0.04862922057509422, -0.0014796929899603128, 0.025401797145605087, 0.044664185494184494, -0.03668295592069626, 0.015015966258943081, 0.00010037491301773116, -0.019582150503993034, -0.02607969008386135, 0.030415646731853485, 0.004828387871384621, -0.03361325338482857, -0.001357384491711855, 0.02783197909593582, -0.006996366195380688, -0.001380567206069827, 0.033920224756002426, 0.02376462146639824, 0.02112979255616665, -0.0106991957873106, -0.03660621494054794, 0.016461284831166267, 0.004761238116770983, -0.009918979369103909, 0.013941570185124874, 0.01158173568546772, 0.0019201635150238872, -0.024109963327646255, 0.023201841861009598, -0.005144950933754444, -0.0010288303019478917, -0.0005375978071242571, -0.015527583658695221, 0.003642075462266803, 0.03942010924220085, 0.006216149777173996, 0.007546354550868273, -0.046531591564416885, 0.03284582868218422, -0.004441477358341217, 0.0028922362253069878, -0.005250472109764814, 0.005144950933754444, -0.00010552105959504843, -0.0005615798872895539, 0.03913871943950653, 0.026936648413538933, -0.0017363011138513684, -0.0007454423466697335, -0.013813666068017483, -0.002769128419458866, 0.008185876533389091, -0.025555282831192017, 0.005103382281959057, 0.02813894860446453, -0.026501774787902832, -0.007431240752339363, 0.003821141319349408, 0.05714764818549156, 0.0003541350597515702, -0.007552749942988157, 0.004160088021308184, 0.012566599063575268, -0.043001431971788406, -0.04765714704990387, 0.01400552224367857, -0.02125769667327404, 0.0027371523901820183, -0.01467062532901764, 0.005909179337322712, 0.03855036199092865, 0.02680874429643154, -0.011901496909558773, 0.00023642313317395747, -0.018085669726133347, 0.03494345769286156, -0.0016403727931901813, -0.0026028528809547424, 0.017088016495108604, -0.011671268381178379, -0.011524179019033909, -0.013813666068017483, -0.021347230300307274, 0.006420796737074852, -0.008569588884711266, -0.007738211192190647, 0.0015180642949417233, -0.014632253907620907, -0.042438652366399765, 0.02726919949054718, -0.04422931373119354, -0.015271775424480438, 0.006174580659717321, 0.011978238821029663, -0.029852867126464844, 0.009957350790500641, 0.042873527854681015, 0.005557442549616098, 0.00407375255599618, 0.003140050917863846, 0.010775938630104065, -0.024455305188894272, -0.033203959465026855, -0.00663823401555419, -0.009682356379926205, -0.0028059009928256273, -0.018392641097307205, 0.013059030286967754, 0.013071821071207523, 0.011402669362723827, 0.01626942865550518, -0.022332092747092247, 0.06144523248076439, 0.025133198127150536, 0.016640352085232735, -0.0015172649873420596, -0.0009472913225181401, -0.020733289420604706, 0.019134486094117165, 0.03427835553884506, 0.00945852417498827, -0.008665516972541809, -0.011735220439732075, -0.020017025992274284, 0.015502003021538258, 0.029648220166563988, -0.007034737151116133, 0.0014173396630212665, 0.016512447968125343, 0.040520086884498596, 0.05453839898109436, -0.03913871943950653, 0.005186520051211119, -0.008019600994884968, 0.030850520357489586, 0.012541018426418304, -0.014095055870711803, -0.017510101199150085, 0.03141329810023308, -0.024698322638869286, -0.03606901690363884, -0.021641410887241364, -0.013302048668265343, -0.010718381963670254, 0.027755236253142357, 0.04177355021238327, 0.00020684525952674448, -0.020029814913868904, 0.04036660119891167, 0.03243653476238251, 0.007418450433760881, -0.03770619258284569, -0.00929864402860403, 0.012118933722376823, 0.01400552224367857, 0.016051990911364555, -0.023994849994778633, 0.019403085112571716, 0.033510930836200714, 0.02332974784076214, -0.019991444423794746, 0.0017394986934959888, -0.008595169521868229, 0.009931770153343678, 0.033357445150613785, -0.015015966258943081, 0.00019655295182019472, -0.011888706125319004, -0.019147275015711784, -0.002598056336864829, 0.0019153670873492956, -0.021027470007538795, 0.0022607087157666683, 0.03461090847849846, -0.015872925519943237, -0.014708995819091797, -0.04241307079792023, -0.02724361978471279, 0.00841610413044691, 0.029366830363869667, 0.038499198853969574, -0.0020656546112149954, -0.020055396482348442, 0.004885945003479719, -0.0005811652517877519, 0.025145988911390305, 0.03486671671271324, 0.013302048668265343, -0.0052344840951263905, 0.03609459847211838, 0.015527583658695221, -0.005883598700165749, -0.0034502188209444284, 0.008838187903165817, -0.017331033945083618, 0.011236393824219704, 0.012195676565170288], properties={'file_path': '../data/bao-chi/nvidia.md', 'file_name': 'nvidia.md', 'file_size': 4024, 'creation_date': '2024-11-02', 'last_modified_date': '2024-11-02', '_node_content': '{\"id_\": \"c2ccf513-2709-42a4-b551-826acb90ac3e\", \"embedding\": null, \"metadata\": {\"file_path\": \"../data/bao-chi/nvidia.md\", \"file_name\": \"nvidia.md\", \"file_size\": 4024, \"creation_date\": \"2024-11-02\", \"last_modified_date\": \"2024-11-02\"}, \"excluded_embed_metadata_keys\": [\"file_name\", \"file_type\", \"file_size\", \"creation_date\", \"last_modified_date\", \"last_accessed_date\"], \"excluded_llm_metadata_keys\": [\"file_name\", \"file_type\", \"file_size\", \"creation_date\", \"last_modified_date\", \"last_accessed_date\"], \"relationships\": {\"1\": {\"node_id\": \"8104bcb1-9b0d-48f6-a509-74725486e296\", \"node_type\": \"4\", \"metadata\": {\"file_path\": \"../data/bao-chi/nvidia.md\", \"file_name\": \"nvidia.md\", \"file_size\": 4024, \"creation_date\": \"2024-11-02\", \"last_modified_date\": \"2024-11-02\"}, \"hash\": \"fbab42538d974c3192ff922bb309232c189e73a45ad0b662f7a1a0ceaaec2566\", \"class_name\": \"RelatedNodeInfo\"}, \"2\": {\"node_id\": \"c55f0bf3-2853-4e85-b3c9-a1d1e8d7480f\", \"node_type\": \"1\", \"metadata\": {\"file_path\": \"../data/bao-chi/nvidia.md\", \"file_name\": \"nvidia.md\", \"file_size\": 4024, \"creation_date\": \"2024-11-02\", \"last_modified_date\": \"2024-11-02\"}, \"hash\": \"6af098249ed8d4929da8a045fc52bbd4453573cf30e1978287c82d8bd8a2a533\", \"class_name\": \"RelatedNodeInfo\"}}, \"text\": \"\", \"mimetype\": \"text/plain\", \"start_char_idx\": 3291, \"end_char_idx\": 4020, \"text_template\": \"{metadata_str}\\\\n\\\\n{content}\", \"metadata_template\": \"{key}: {value}\", \"metadata_seperator\": \"\\\\n\", \"class_name\": \"TextNode\"}', '_node_type': 'TextNode', 'document_id': '8104bcb1-9b0d-48f6-a509-74725486e296', 'doc_id': '8104bcb1-9b0d-48f6-a509-74725486e296', 'ref_doc_id': '8104bcb1-9b0d-48f6-a509-74725486e296'}, text='INTC: is this perennial leader facing new challenges?\\nWith valuations skyrocketing in 2024, many investors are uneasy putting more money into stocks. Sure, there are always opportunities in the stock market – but finding them feels more difficult now than a year ago.\\n\\nUnsure where to invest next? One of the best ways to discover new high-potential opportunities is to look at the top performing portfolios this year.\\n\\nInvesting.com’s ProPicks are 6 model portfolios that identify the best stocks for investors to buy right now. For example, ProPicks found 9 overlooked stocks that jumped over 25% this year alone.\\n\\nThe new stocks that made the monthly cut could yield enormous returns in the coming years.\\n\\nIs INTC one of them?', id_='c2ccf513-2709-42a4-b551-826acb90ac3e')"
      ]
     },
     "execution_count": 43,
     "metadata": {},
     "output_type": "execute_result"
    }
   ],
   "source": [
    "list(index.property_graph_store.graph.nodes.values())[-1]"
   ]
  },
  {
   "cell_type": "code",
   "execution_count": 44,
   "metadata": {
    "id": "Vybr2Ba68bQc",
    "outputId": "71f43755-b82d-4ac7-eac6-32c779eb3cca"
   },
   "outputs": [
    {
     "data": {
      "text/plain": [
       "[]"
      ]
     },
     "execution_count": 44,
     "metadata": {},
     "output_type": "execute_result"
    }
   ],
   "source": [
    "list(index.property_graph_store.graph.relations.values())"
   ]
  },
  {
   "cell_type": "code",
   "execution_count": null,
   "metadata": {
    "id": "JJJ_Siy48bQd",
    "outputId": "9188b367-0a94-4bad-caf2-2e463866ea0b"
   },
   "outputs": [
    {
     "data": {
      "application/vnd.google.colaboratory.intrinsic+json": {
       "type": "string"
      },
      "text/plain": [
       "'Chevron operates in the O&G sector, as evidenced by the text mentioning that it is a company in this industry.'"
      ]
     },
     "execution_count": null,
     "metadata": {},
     "output_type": "execute_result"
    }
   ],
   "source": [
    "list(index.property_graph_store.graph.relations.values())[0].properties[\n",
    "    \"relationship_description\"\n",
    "]"
   ]
  },
  {
   "cell_type": "markdown",
   "metadata": {
    "id": "G0QVO4TL8bQd"
   },
   "source": [
    "### Build communities\n",
    "\n",
    "This will create communities and summary for each community."
   ]
  },
  {
   "cell_type": "code",
   "execution_count": null,
   "metadata": {
    "id": "OW5YHIKx8bQd"
   },
   "outputs": [],
   "source": [
    "index.property_graph_store.build_communities()"
   ]
  },
  {
   "cell_type": "markdown",
   "metadata": {
    "id": "Z2VI780F8bQd"
   },
   "source": [
    "### Create QueryEngine"
   ]
  },
  {
   "cell_type": "code",
   "execution_count": null,
   "metadata": {
    "id": "IBnr2Mvg8bQd"
   },
   "outputs": [],
   "source": [
    "query_engine = GraphRAGQueryEngine(\n",
    "    graph_store=index.property_graph_store, llm=llm\n",
    ")"
   ]
  },
  {
   "cell_type": "markdown",
   "metadata": {
    "id": "U0x7G3cG8bQd"
   },
   "source": [
    "### Querying"
   ]
  },
  {
   "cell_type": "code",
   "execution_count": null,
   "metadata": {
    "id": "szY-8EBR8bQd",
    "outputId": "d2763a3d-a000-42eb-ce16-dfb5efa98858"
   },
   "outputs": [
    {
     "data": {
      "text/markdown": [
       "The document discusses various news topics across different sectors. In the business sector, it mentions FirstEnergy being a publicly traded company on the New York Stock Exchange and State Street Corporation being listed on the NYSE. It also discusses Coinbase Global Inc.'s repurchase of $64.5 million worth of 0.50% convertible senior notes and the closure of the startup Protonn. In the political sphere, it highlights a theatrical act performed by Sinn Féin TD John Brady during a debate on retained firefighters. In the tech industry, it discusses the European Commission's actions against ZTE Corp. and TikTok Inc. due to security concerns. In the sports sector, it mentions Manchester United's interest in Harry Kane, the transfer of Jude Bellingham from Borussia Dortmund to Real Madrid, and the negotiation process for Maliek Collins' contract extension with the Houston Texans. In the music industry, it discusses the acquisition of The Hollies' recording catalog by BMG and the distribution pact between ADA Worldwide and Rostrum Records. In the hospitality sector, it mentions the partnership between Supplier.io and Hyatt Hotels. In the energy sector, it discusses the partnership between GE Vernova and Amplus Solar. In the gaming industry, it discusses the creation of the unannounced game \"Star Ocean: The Second Story R\" by Square Enix. In the automotive industry, it mentions the upcoming launch of the Hyundai Exter in India and Stellantis' plans to shut down the Belvidere Assembly Plant. In the airline industry, it discusses Deutsche Bank's decision to upgrade Allegiant Travel's status from Hold to Buy. In the football sector, it discusses the rejected bids made by Arsenal for Rice and the rejected bid received by Chelsea for Mason Mount. In the space industry, it mentions MDA Ltd.'s participation in the Jefferies Virtual Space Summit. In the transportation industry, it discusses Uber's strategic decision to exit the Israeli market and the emergence of Yango as a key player in the Israeli taxi market."
      ],
      "text/plain": [
       "<IPython.core.display.Markdown object>"
      ]
     },
     "metadata": {},
     "output_type": "display_data"
    }
   ],
   "source": [
    "response = query_engine.query(\n",
    "    \"What are the main news discussed in the document?\"\n",
    ")\n",
    "display(Markdown(f\"{response.response}\"))"
   ]
  },
  {
   "cell_type": "code",
   "execution_count": null,
   "metadata": {
    "id": "2QAlEEu58bQd",
    "outputId": "7444ff0c-b04e-44f2-9484-19f8a176cecf"
   },
   "outputs": [
    {
     "data": {
      "text/markdown": [
       "The recent news related to the financial sector includes Morgan Stanley hiring Thomas Christl to co-head its coverage of consumer and retail clients in Europe. KeyBank has expanded its presence in the Western U.S. by opening a new branch in American Fork and donated $10,000 to the Five.12 Foundation. BMG has acquired the recording catalog of The Hollies, and Matt Pincus led a $15 million pre-growth round of investment for Soundtrack Your Brand. Hyatt Hotels and Supplier.io have been honored with the Supply & Demand Chain Executive 2023 Top Supply Chain Projects award. Bank of America Corp. reported a decline in uninsured deposits, while JPMorgan Chase & Co. reported a 1.9% increase in uninsured deposits. Coinbase Global Inc. repurchased $64.5 million worth of 0.50% convertible senior notes and also decided to repurchase its 0.50% Convertible Senior Notes due 2026 for approximately $45.5 million. Deutsche Bank upgraded Allegiant Travel's status from Hold to Buy and increased the price target to $145. Lastly, Tesla Inc.'s stock performance was analyzed by Ihor Dusaniwsky, a managing director at S3 Partners, and the company formed a significant partnership with General Motors Co. in the electric vehicle industry."
      ],
      "text/plain": [
       "<IPython.core.display.Markdown object>"
      ]
     },
     "metadata": {},
     "output_type": "display_data"
    }
   ],
   "source": [
    "response = query_engine.query(\"What are news related to financial sector?\")\n",
    "display(Markdown(f\"{response.response}\"))"
   ]
  },
  {
   "cell_type": "markdown",
   "metadata": {
    "id": "4_9wfKxx8bQd"
   },
   "source": [
    "## Future Work:\n",
    "\n",
    "This cookbook is an approximate implementation of GraphRAG. In future cookbooks, we plan to extend it as follows:\n",
    "\n",
    "1. Implement retrieval using entity description embeddings.\n",
    "2. Integrate with Neo4JPropertyGraphStore.\n",
    "3. Calculate a helpfulness score for each answer generated from the community summaries and filter out answers where the helpfulness score is zero.\n",
    "4. Perform entity disambiguation to remove duplicate entities.\n",
    "5. Implement claims or covariate information extraction, Local Search and Global Search techniques."
   ]
  }
 ],
 "metadata": {
  "colab": {
   "provenance": [],
   "toc_visible": true
  },
  "kernelspec": {
   "display_name": ".venv",
   "language": "python",
   "name": "python3"
  },
  "language_info": {
   "codemirror_mode": {
    "name": "ipython",
    "version": 3
   },
   "file_extension": ".py",
   "mimetype": "text/x-python",
   "name": "python",
   "nbconvert_exporter": "python",
   "pygments_lexer": "ipython3",
   "version": "3.10.3"
  }
 },
 "nbformat": 4,
 "nbformat_minor": 0
}
