{
 "cells": [
  {
   "cell_type": "markdown",
   "metadata": {},
   "source": [
    "# Mlxtend Library for Data Science\n",
    "https://ealizadeh.com/blog/mlxtend-library-for-data-science/"
   ]
  },
  {
   "cell_type": "code",
   "execution_count": null,
   "metadata": {},
   "outputs": [],
   "source": []
  },
  {
   "cell_type": "code",
   "execution_count": 1,
   "metadata": {},
   "outputs": [
    {
     "name": "stdout",
     "output_type": "stream",
     "text": [
      "Collecting mlxtend\n",
      "  Downloading mlxtend-0.23.2-py3-none-any.whl.metadata (7.3 kB)\n",
      "Requirement already satisfied: scipy>=1.2.1 in /Users/ngocp/Documents/projects/finance-bot/.venv/lib/python3.10/site-packages (from mlxtend) (1.12.0)\n",
      "Requirement already satisfied: numpy>=1.16.2 in /Users/ngocp/Documents/projects/finance-bot/.venv/lib/python3.10/site-packages (from mlxtend) (1.24.4)\n",
      "Requirement already satisfied: pandas>=0.24.2 in /Users/ngocp/Documents/projects/finance-bot/.venv/lib/python3.10/site-packages (from mlxtend) (2.2.3)\n",
      "Requirement already satisfied: scikit-learn>=1.3.1 in /Users/ngocp/Documents/projects/finance-bot/.venv/lib/python3.10/site-packages (from mlxtend) (1.5.2)\n",
      "Requirement already satisfied: matplotlib>=3.0.0 in /Users/ngocp/Documents/projects/finance-bot/.venv/lib/python3.10/site-packages (from mlxtend) (3.9.2)\n",
      "Requirement already satisfied: joblib>=0.13.2 in /Users/ngocp/Documents/projects/finance-bot/.venv/lib/python3.10/site-packages (from mlxtend) (1.4.2)\n",
      "Requirement already satisfied: contourpy>=1.0.1 in /Users/ngocp/Documents/projects/finance-bot/.venv/lib/python3.10/site-packages (from matplotlib>=3.0.0->mlxtend) (1.3.0)\n",
      "Requirement already satisfied: cycler>=0.10 in /Users/ngocp/Documents/projects/finance-bot/.venv/lib/python3.10/site-packages (from matplotlib>=3.0.0->mlxtend) (0.12.1)\n",
      "Requirement already satisfied: fonttools>=4.22.0 in /Users/ngocp/Documents/projects/finance-bot/.venv/lib/python3.10/site-packages (from matplotlib>=3.0.0->mlxtend) (4.54.1)\n",
      "Requirement already satisfied: kiwisolver>=1.3.1 in /Users/ngocp/Documents/projects/finance-bot/.venv/lib/python3.10/site-packages (from matplotlib>=3.0.0->mlxtend) (1.4.7)\n",
      "Requirement already satisfied: packaging>=20.0 in /Users/ngocp/Documents/projects/finance-bot/.venv/lib/python3.10/site-packages (from matplotlib>=3.0.0->mlxtend) (24.1)\n",
      "Requirement already satisfied: pillow>=8 in /Users/ngocp/Documents/projects/finance-bot/.venv/lib/python3.10/site-packages (from matplotlib>=3.0.0->mlxtend) (11.0.0)\n",
      "Requirement already satisfied: pyparsing>=2.3.1 in /Users/ngocp/Documents/projects/finance-bot/.venv/lib/python3.10/site-packages (from matplotlib>=3.0.0->mlxtend) (3.2.0)\n",
      "Requirement already satisfied: python-dateutil>=2.7 in /Users/ngocp/Documents/projects/finance-bot/.venv/lib/python3.10/site-packages (from matplotlib>=3.0.0->mlxtend) (2.8.2)\n",
      "Requirement already satisfied: pytz>=2020.1 in /Users/ngocp/Documents/projects/finance-bot/.venv/lib/python3.10/site-packages (from pandas>=0.24.2->mlxtend) (2024.2)\n",
      "Requirement already satisfied: tzdata>=2022.7 in /Users/ngocp/Documents/projects/finance-bot/.venv/lib/python3.10/site-packages (from pandas>=0.24.2->mlxtend) (2024.2)\n",
      "Requirement already satisfied: threadpoolctl>=3.1.0 in /Users/ngocp/Documents/projects/finance-bot/.venv/lib/python3.10/site-packages (from scikit-learn>=1.3.1->mlxtend) (3.5.0)\n",
      "Requirement already satisfied: six>=1.5 in /Users/ngocp/Documents/projects/finance-bot/.venv/lib/python3.10/site-packages (from python-dateutil>=2.7->matplotlib>=3.0.0->mlxtend) (1.16.0)\n",
      "Downloading mlxtend-0.23.2-py3-none-any.whl (1.4 MB)\n",
      "\u001b[2K   \u001b[38;2;114;156;31m━━━━━━━━━━━━━━━━━━━━━━━━━━━━━━━━━━━━━━━━\u001b[0m \u001b[32m1.4/1.4 MB\u001b[0m \u001b[31m1.6 MB/s\u001b[0m eta \u001b[36m0:00:00\u001b[0m MB/s\u001b[0m eta \u001b[36m0:00:01\u001b[0m:01\u001b[0m\n",
      "\u001b[?25hInstalling collected packages: mlxtend\n",
      "Successfully installed mlxtend-0.23.2\n"
     ]
    }
   ],
   "source": [
    "!pip install mlxtend"
   ]
  },
  {
   "cell_type": "code",
   "execution_count": 3,
   "metadata": {},
   "outputs": [],
   "source": [
    "import pandas as pd\n",
    "\n",
    "# Load wine data set (available at https://www.kaggle.com/tug004/3wine-classification-dataset)\n",
    "df = pd.read_csv(\"../data/wine.csv\")\n",
    "\n",
    "# Target values (wine classes) in y\n",
    "y_s = df[\"Wine\"].map({1: 0, 2: 1, 3: 2})  # Convert classes 1, 2, 3 to 0, 1, 2 to avoid strange behavior \n",
    "y = y_s.values\n",
    "\n",
    "# Feature columns \n",
    "X_df = df.drop(columns=[\"Wine\"])\n",
    "X = X_df.values\n",
    "attribute_names = X_df.columns"
   ]
  },
  {
   "cell_type": "code",
   "execution_count": null,
   "metadata": {},
   "outputs": [],
   "source": [
    "from sklearn.linear_model import LogisticRegression\n",
    "clf_logistic_regression = LogisticRegression(random_state=0)\n",
    "clf_logistic_regression.fit(X_2d, y)"
   ]
  },
  {
   "cell_type": "code",
   "execution_count": null,
   "metadata": {},
   "outputs": [],
   "source": [
    "from mlxtend.evaluate import create_counterfactual\n",
    "from mlxtend.plotting import plot_decision_regions\n",
    "\n",
    "counterfact = create_counterfactual(\n",
    "    x_reference=X_2d[15], \n",
    "    y_desired=2, # Desired class\n",
    "    model=clf_logistic_regression, \n",
    "    X_dataset=X_2d,\n",
    "    y_desired_proba=0.95,\n",
    "    lammbda=1, \n",
    "    random_seed=123\n",
    ")\n",
    "\n",
    "scatter_highlight_defaults = {\n",
    "    'c': 'red',\n",
    "    'edgecolor': 'yellow',\n",
    "    'alpha': 1.0,\n",
    "    'linewidths': 2,\n",
    "    'marker': 'o',\n",
    "    's': 120\n",
    "}\n",
    "\n",
    "fig, ax = plt.subplots(figsize=(10, 6))\n",
    "plot_decision_regions(X_2d, y, clf=clf_logistic_regression, legend=2, ax=ax)\n",
    "\n",
    "ax.tick_params(axis='both', which='major', labelsize=24)\n",
    "ax.set_title(\"Create a Counterfactual Record\", fontsize=24, fontweight=\"bold\")\n",
    "ax.set_xlabel(\"Color.int\", fontsize=20, fontweight=\"bold\")\n",
    "ax.set_ylabel(\"Phenols\", fontsize=20, fontweight=\"bold\")\n",
    "\n",
    "ax.scatter(\n",
    "    *counterfact,\n",
    "    **scatter_highlight_defaults\n",
    ")"
   ]
  }
 ],
 "metadata": {
  "kernelspec": {
   "display_name": ".venv",
   "language": "python",
   "name": "python3"
  },
  "language_info": {
   "codemirror_mode": {
    "name": "ipython",
    "version": 3
   },
   "file_extension": ".py",
   "mimetype": "text/x-python",
   "name": "python",
   "nbconvert_exporter": "python",
   "pygments_lexer": "ipython3",
   "version": "3.10.3"
  }
 },
 "nbformat": 4,
 "nbformat_minor": 2
}
