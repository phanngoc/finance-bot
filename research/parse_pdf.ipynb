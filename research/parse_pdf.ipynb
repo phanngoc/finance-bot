{
 "cells": [
  {
   "cell_type": "markdown",
   "metadata": {},
   "source": [
    "https://python.langchain.com/docs/how_to/document_loader_pdf/"
   ]
  },
  {
   "cell_type": "code",
   "execution_count": 1,
   "metadata": {},
   "outputs": [
    {
     "name": "stdout",
     "output_type": "stream",
     "text": [
      "Note: you may need to restart the kernel to use updated packages.\n",
      "Note: you may need to restart the kernel to use updated packages.\n"
     ]
    }
   ],
   "source": [
    "%pip install -qU pypdf==4.0.1\n",
    "%pip install -qU langchain-openai"
   ]
  },
  {
   "cell_type": "code",
   "execution_count": 15,
   "metadata": {},
   "outputs": [
    {
     "name": "stdout",
     "output_type": "stream",
     "text": [
      "Requirement already satisfied: langchain_community in ./.venv/lib/python3.10/site-packages (0.3.2)\n",
      "Requirement already satisfied: PyYAML>=5.3 in ./.venv/lib/python3.10/site-packages (from langchain_community) (6.0.2)\n",
      "Requirement already satisfied: SQLAlchemy<3,>=1.4 in ./.venv/lib/python3.10/site-packages (from langchain_community) (2.0.36)\n",
      "Requirement already satisfied: aiohttp<4.0.0,>=3.8.3 in ./.venv/lib/python3.10/site-packages (from langchain_community) (3.10.10)\n",
      "Requirement already satisfied: dataclasses-json<0.7,>=0.5.7 in ./.venv/lib/python3.10/site-packages (from langchain_community) (0.6.7)\n",
      "Requirement already satisfied: langchain<0.4.0,>=0.3.3 in ./.venv/lib/python3.10/site-packages (from langchain_community) (0.3.3)\n",
      "Requirement already satisfied: langchain-core<0.4.0,>=0.3.10 in ./.venv/lib/python3.10/site-packages (from langchain_community) (0.3.11)\n",
      "Requirement already satisfied: langsmith<0.2.0,>=0.1.125 in ./.venv/lib/python3.10/site-packages (from langchain_community) (0.1.135)\n",
      "Requirement already satisfied: numpy<2,>=1 in ./.venv/lib/python3.10/site-packages (from langchain_community) (1.26.4)\n",
      "Requirement already satisfied: pydantic-settings<3.0.0,>=2.4.0 in ./.venv/lib/python3.10/site-packages (from langchain_community) (2.5.2)\n",
      "Requirement already satisfied: requests<3,>=2 in ./.venv/lib/python3.10/site-packages (from langchain_community) (2.32.3)\n",
      "Requirement already satisfied: tenacity!=8.4.0,<9.0.0,>=8.1.0 in ./.venv/lib/python3.10/site-packages (from langchain_community) (8.5.0)\n",
      "Requirement already satisfied: aiohappyeyeballs>=2.3.0 in ./.venv/lib/python3.10/site-packages (from aiohttp<4.0.0,>=3.8.3->langchain_community) (2.4.3)\n",
      "Requirement already satisfied: aiosignal>=1.1.2 in ./.venv/lib/python3.10/site-packages (from aiohttp<4.0.0,>=3.8.3->langchain_community) (1.3.1)\n",
      "Requirement already satisfied: attrs>=17.3.0 in ./.venv/lib/python3.10/site-packages (from aiohttp<4.0.0,>=3.8.3->langchain_community) (24.2.0)\n",
      "Requirement already satisfied: frozenlist>=1.1.1 in ./.venv/lib/python3.10/site-packages (from aiohttp<4.0.0,>=3.8.3->langchain_community) (1.4.1)\n",
      "Requirement already satisfied: multidict<7.0,>=4.5 in ./.venv/lib/python3.10/site-packages (from aiohttp<4.0.0,>=3.8.3->langchain_community) (6.1.0)\n",
      "Requirement already satisfied: yarl<2.0,>=1.12.0 in ./.venv/lib/python3.10/site-packages (from aiohttp<4.0.0,>=3.8.3->langchain_community) (1.15.3)\n",
      "Requirement already satisfied: async-timeout<5.0,>=4.0 in ./.venv/lib/python3.10/site-packages (from aiohttp<4.0.0,>=3.8.3->langchain_community) (4.0.3)\n",
      "Requirement already satisfied: marshmallow<4.0.0,>=3.18.0 in ./.venv/lib/python3.10/site-packages (from dataclasses-json<0.7,>=0.5.7->langchain_community) (3.22.0)\n",
      "Requirement already satisfied: typing-inspect<1,>=0.4.0 in ./.venv/lib/python3.10/site-packages (from dataclasses-json<0.7,>=0.5.7->langchain_community) (0.9.0)\n",
      "Requirement already satisfied: langchain-text-splitters<0.4.0,>=0.3.0 in ./.venv/lib/python3.10/site-packages (from langchain<0.4.0,>=0.3.3->langchain_community) (0.3.0)\n",
      "Requirement already satisfied: pydantic<3.0.0,>=2.7.4 in ./.venv/lib/python3.10/site-packages (from langchain<0.4.0,>=0.3.3->langchain_community) (2.9.2)\n",
      "Requirement already satisfied: jsonpatch<2.0,>=1.33 in ./.venv/lib/python3.10/site-packages (from langchain-core<0.4.0,>=0.3.10->langchain_community) (1.33)\n",
      "Requirement already satisfied: packaging<25,>=23.2 in ./.venv/lib/python3.10/site-packages (from langchain-core<0.4.0,>=0.3.10->langchain_community) (24.1)\n",
      "Requirement already satisfied: typing-extensions>=4.7 in ./.venv/lib/python3.10/site-packages (from langchain-core<0.4.0,>=0.3.10->langchain_community) (4.12.2)\n",
      "Requirement already satisfied: httpx<1,>=0.23.0 in ./.venv/lib/python3.10/site-packages (from langsmith<0.2.0,>=0.1.125->langchain_community) (0.27.2)\n",
      "Requirement already satisfied: orjson<4.0.0,>=3.9.14 in ./.venv/lib/python3.10/site-packages (from langsmith<0.2.0,>=0.1.125->langchain_community) (3.10.7)\n",
      "Requirement already satisfied: requests-toolbelt<2.0.0,>=1.0.0 in ./.venv/lib/python3.10/site-packages (from langsmith<0.2.0,>=0.1.125->langchain_community) (1.0.0)\n",
      "Requirement already satisfied: python-dotenv>=0.21.0 in ./.venv/lib/python3.10/site-packages (from pydantic-settings<3.0.0,>=2.4.0->langchain_community) (1.0.1)\n",
      "Requirement already satisfied: charset-normalizer<4,>=2 in ./.venv/lib/python3.10/site-packages (from requests<3,>=2->langchain_community) (3.4.0)\n",
      "Requirement already satisfied: idna<4,>=2.5 in ./.venv/lib/python3.10/site-packages (from requests<3,>=2->langchain_community) (3.10)\n",
      "Requirement already satisfied: urllib3<3,>=1.21.1 in ./.venv/lib/python3.10/site-packages (from requests<3,>=2->langchain_community) (2.2.3)\n",
      "Requirement already satisfied: certifi>=2017.4.17 in ./.venv/lib/python3.10/site-packages (from requests<3,>=2->langchain_community) (2024.8.30)\n",
      "Requirement already satisfied: anyio in ./.venv/lib/python3.10/site-packages (from httpx<1,>=0.23.0->langsmith<0.2.0,>=0.1.125->langchain_community) (4.6.2.post1)\n",
      "Requirement already satisfied: httpcore==1.* in ./.venv/lib/python3.10/site-packages (from httpx<1,>=0.23.0->langsmith<0.2.0,>=0.1.125->langchain_community) (1.0.6)\n",
      "Requirement already satisfied: sniffio in ./.venv/lib/python3.10/site-packages (from httpx<1,>=0.23.0->langsmith<0.2.0,>=0.1.125->langchain_community) (1.3.1)\n",
      "Requirement already satisfied: h11<0.15,>=0.13 in ./.venv/lib/python3.10/site-packages (from httpcore==1.*->httpx<1,>=0.23.0->langsmith<0.2.0,>=0.1.125->langchain_community) (0.14.0)\n",
      "Requirement already satisfied: jsonpointer>=1.9 in ./.venv/lib/python3.10/site-packages (from jsonpatch<2.0,>=1.33->langchain-core<0.4.0,>=0.3.10->langchain_community) (3.0.0)\n",
      "Requirement already satisfied: annotated-types>=0.6.0 in ./.venv/lib/python3.10/site-packages (from pydantic<3.0.0,>=2.7.4->langchain<0.4.0,>=0.3.3->langchain_community) (0.7.0)\n",
      "Requirement already satisfied: pydantic-core==2.23.4 in ./.venv/lib/python3.10/site-packages (from pydantic<3.0.0,>=2.7.4->langchain<0.4.0,>=0.3.3->langchain_community) (2.23.4)\n",
      "Requirement already satisfied: mypy-extensions>=0.3.0 in ./.venv/lib/python3.10/site-packages (from typing-inspect<1,>=0.4.0->dataclasses-json<0.7,>=0.5.7->langchain_community) (1.0.0)\n",
      "Requirement already satisfied: propcache>=0.2.0 in ./.venv/lib/python3.10/site-packages (from yarl<2.0,>=1.12.0->aiohttp<4.0.0,>=3.8.3->langchain_community) (0.2.0)\n",
      "Requirement already satisfied: exceptiongroup>=1.0.2 in ./.venv/lib/python3.10/site-packages (from anyio->httpx<1,>=0.23.0->langsmith<0.2.0,>=0.1.125->langchain_community) (1.2.2)\n",
      "Collecting pypdfium2\n",
      "  Downloading pypdfium2-4.30.0-py3-none-macosx_11_0_arm64.whl.metadata (48 kB)\n",
      "Downloading pypdfium2-4.30.0-py3-none-macosx_11_0_arm64.whl (2.7 MB)\n",
      "\u001b[2K   \u001b[38;2;114;156;31m━━━━━━━━━━━━━━━━━━━━━━━━━━━━━━━━━━━━━━━━\u001b[0m \u001b[32m2.7/2.7 MB\u001b[0m \u001b[31m897.2 kB/s\u001b[0m eta \u001b[36m0:00:00\u001b[0m1m910.6 kB/s\u001b[0m eta \u001b[36m0:00:01\u001b[0m\n",
      "\u001b[?25hInstalling collected packages: pypdfium2\n",
      "Successfully installed pypdfium2-4.30.0\n"
     ]
    }
   ],
   "source": [
    "!pip install langchain_community\n",
    "!pip install pypdfium2"
   ]
  },
  {
   "cell_type": "code",
   "execution_count": 16,
   "metadata": {},
   "outputs": [],
   "source": [
    "FOLDER_DATA = '../data'\n",
    "file_path = FOLDER_DATA + '/VHM_Baocaotaichinh_6T_2024_Soatxet_Congtyme_DieuChinh.pdf'"
   ]
  },
  {
   "cell_type": "code",
   "execution_count": null,
   "metadata": {},
   "outputs": [],
   "source": [
    "from pypdf import PdfReader\n",
    "import os\n",
    "import shutil\n",
    "\n",
    "file_name = os.path.basename(file_path)\n",
    "reader = PdfReader(file_path)\n",
    "\n",
    "page = reader.pages[0]\n",
    "\n",
    "outputDir = './output/' + file_name + '/'\n",
    "\n",
    "# Remove all files in the output directory\n",
    "if os.path.exists(outputDir):\n",
    "    shutil.rmtree(outputDir)\n",
    "os.makedirs(outputDir)\n",
    "\n",
    "numberPage = 4\n",
    "for count, image_file_object in enumerate(reader.pages[numberPage].images):\n",
    "    with open(outputDir + str(numberPage) + \"_\" + image_file_object.name, \"wb\") as fp:\n",
    "        fp.write(image_file_object.data)"
   ]
  },
  {
   "cell_type": "markdown",
   "metadata": {},
   "source": [
    "## Viết hàm extract ảnh từ file pdf sử dụng thư viện PyMuPDF\n",
    "\n",
    "Cơ mà hình như thư viện PyMuPDF không hỗ trợ việc extract ảnh từ file pdf, nên mình sẽ sử dụng thư viện pdf2image để extract ảnh từ file pdf."
   ]
  },
  {
   "cell_type": "code",
   "execution_count": 44,
   "metadata": {},
   "outputs": [
    {
     "name": "stdout",
     "output_type": "stream",
     "text": [
      "Extract_text:page:0: \n",
      "Extract_text:page:1: \n",
      "Extract_text:page:2: \n",
      "Extract_text:page:3: \n",
      "Extract_text:page:4: \n",
      "Extract_text:page:5: \n",
      "Extract_text:page:6: \n",
      "Extract_text:page:7: \n",
      "Extract_text:page:8: \n",
      "Extract_text:page:9: \n",
      "Extract_text:page:10: \n",
      "Extract_text:page:11: \n",
      "Extract_text:page:12: \n",
      "Extract_text:page:13: \n",
      "Extract_text:page:14: \n",
      "Extract_text:page:15: \n",
      "Extract_text:page:16: \n",
      "Extract_text:page:17: \n",
      "Extract_text:page:18: \n",
      "Extract_text:page:19: \n",
      "Extract_text:page:20: \n",
      "Extract_text:page:21: \n",
      "Extract_text:page:22: \n",
      "Extract_text:page:23: \n",
      "Extract_text:page:24: \n",
      "Extract_text:page:25: \n",
      "Extract_text:page:26: \n",
      "Extract_text:page:27: \n",
      "Extract_text:page:28: \n",
      "Extract_text:page:29: \n",
      "Extract_text:page:30: \n",
      "Extract_text:page:31: \n",
      "Extract_text:page:32: \n",
      "Extract_text:page:33: \n",
      "Extract_text:page:34: \n",
      "Extract_text:page:35: \n",
      "Extract_text:page:36: \n",
      "Extract_text:page:37: \n",
      "Extract_text:page:38: \n",
      "Extract_text:page:39: \n",
      "Extract_text:page:40: \n",
      "Extract_text:page:41: \n",
      "Extract_text:page:42: \n",
      "Extract_text:page:43: \n",
      "Extract_text:page:44: \n",
      "Extract_text:page:45: \n",
      "Extract_text:page:46: \n",
      "Extract_text:page:47: \n",
      "Extract_text:page:48: \n",
      "Extract_text:page:49: \n",
      "Extract_text:page:50: \n",
      "Extract_text:page:51: \n",
      "Extract_text:page:52: \n",
      "Extract_text:page:53: \n",
      "Extract_text:page:54: \n",
      "Extract_text:page:55: \n",
      "Extract_text:page:56: \n",
      "Extract_text:page:57: \n",
      "Extract_text:page:58: \n",
      "Extract_text:page:59: \n",
      "Extract_text:page:60: \n",
      "Extract_text:page:61: \n"
     ]
    }
   ],
   "source": [
    "from pypdf import PdfReader\n",
    "import os\n",
    "import shutil\n",
    "\n",
    "def process_pdf(file_path):\n",
    "    file_name = os.path.basename(file_path)\n",
    "    reader = PdfReader(file_path)\n",
    "\n",
    "    outputDir = './output/' + file_name + '/'\n",
    "\n",
    "    # Remove all files in the output directory\n",
    "    if os.path.exists(outputDir):\n",
    "        shutil.rmtree(outputDir)\n",
    "    os.makedirs(outputDir)\n",
    "\n",
    "    for count, page in enumerate(reader.pages):\n",
    "        print(f\"Extract_text:page:{count}:\" , page.extract_text()[:100])\n",
    "        for count, image_file_object in enumerate(page.images):\n",
    "            with open(outputDir + str(count) + \"_\" + image_file_object.name, \"wb\") as fp:\n",
    "                fp.write(image_file_object.data)\n",
    "\n",
    "\n",
    "process_pdf('./data/1722335669_BCTC_SOAT_XET_6T.2024___HOP_NHAT_-_VN_.pdf')\n"
   ]
  },
  {
   "cell_type": "code",
   "execution_count": null,
   "metadata": {},
   "outputs": [],
   "source": []
  },
  {
   "cell_type": "code",
   "execution_count": 45,
   "metadata": {},
   "outputs": [
    {
     "name": "stdout",
     "output_type": "stream",
     "text": [
      "Collecting pytesseract\n",
      "  Downloading pytesseract-0.3.13-py3-none-any.whl.metadata (11 kB)\n",
      "Collecting pdf2image\n",
      "  Downloading pdf2image-1.17.0-py3-none-any.whl.metadata (6.2 kB)\n",
      "Requirement already satisfied: packaging>=21.3 in ./.venv/lib/python3.10/site-packages (from pytesseract) (24.1)\n",
      "Requirement already satisfied: Pillow>=8.0.0 in ./.venv/lib/python3.10/site-packages (from pytesseract) (11.0.0)\n",
      "Downloading pytesseract-0.3.13-py3-none-any.whl (14 kB)\n",
      "Downloading pdf2image-1.17.0-py3-none-any.whl (11 kB)\n",
      "Installing collected packages: pytesseract, pdf2image\n",
      "Successfully installed pdf2image-1.17.0 pytesseract-0.3.13\n",
      "Note: you may need to restart the kernel to use updated packages.\n"
     ]
    }
   ],
   "source": [
    "%pip install pytesseract pdf2image"
   ]
  },
  {
   "cell_type": "markdown",
   "metadata": {},
   "source": [
    "## Dùng thư viện pdf2image để extract ảnh từ file pdf và pytesseract để nhận diện chữ viết trên ảnh\n",
    "\n",
    "Ở đây mìh sử dụng lib poppler để convert pdf sang ảnh, nên cần cài đặt poppler trước khi cài pdf2image."
   ]
  },
  {
   "cell_type": "code",
   "execution_count": null,
   "metadata": {},
   "outputs": [],
   "source": [
    "!HOMEBREW_NO_AUTO_UPDATE=1 brew install poppler"
   ]
  },
  {
   "cell_type": "code",
   "execution_count": 50,
   "metadata": {},
   "outputs": [
    {
     "name": "stdout",
     "output_type": "stream",
     "text": [
      "pdfinfo version 24.04.0\n",
      "Copyright 2005-2024 The Poppler Developers - http://poppler.freedesktop.org\n",
      "Copyright 1996-2011, 2022 Glyph & Cog, LLC\n"
     ]
    }
   ],
   "source": [
    "!pdfinfo -v"
   ]
  },
  {
   "cell_type": "code",
   "execution_count": 48,
   "metadata": {},
   "outputs": [
    {
     "name": "stdout",
     "output_type": "stream",
     "text": [
      "type: <class 'list'>\n"
     ]
    }
   ],
   "source": [
    "## write a function to extract text from pdf\n",
    "import pytesseract\n",
    "from pdf2image import convert_from_path\n",
    "\n",
    "def extract_text_from_pdf(pdf_path):\n",
    "    images = convert_from_path(pdf_path)\n",
    "    print('type:', type(images))\n",
    "    text = ''\n",
    "    for image in images:\n",
    "        text += pytesseract.image_to_string(image)\n",
    "    return text\n",
    "\n",
    "text = extract_text_from_pdf(file_path)"
   ]
  },
  {
   "cell_type": "code",
   "execution_count": 61,
   "metadata": {},
   "outputs": [
    {
     "name": "stdout",
     "output_type": "stream",
     "text": [
      "text:  c4o tai chinh trén theo quy dinh thi Céng ty phat hién mét sé sai sot\n",
      "phat sinh trong qué trinh in an, dan dén cac bao cdo tai chinh gitta nién d6 va thuyét minh chi tiét\n",
      "da cong bé chua phi hgp véi cdc bao cdo tai chinh gitta nién d6 da duge soat xét boi Céng ty\n",
      "Trach nhiém Htru han Ernst & Young Viét Nam, cy thé nhw sau:\n",
      "\n",
      "(don vi tinh: trigu déng)\n",
      "6 nam 2024, trang 36 8:\n",
      "\n",
      "Da trinh bay | Sita di thanh\n",
      "\n",
      "156.809.881 156.809.497\n",
      "38.004.288 38.003.904\n",
      "\n",
      "1. Trén Bang can d6i ké toan riéng gitta nién dé tai ngay 30 thang\n",
      "Ma sé | Tai san\n",
      "\n",
      "B. TAI SAN DAI HAN _\n",
      "VI. Tai san dai han khac\n",
      "1, Chi phi tra trude dai han\n",
      "2. Tai san thué thu nhap\n",
      "TONG CONG TAI SAN (270 = 100 + 200)\n",
      "\n",
      "261\n",
      "\n",
      "366.581.789 366.581.405 |\n",
      "\n",
      "2. Trén Thuyét minh s6 11 — Chi phi tra trudc, trang sé 33:\n",
      "\n",
      "Dai han\n",
      "\n",
      "ae phi tra trudc dai han khac\n",
      "ONG CONG\n",
      "3. Trén Thuyét minh s6 32.3 — Thué TNDN ho&n lai, trang sé 61:\n",
      "Da trinh ba Sia doi thanh\n",
      "Wadi san thué thu nhdp hoan lai\n",
      "Chénh léch tam thoi lién quan loi nhuén chua thyc hién\n",
      "cua cac\n"
     ]
    }
   ],
   "source": [
    "print('text:', text[1000:2000])"
   ]
  },
  {
   "cell_type": "markdown",
   "metadata": {},
   "source": [
    "Test thử dùng PyPDFLoader để extract text, nhưng có vẻ bị lỗi tự bị nhập lại."
   ]
  },
  {
   "cell_type": "code",
   "execution_count": 60,
   "metadata": {},
   "outputs": [
    {
     "name": "stdout",
     "output_type": "stream",
     "text": [
      "{'source': './data/1722336031_VNM_-_Thuyết_trình_KQKD_Q2.2024_.pdf', 'page': 8}\n",
      "\n",
      "page_content:8: Giai đoạn  6T kết thúc ngày  30/06/2024Mộtsốbáo cáo trong bài Thuyết  trình có thểbao gồm “các nhận  định trong  tương lai”,baogồmcảthông tintàichínhdự \n",
      "phóng .Các báocáovàthông tintàichínhdự phóng  này chứa  đựng  cácrủirođãbiếtvàchưabiết,cácyếutốkhôngchắcchắn\n",
      "vàcácyếutốkhác cóthểkhiến  kếtquảthựctế,hiệu suất hoặc thành tíchcủaCông tyCổphầnSữaViệt Nam (“VNM”  hoặc  \n",
      "“Công  ty”),hoặc các kếtquảngành ,có sựkhácbiệttrọng  yếusovớibấtkỳkếtquả,hiệusuấthoặc thành tíchnàotrongtương\n",
      "laiđượcthểhiệnhoặcngụýbởicácbáocáovàthông tintàichínhdự phóng .Các báocáovàthông tintàichínhdự phóng  dựa\n",
      "trênnhiềugiảđịnh liênquanđếnchiếnlược kinh doanhhiệntạivàtương laicủaVNM  vàmôitrường màVNMsẽhoạtđộng\n",
      "trongtương lai.Vìnhững báocáovàthông tintàichính nàyphản ánhquanđiểmhiệntạicủaVNMvềcácsựkiện trongtương\n",
      "lai,những báo cáovàthông tintàichính nàycó chứa  đựngrủiro,sựkhôngchắcchắn vàcác giảđịnh.Kết quả thựctếtrong\n",
      "tương laicóthểkhácbiệttrọng  yếu vớicácbáocáovàthông tintàichínhdự phóng  này.\n",
      "VNM  từchốimọinghĩavụhoặc camkếtphát hành công khaibấtkỳcậpnhậthoặcsửađổinàođốivớibấtkỳtuyênbốhoặc\n",
      "thông tintàichínhdự phóng  được đề cập trong bài Thuyết  trình nàyđểphản ánhbấtkỳthayđổinàotrong cáckỳvọngcủa\n",
      "VNM  đếnbấtkỳthayđổinàotrong cácsựkiện,điềukiệnhoặc hoàncảnh mà các tuyênbốhoặc thông tinđược  dựatrên.\n",
      "BàiThuyết  trình nàybaogồmdữliệuthịtrường vàngành vàdựbáo thuđượctừkhảo sátnộibộ,báo cáovà cácnghiêncứu \n",
      "phù hợp,cũngnhư nghiêncứuthịtrường, thông tincósẵncông khai vàcácấnphẩm ngành .Cácấnphẩm  ngành ,khảo sátvà\n",
      "dựbáonhìn chung nóirằng thông tinhọcung  cấpđượclấy từcácnguồnđược cholàđáng tincậy,nhưng khôngthểđảmbảo\n",
      "tínhchính xáchoặcđầyđủcủathông tinđượcsử dụng .Mặc dùVNMđãthựchiện cácbướchợplýđểđảmbảorằng thông tin\n",
      "được tríchxuất chính xácvàtrongbốicảnh phùhợp,nhưng VNM chưaxácminhđộclậpbấtkỳdữliệunàotừcácnguồncủa\n",
      "bênthứbahoặc xácđịnh cácgiảđịnh kinhtếcơbảnliên quan .\n",
      "22Miễn  Trừ  Trách  Nhiệm\n"
     ]
    }
   ],
   "source": [
    "from langchain_community.document_loaders import PyPDFLoader\n",
    "from langchain_community.document_loaders import PyPDFium2Loader\n",
    "\n",
    "loader = PyPDFLoader('./data/1722336031_VNM_-_Thuyết_trình_KQKD_Q2.2024_.pdf')\n",
    "pages = []\n",
    "async for page in loader.alazy_load():\n",
    "    pages.append(page)\n",
    "print(f\"{pages[8].metadata}\\n\")\n",
    "print('page_content:8:', pages[20].page_content)\n",
    "\n",
    "# loader = PyPDFium2Loader(file_path)\n",
    "# data = loader.load()\n",
    "\n",
    "# print(f\"{data[1]}\\n\")\n",
    "\n"
   ]
  },
  {
   "cell_type": "code",
   "execution_count": 65,
   "metadata": {},
   "outputs": [
    {
     "name": "stdout",
     "output_type": "stream",
     "text": [
      "Collecting pymupdf\n",
      "  Downloading PyMuPDF-1.24.11-cp38-abi3-macosx_11_0_arm64.whl.metadata (3.4 kB)\n",
      "Downloading PyMuPDF-1.24.11-cp38-abi3-macosx_11_0_arm64.whl (18.2 MB)\n",
      "\u001b[2K   \u001b[38;2;114;156;31m━━━━━━━━━━━━━━━━━━━━━━━━━━━━━━━━━━━━━━━━\u001b[0m \u001b[32m18.2/18.2 MB\u001b[0m \u001b[31m9.3 MB/s\u001b[0m eta \u001b[36m0:00:00\u001b[0m[31m9.6 MB/s\u001b[0m eta \u001b[36m0:00:01\u001b[0m\n",
      "\u001b[?25hInstalling collected packages: pymupdf\n",
      "Successfully installed pymupdf-1.24.11\n"
     ]
    }
   ],
   "source": [
    "!pip install pymupdf"
   ]
  },
  {
   "cell_type": "code",
   "execution_count": 1,
   "metadata": {},
   "outputs": [
    {
     "ename": "NameError",
     "evalue": "name 'FOLDER_DATA' is not defined",
     "output_type": "error",
     "traceback": [
      "\u001b[0;31m---------------------------------------------------------------------------\u001b[0m",
      "\u001b[0;31mNameError\u001b[0m                                 Traceback (most recent call last)",
      "Cell \u001b[0;32mIn[1], line 3\u001b[0m\n\u001b[1;32m      1\u001b[0m \u001b[38;5;28;01mimport\u001b[39;00m \u001b[38;5;21;01mfitz\u001b[39;00m \n\u001b[0;32m----> 3\u001b[0m file_path \u001b[38;5;241m=\u001b[39m \u001b[43mFOLDER_DATA\u001b[49m \u001b[38;5;241m+\u001b[39m \u001b[38;5;124m'\u001b[39m\u001b[38;5;124m/1722336031_VNM_-_Thuyết_trình_KQKD_Q2.2024_.pdf\u001b[39m\u001b[38;5;124m'\u001b[39m\n\u001b[1;32m      5\u001b[0m pdf_document \u001b[38;5;241m=\u001b[39m fitz\u001b[38;5;241m.\u001b[39mopen(file_path)\n",
      "\u001b[0;31mNameError\u001b[0m: name 'FOLDER_DATA' is not defined"
     ]
    }
   ],
   "source": [
    "import fitz \n",
    "\n",
    "file_path = FOLDER_DATA + '/1722336031_VNM_-_Thuyết_trình_KQKD_Q2.2024_.pdf'\n",
    "\n",
    "pdf_document = fitz.open(file_path)"
   ]
  },
  {
   "cell_type": "code",
   "execution_count": 74,
   "metadata": {},
   "outputs": [
    {
     "name": "stdout",
     "output_type": "stream",
     "text": [
      "pdf_document: [113]\n"
     ]
    }
   ],
   "source": [
    "print('pdf_document:', pdf_document[5].get_contents())"
   ]
  },
  {
   "cell_type": "code",
   "execution_count": 75,
   "metadata": {},
   "outputs": [],
   "source": [
    "from llama_index.readers.file import PyMuPDFReader\n",
    "loader = PyMuPDFReader()\n",
    "documents = loader.load(file_path=file_path)"
   ]
  },
  {
   "cell_type": "code",
   "execution_count": 80,
   "metadata": {},
   "outputs": [
    {
     "name": "stdout",
     "output_type": "stream",
     "text": [
      "documents: {'total_pages': 22, 'file_path': './data/1722336031_VNM_-_Thuyết_trình_KQKD_Q2.2024_.pdf', 'source': '1'}\n",
      "page_content: Doc ID: 89acc683-ece1-4261-8742-a956f4e39ad9\n",
      "Text: Giai đoạn 6T kết thúc ngày 30/06/2024 LNST tăng mạnh 20,9% YoY\n",
      "nhờ doanh thu  phục hồi và lợi nhuận gộp, là quý thứ3 liên tiếp tăng\n",
      "trưởng trên 15% Biên LNST +151 đcb YoY 39,7% 42,2% 14,7% 15,6% 6T23\n",
      "6T24 Biên LNG Biên LNR 4.135  4.903  6T23 6T24 LNST +18,6% 13,7% 14,7%\n",
      "16,2% 15,1% 15,6% 16,2% Q1 Q2 Q3 Q4 Biên lãi gộp trong Q2 tiếp tục xu\n",
      "hướng ...\n"
     ]
    }
   ],
   "source": [
    "print('documents:', documents[0].metadata)\n",
    "print('page_content:', documents[5])"
   ]
  },
  {
   "cell_type": "code",
   "execution_count": null,
   "metadata": {},
   "outputs": [],
   "source": [
    "import getpass\n",
    "import os\n",
    "\n",
    "if \"OPENAI_API_KEY\" not in os.environ:\n",
    "    os.environ[\"OPENAI_API_KEY\"] = getpass.getpass(\"OpenAI API Key:\")"
   ]
  },
  {
   "cell_type": "code",
   "execution_count": 11,
   "metadata": {},
   "outputs": [
    {
     "name": "stdout",
     "output_type": "stream",
     "text": [
      "Page 0: \n",
      "\n",
      "Page 1: \n",
      "\n"
     ]
    }
   ],
   "source": [
    "from langchain_core.vectorstores import InMemoryVectorStore\n",
    "from langchain_openai import OpenAIEmbeddings\n",
    "\n",
    "vector_store = InMemoryVectorStore.from_documents(pages, OpenAIEmbeddings())\n",
    "docs = vector_store.similarity_search(\"tài chính\", k=2)\n",
    "for doc in docs:\n",
    "    print(f'Page {doc.metadata[\"page\"]}: {doc.page_content[:300]}\\n')"
   ]
  }
 ],
 "metadata": {
  "kernelspec": {
   "display_name": ".venv",
   "language": "python",
   "name": "python3"
  },
  "language_info": {
   "codemirror_mode": {
    "name": "ipython",
    "version": 3
   },
   "file_extension": ".py",
   "mimetype": "text/x-python",
   "name": "python",
   "nbconvert_exporter": "python",
   "pygments_lexer": "ipython3",
   "version": "3.10.3"
  }
 },
 "nbformat": 4,
 "nbformat_minor": 2
}
